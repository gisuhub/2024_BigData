{
 "cells": [
  {
   "cell_type": "markdown",
   "id": "486db4f4",
   "metadata": {},
   "source": [
    "## 30915_전종현_0318_1"
   ]
  },
  {
   "cell_type": "markdown",
   "id": "bb7966e5",
   "metadata": {},
   "source": [
    "> 실행 결과\n",
    "\n",
    "```\n",
    "세 정수의 최댓값을 구합니다.\n",
    "정수 a의 값을 입력하세요. : 1\n",
    "정수 b의 값을 입력하세요. : 3\n",
    "정수 c의 값을 입력하세요. : 2\n",
    "최댓값은  3 입니다.\n",
    "```"
   ]
  },
  {
   "cell_type": "code",
   "execution_count": 10,
   "id": "76bfe619",
   "metadata": {},
   "outputs": [
    {
     "name": "stdout",
     "output_type": "stream",
     "text": [
      "세 정수의 최댓값을 구합니다.\n",
      "정수 a의 값을 입력하세요. : 4\n",
      "정수 b의 값을 입력하세요. : 5\n",
      "정수 c의 값을 입력하세요. : 1\n",
      "최댓값은  5 입니다.\n"
     ]
    }
   ],
   "source": [
    "print(\"세 정수의 최댓값을 구합니다.\")\n",
    "a = int(input('정수 a의 값을 입력하세요. : '))\n",
    "b = int(input('정수 b의 값을 입력하세요. : '))\n",
    "c = int(input('정수 c의 값을 입력하세요. : '))\n",
    "print('최댓값은 ',max(a,b,c),'입니다.')"
   ]
  },
  {
   "cell_type": "code",
   "execution_count": 13,
   "id": "0b8417f7",
   "metadata": {},
   "outputs": [
    {
     "name": "stdout",
     "output_type": "stream",
     "text": [
      "세 정수의 최댓값을 구합니다.\n",
      "정수 a의 값을 입력하세요. : 1\n",
      "정수 b의 값을 입력하세요. : 2\n",
      "정수 c의 값을 입력하세요. : 3\n",
      "최댓값을 3입니다.\n"
     ]
    }
   ],
   "source": [
    "print(\"세 정수의 최댓값을 구합니다.\")\n",
    "a = int(input('정수 a의 값을 입력하세요. : '))\n",
    "b = int(input('정수 b의 값을 입력하세요. : '))\n",
    "c = int(input('정수 c의 값을 입력하세요. : '))\n",
    "\n",
    "max = a\n",
    "if b>max : max = b\n",
    "if c> max : max=c\n",
    "\n",
    "print(f'최댓값을 {max}입니다.')    "
   ]
  },
  {
   "cell_type": "markdown",
   "id": "ae78516c",
   "metadata": {},
   "source": [
    "```\n",
    "정수를 입력하세요. : 1\n",
    "이 수는 양수입니다.\n",
    "\n",
    "정수를 입력하세요. : -1\n",
    "이 수는 음수입니다.\n",
    "\n",
    "정수를 입력하세요. : 0\n",
    "이 수는 0입니다\n",
    "```"
   ]
  },
  {
   "cell_type": "code",
   "execution_count": 21,
   "id": "ee3d9e67",
   "metadata": {},
   "outputs": [
    {
     "name": "stdout",
     "output_type": "stream",
     "text": [
      "정수를 입력하세요. : -1\n",
      "이 수는 음수입니다.\n"
     ]
    }
   ],
   "source": [
    "a = int(input('정수를 입력하세요. : '))\n",
    "if a>0 :\n",
    "    print('이 수는 양수입니다.')\n",
    "elif a<0 :\n",
    "    print('이 수는 음수입니다.')\n",
    "else :\n",
    "    print('이 수는 0입니다')"
   ]
  },
  {
   "cell_type": "code",
   "execution_count": 34,
   "id": "40b1efd4",
   "metadata": {},
   "outputs": [
    {
     "name": "stdout",
     "output_type": "stream",
     "text": [
      "1부터 n까지 정수의 합을 구합니다.\n",
      "n 값을 입력하세요.10000\n",
      "1부터 10000까지 정수의 합은 50005000입니다.\n"
     ]
    }
   ],
   "source": [
    "print('1부터 n까지 정수의 합을 구합니다.')\n",
    "n = int(input(\"n 값을 입력하세요.\"))\n",
    "\n",
    "sum = 0\n",
    "i = 1\n",
    "\n",
    "while i <= n :\n",
    "    sum += i\n",
    "    i += 1\n",
    "    \n",
    "print(f'1부터 {n}까지 정수의 합은 {sum}입니다.')"
   ]
  },
  {
   "cell_type": "code",
   "execution_count": null,
   "id": "e8bd7580",
   "metadata": {},
   "outputs": [],
   "source": []
  }
 ],
 "metadata": {
  "kernelspec": {
   "display_name": "Python 3 (ipykernel)",
   "language": "python",
   "name": "python3"
  },
  "language_info": {
   "codemirror_mode": {
    "name": "ipython",
    "version": 3
   },
   "file_extension": ".py",
   "mimetype": "text/x-python",
   "name": "python",
   "nbconvert_exporter": "python",
   "pygments_lexer": "ipython3",
   "version": "3.9.7"
  }
 },
 "nbformat": 4,
 "nbformat_minor": 5
}
