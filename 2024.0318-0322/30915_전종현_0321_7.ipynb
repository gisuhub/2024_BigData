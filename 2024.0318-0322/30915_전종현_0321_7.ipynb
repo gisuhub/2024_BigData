{
 "cells": [
  {
   "cell_type": "markdown",
   "id": "303acaaa",
   "metadata": {},
   "source": [
    "## 30915_전종현_0321_7"
   ]
  },
  {
   "cell_type": "code",
   "execution_count": 10,
   "id": "83323125",
   "metadata": {},
   "outputs": [
    {
     "name": "stdout",
     "output_type": "stream",
     "text": [
      "+와 - 를 번갈아 출력합니다.\n",
      "몇 개를 출력할까요? : 12\n",
      "+-+-+-+-+-+-"
     ]
    }
   ],
   "source": [
    "print(\"+와 - 를 번갈아 출력합니다.\")\n",
    "\n",
    "n = int(input(\"몇 개를 출력할까요? : \"))\n",
    "\n",
    "for i in range(n):\n",
    "    if i%2:\n",
    "        print(\"-\",end='')\n",
    "    else:\n",
    "        print(\"+\",end='')"
   ]
  },
  {
   "cell_type": "code",
   "execution_count": 16,
   "id": "05cf9510",
   "metadata": {},
   "outputs": [
    {
     "name": "stdout",
     "output_type": "stream",
     "text": [
      "+와 - 를 번갈아 출력합니다.\n",
      "몇 개를 출력할까요? : 12\n",
      "+-+-+-+-+-+-"
     ]
    }
   ],
   "source": [
    "print(\"+와 - 를 번갈아 출력합니다.\")\n",
    "\n",
    "n = int(input(\"몇 개를 출력할까요? : \"))\n",
    "\n",
    "for i in range(1,n+1):  # 처음값 마지막값\n",
    "    if i%2:\n",
    "        print(\"+\",end='')\n",
    "    else:\n",
    "        print(\"-\",end='')"
   ]
  },
  {
   "cell_type": "code",
   "execution_count": 22,
   "id": "b5ef16af",
   "metadata": {},
   "outputs": [
    {
     "name": "stdout",
     "output_type": "stream",
     "text": [
      "+와 - 를 번갈아 출력합니다.\n",
      "몇 개를 출력할까요? : 12\n",
      "+-+-+-+-+-+-\n"
     ]
    }
   ],
   "source": [
    "print(\"+와 - 를 번갈아 출력합니다.\")\n",
    "\n",
    "n = int(input(\"몇 개를 출력할까요? : \"))\n",
    "\n",
    "for _ in range(n//2):\n",
    "    print('+-',end='') # n // 2 개의  +-를 출력\n",
    "if n %2:\n",
    "    print(\"+\",end='') # n이 홀 수 일때만 +출력\n",
    "    \n",
    "print()"
   ]
  },
  {
   "cell_type": "code",
   "execution_count": 48,
   "id": "917ae732",
   "metadata": {},
   "outputs": [
    {
     "name": "stdout",
     "output_type": "stream",
     "text": [
      "*을 출력합니다.\n",
      "몇 개를 출력할까요? : 20\n",
      "몇 개마다 줄바꿈할까요? : 7\n",
      "*******\n",
      "*******\n",
      "******"
     ]
    }
   ],
   "source": [
    "print(\"*을 출력합니다.\")\n",
    "\n",
    "n = int(input(\"몇 개를 출력할까요? : \"))\n",
    "l = int(input(\"몇 개마다 줄바꿈할까요? : \"))\n",
    "\n",
    "\n",
    "for i in range(n):\n",
    "    print('*',end='')\n",
    "    if i % l == l - 1 :\n",
    "        print()\n",
    "    "
   ]
  },
  {
   "cell_type": "code",
   "execution_count": 87,
   "id": "14518af3",
   "metadata": {},
   "outputs": [
    {
     "name": "stdout",
     "output_type": "stream",
     "text": [
      "1부터 n까지 정수의 합을 구합니다.\n",
      "n값을 입력하세요. : 10\n",
      "1부터 10까지의 정수 합은 55입니다.\n"
     ]
    }
   ],
   "source": [
    "print(\"1부터 n까지 정수의 합을 구합니다.\")\n",
    "\n",
    "\n",
    "\n",
    "while True:\n",
    "    n = int(input(\"n값을 입력하세요. : \"))\n",
    "    if n > 0 :\n",
    "        break\n",
    "        \n",
    "sum = 0\n",
    "i = 1\n",
    "\n",
    "for i in range( 1, n+1):\n",
    "    sum +=i\n",
    "    i+=1\n",
    "    \n",
    "print(f\"1부터 {n}까지의 정수 합은 {sum}입니다.\")"
   ]
  },
  {
   "cell_type": "code",
   "execution_count": null,
   "id": "5e527177",
   "metadata": {},
   "outputs": [],
   "source": []
  }
 ],
 "metadata": {
  "kernelspec": {
   "display_name": "Python 3 (ipykernel)",
   "language": "python",
   "name": "python3"
  },
  "language_info": {
   "codemirror_mode": {
    "name": "ipython",
    "version": 3
   },
   "file_extension": ".py",
   "mimetype": "text/x-python",
   "name": "python",
   "nbconvert_exporter": "python",
   "pygments_lexer": "ipython3",
   "version": "3.9.7"
  }
 },
 "nbformat": 4,
 "nbformat_minor": 5
}
