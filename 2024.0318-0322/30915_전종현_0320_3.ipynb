{
 "cells": [
  {
   "cell_type": "markdown",
   "id": "062cde37",
   "metadata": {},
   "source": [
    "## 30915_전종현_0320_3"
   ]
  },
  {
   "cell_type": "code",
   "execution_count": 15,
   "id": "dd7c49db",
   "metadata": {},
   "outputs": [
    {
     "name": "stdout",
     "output_type": "stream",
     "text": [
      "a 부터 b 까지 정수의 합을 구합니다.\n",
      "정수 a을 입력하세요. : 1\n",
      "정수 b을 입력하세요. : 100\n",
      "1 + 2 + 3 + 4 + 5 + 6 + 7 + 8 + 9 + 10 + 11 + 12 + 13 + 14 + 15 + 16 + 17 + 18 + 19 + 20 + 21 + 22 + 23 + 24 + 25 + 26 + 27 + 28 + 29 + 30 + 31 + 32 + 33 + 34 + 35 + 36 + 37 + 38 + 39 + 40 + 41 + 42 + 43 + 44 + 45 + 46 + 47 + 48 + 49 + 50 + 51 + 52 + 53 + 54 + 55 + 56 + 57 + 58 + 59 + 60 + 61 + 62 + 63 + 64 + 65 + 66 + 67 + 68 + 69 + 70 + 71 + 72 + 73 + 74 + 75 + 76 + 77 + 78 + 79 + 80 + 81 + 82 + 83 + 84 + 85 + 86 + 87 + 88 + 89 + 90 + 91 + 92 + 93 + 94 + 95 + 96 + 97 + 98 + 99 + 100 = 5050\n"
     ]
    }
   ],
   "source": [
    "print(\"a 부터 b 까지 정수의 합을 구합니다.\")\n",
    "a = int(input(\"정수 a을 입력하세요. : \"))\n",
    "b = int(input(\"정수 b을 입력하세요. : \"))\n",
    "\n",
    "sum = 0\n",
    "\n",
    "\n",
    "if a > b :\n",
    "    a, b = b, a\n",
    "    \n",
    "for i in range(a,b+1):\n",
    "    if i < b:\n",
    "        print(f'{i} + ',end='')\n",
    "    else:\n",
    "        print(f'{i} = ',end='')\n",
    "    sum = sum + i\n",
    "    \n",
    "print(sum)"
   ]
  },
  {
   "cell_type": "code",
   "execution_count": 18,
   "id": "a43a26a4",
   "metadata": {
    "scrolled": true
   },
   "outputs": [
    {
     "name": "stdout",
     "output_type": "stream",
     "text": [
      "a 부터 b 까지 정수의 합을 구합니다.\n",
      "정수 a을 입력하세요. : 1\n",
      "정수 b을 입력하세요. : 10\n",
      "1 + 2 + 3 + 4 + 5 + 6 + 7 + 8 + 9 + 10 = 55\n"
     ]
    }
   ],
   "source": [
    "print(\"a 부터 b 까지 정수의 합을 구합니다.\")\n",
    "a = int(input(\"정수 a을 입력하세요. : \"))\n",
    "b = int(input(\"정수 b을 입력하세요. : \"))\n",
    "\n",
    "sum = 0\n",
    "\n",
    "\n",
    "if a > b :\n",
    "    a, b = b, a\n",
    "    \n",
    "for i in range(a, b):\n",
    "    print(f'{i} + ',end = '')\n",
    "    sum = sum + i\n",
    "    \n",
    "print(f'{b} = ',end='')\n",
    "sum = sum + b\n",
    "\n",
    "print(sum)"
   ]
  },
  {
   "cell_type": "code",
   "execution_count": 24,
   "id": "77161568",
   "metadata": {},
   "outputs": [
    {
     "name": "stdout",
     "output_type": "stream",
     "text": [
      "+, - 를 번갈아쓰세요.\n",
      "몇 개 : 10\n",
      "+-+-+-+-+-"
     ]
    }
   ],
   "source": [
    "print(\"+, - 를 번갈아쓰세요.\")\n",
    "n = int(input(\"몇 개 : \"))\n",
    "\n",
    "for i in range(n):\n",
    "    if i % 2:\n",
    "        print('-',end='')\n",
    "    else :\n",
    "        print(\"+\",end =\"\")\n",
    "\n"
   ]
  },
  {
   "cell_type": "code",
   "execution_count": null,
   "id": "5e5db809",
   "metadata": {},
   "outputs": [],
   "source": []
  }
 ],
 "metadata": {
  "kernelspec": {
   "display_name": "Python 3 (ipykernel)",
   "language": "python",
   "name": "python3"
  },
  "language_info": {
   "codemirror_mode": {
    "name": "ipython",
    "version": 3
   },
   "file_extension": ".py",
   "mimetype": "text/x-python",
   "name": "python",
   "nbconvert_exporter": "python",
   "pygments_lexer": "ipython3",
   "version": "3.9.7"
  }
 },
 "nbformat": 4,
 "nbformat_minor": 5
}
