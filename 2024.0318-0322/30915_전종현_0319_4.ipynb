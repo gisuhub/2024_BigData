{
 "cells": [
  {
   "cell_type": "markdown",
   "id": "26451b63",
   "metadata": {},
   "source": [
    "## 30915_전종현_0319_4"
   ]
  },
  {
   "cell_type": "code",
   "execution_count": 10,
   "id": "6a73204b",
   "metadata": {},
   "outputs": [
    {
     "name": "stdout",
     "output_type": "stream",
     "text": [
      "1부터 n까지의 정수의 합을 구합니다.\n",
      "n값을 입력하세요. : 888\n",
      "1부터 888까지 정수의 합은 394716입니다.\n"
     ]
    }
   ],
   "source": [
    "print(\"1부터 n까지의 정수의 합을 구합니다.\")\n",
    "n = int(input(\"n값을 입력하세요. : \"))\n",
    "\n",
    "sum = 0\n",
    "i = 1\n",
    "\n",
    "while i <= n :\n",
    "    sum +=i \n",
    "    i+=1\n",
    "    \n",
    "    \n",
    "print(f'1부터 {n}까지 정수의 합은 {sum}입니다.')"
   ]
  },
  {
   "cell_type": "code",
   "execution_count": 16,
   "id": "efabe8d0",
   "metadata": {},
   "outputs": [
    {
     "name": "stdout",
     "output_type": "stream",
     "text": [
      "1부터 n까지의 정수의 합을 구합니다.\n",
      "n값을 입력하세요. : 7\n",
      "1부터 7까지 정수의 합은 28입니다.\n"
     ]
    }
   ],
   "source": [
    "print(\"1부터 n까지의 정수의 합을 구합니다.\")\n",
    "n = int(input(\"n값을 입력하세요. : \"))\n",
    "\n",
    "sum = 0\n",
    "i = 1\n",
    "\n",
    "for i in range(n+1):\n",
    "    sum +=i\n",
    "    \n",
    "    \n",
    "    \n",
    "print(f'1부터 {n}까지 정수의 합은 {sum}입니다.')"
   ]
  },
  {
   "cell_type": "markdown",
   "id": "0ba7d9a9",
   "metadata": {},
   "source": [
    "#### a, b = b,a    위치를 바꾸는것"
   ]
  },
  {
   "cell_type": "code",
   "execution_count": 24,
   "id": "8e7368f4",
   "metadata": {},
   "outputs": [
    {
     "name": "stdout",
     "output_type": "stream",
     "text": [
      "n부터 n까지 정수의 합을 구합니다.\n",
      "정수 a를 입력하세요. : 0\n",
      "정수 b를 입력하세요. : 0\n",
      "잘못된 입력값입니다.\n"
     ]
    }
   ],
   "source": [
    "print(\"n부터 n까지 정수의 합을 구합니다.\")\n",
    "a = int(input('정수 a를 입력하세요. : '))\n",
    "b = int(input('정수 b를 입력하세요. : '))\n",
    "sum= 0\n",
    "i = 1\n",
    "\n",
    "if a < b:\n",
    "    for i in range(a,b+1):\n",
    "        sum +=i\n",
    "    print(f'{a}부터 {b}까지 정수의 합은 {sum}입니다.')\n",
    "    \n",
    "elif a > b:\n",
    "    for i in range(b,a+1):\n",
    "        sum +=i\n",
    "    print(f'{b}부터 {a}까지 정수의 합은 {sum}입니다.') \n",
    "else:\n",
    "    print(\"잘못된 입력값입니다.\")\n",
    "    "
   ]
  },
  {
   "cell_type": "code",
   "execution_count": 35,
   "id": "e72de875",
   "metadata": {},
   "outputs": [
    {
     "name": "stdout",
     "output_type": "stream",
     "text": [
      "n부터 n까지 정수의 합을 구합니다.\n",
      "정수 a를 입력하세요. : 1\n",
      "정수 b를 입력하세요. : 100\n",
      "1 + 2 + 3 + 4 + 5 + 6 + 7 + 8 + 9 + 10 + 11 + 12 + 13 + 14 + 15 + 16 + 17 + 18 + 19 + 20 + 21 + 22 + 23 + 24 + 25 + 26 + 27 + 28 + 29 + 30 + 31 + 32 + 33 + 34 + 35 + 36 + 37 + 38 + 39 + 40 + 41 + 42 + 43 + 44 + 45 + 46 + 47 + 48 + 49 + 50 + 51 + 52 + 53 + 54 + 55 + 56 + 57 + 58 + 59 + 60 + 61 + 62 + 63 + 64 + 65 + 66 + 67 + 68 + 69 + 70 + 71 + 72 + 73 + 74 + 75 + 76 + 77 + 78 + 79 + 80 + 81 + 82 + 83 + 84 + 85 + 86 + 87 + 88 + 89 + 90 + 91 + 92 + 93 + 94 + 95 + 96 + 97 + 98 + 99 + 100 = 5050\n"
     ]
    }
   ],
   "source": [
    "# 정수의 합을 구하는 과정과 최종값을 출력하는 프로그램\n",
    "\n",
    "print(\"n부터 n까지 정수의 합을 구합니다.\")\n",
    "a = int(input('정수 a를 입력하세요. : '))\n",
    "b = int(input('정수 b를 입력하세요. : '))\n",
    "\n",
    "if a > b:\n",
    "    a,b = b,a\n",
    "    \n",
    "sum = 0\n",
    "\n",
    "for i in range(a,b+1):\n",
    "    if i < b :\n",
    "        print(f'{i} + ',end='')\n",
    "    else:\n",
    "        print(f'{i} = ',end='')\n",
    "    sum +=i\n",
    "    \n",
    "print(sum)"
   ]
  },
  {
   "cell_type": "code",
   "execution_count": null,
   "id": "9d0604b0",
   "metadata": {},
   "outputs": [],
   "source": []
  }
 ],
 "metadata": {
  "kernelspec": {
   "display_name": "Python 3 (ipykernel)",
   "language": "python",
   "name": "python3"
  },
  "language_info": {
   "codemirror_mode": {
    "name": "ipython",
    "version": 3
   },
   "file_extension": ".py",
   "mimetype": "text/x-python",
   "name": "python",
   "nbconvert_exporter": "python",
   "pygments_lexer": "ipython3",
   "version": "3.9.7"
  }
 },
 "nbformat": 4,
 "nbformat_minor": 5
}
