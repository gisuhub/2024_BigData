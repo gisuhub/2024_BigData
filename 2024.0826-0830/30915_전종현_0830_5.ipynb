{
 "cells": [
  {
   "cell_type": "markdown",
   "id": "440f54a5",
   "metadata": {},
   "source": [
    "# 30915_전종현_0830_5"
   ]
  },
  {
   "cell_type": "markdown",
   "id": "bcbbfbbb",
   "metadata": {},
   "source": [
    "# 1173 : 30분전\n",
    "수호는 30분 전으로 돌아가고 싶은 1人 이다.\n",
    "\n",
    "공백을 기준으로 시간과 분이 주어진다.\n",
    "\n",
    "그러면 이 시간을 기준으로 30분전의 시간을 출력하시오.\n",
    "\n",
    "예)\n",
    "\n",
    "12 35  =====> 12 5\n",
    "\n",
    "12 0 ======> 11 30\n",
    "\n",
    "11 5 ======> 10 35\n",
    "\n",
    "0 10 ======> 23 40"
   ]
  },
  {
   "cell_type": "code",
   "execution_count": 11,
   "id": "f25d6110",
   "metadata": {},
   "outputs": [
    {
     "name": "stdout",
     "output_type": "stream",
     "text": [
      "12 35\n",
      "12 5\n"
     ]
    }
   ],
   "source": [
    "h,m = map(int,input().split())\n",
    "if m >= 30:\n",
    "    m = m - 30\n",
    "elif m < 30:\n",
    "    if h == 0:\n",
    "        h = 23\n",
    "        m = m + 30\n",
    "    else:\n",
    "        h = h-1\n",
    "        m = m + 30\n",
    "    \n",
    "    \n",
    "print(h,m)"
   ]
  },
  {
   "cell_type": "markdown",
   "id": "5c257d83",
   "metadata": {},
   "source": [
    "# 1180 : 만능 휴지통\n",
    "민호는 발명을 되게 좋아하고, 컴퓨터 프로그램도 되게 좋아한다.\n",
    "\n",
    "어느 날 민호는 컴퓨터를 사용하던 중 휴지통이 꽉 차서 불편을 느꼈다.\n",
    "\n",
    "그래서 휴지통이 n만큼 차면 알아서 쓰레기를 압축해주는 휴지통을 만들려고 한다.\n",
    "\n",
    "이 때 압축하는 알고리즘은 다음과 같다.\n",
    "\n",
    "10의 자릿수와 1의 자릿수를 서로 바꾸고, 거기에 2를 곱한다.\n",
    "\n",
    "예) 70일 경우 14가 된다.( 70 -> 07 -> 14 )\n",
    "\n",
    "이 알고리즘은 때로는 부작용을 일으켜 휴지통의 내용이 더 많아 질지도 모른다.\n",
    "\n",
    "만약 이 알고리즘의 심각한 부작용으로 수치가 100이 넘는다면 100의 자릿수는 무시된다."
   ]
  },
  {
   "cell_type": "code",
   "execution_count": 23,
   "id": "02fb2c12",
   "metadata": {},
   "outputs": [
    {
     "name": "stdout",
     "output_type": "stream",
     "text": [
      "17\n",
      "9\n",
      "GOOD\n"
     ]
    }
   ],
   "source": [
    "n = int(input())\n",
    "\n",
    "one_place = n%10\n",
    "ten_place = n//10\n",
    "\n",
    "result = ten_place * 2 +one_place\n",
    "\n",
    "\n",
    "print(result)\n",
    "if result <= 50:\n",
    "    print(\"GOOD\")\n",
    "else:\n",
    "    print(\"OH MY GOD\")\n",
    "    "
   ]
  },
  {
   "cell_type": "markdown",
   "id": "786e6bf7",
   "metadata": {},
   "source": [
    "# 1201 : 정수 판별\n",
    "정수 하나를 입력받아 양수이면 \"양수\", 음수이면 \"음수\", 0이면 0을 출력하시오."
   ]
  },
  {
   "cell_type": "code",
   "execution_count": 27,
   "id": "f253d9e8",
   "metadata": {},
   "outputs": [
    {
     "name": "stdout",
     "output_type": "stream",
     "text": [
      "5\n",
      "양수\n"
     ]
    }
   ],
   "source": [
    "\n",
    "\n",
    "num = int(input())\n",
    "\n",
    "# 입력한 정수가 0보다 크면, 즉, 양수이면\n",
    "if num > 0:\n",
    "    # 문자열 \"양수\"를 출력합니다.\n",
    "    print(\"양수\")\n",
    "# 입력한 정수가 0보다 작으면, 즉, 음수이면\n",
    "elif num < 0:\n",
    "    # 문자열 \"음수\"를 출력합니다.\n",
    "    print(\"음수\")\n",
    "# 그 외의 경우, 즉, 입력한 정수가 0이라면\n",
    "else:\n",
    "    # 0을 출력합니다.\n",
    "    print(0)"
   ]
  }
 ],
 "metadata": {
  "kernelspec": {
   "display_name": "Python 3 (ipykernel)",
   "language": "python",
   "name": "python3"
  },
  "language_info": {
   "codemirror_mode": {
    "name": "ipython",
    "version": 3
   },
   "file_extension": ".py",
   "mimetype": "text/x-python",
   "name": "python",
   "nbconvert_exporter": "python",
   "pygments_lexer": "ipython3",
   "version": "3.9.7"
  }
 },
 "nbformat": 4,
 "nbformat_minor": 5
}
