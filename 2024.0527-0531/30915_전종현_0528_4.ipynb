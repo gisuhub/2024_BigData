{
 "cells": [
  {
   "cell_type": "markdown",
   "id": "a0f5d937",
   "metadata": {},
   "source": [
    "## 1165 : 축구의 신 1\n",
    "지금 1반과 2반이 축구를 하고있다.\n",
    "\n",
    "축구경기 타임은 총 90분이고,\n",
    "\n",
    "현재 1반이 0점, 2반이 2점인 상황에서, 1반은 경남정보고 최고의 스트라이커인 성익이를 투입하기로 결정했다.\n",
    "\n",
    "성익이는 5분마다 골을 넣을 수 있는 능력을 가지고 있다.\n",
    "\n",
    "만약 80분에 투입이 되면 80분에 곧바로 골을 넣게되고 85분에 골을 넣음으로서 동점이 가능하게 된다.\n",
    "\n",
    "(90분이되면 경기가 바로 종료되므로 골을 넣을 수 없다. 동내심판인 성빈이는 성익이가 잘 되는 것을 싫어하기 때문에 추가시간 따위는 주지 않는다. )\n",
    "\n",
    "현재 경기타임과 우리팀의 득점이 입력으로 주어 질때, 성익이를 투입하면 우리팀의 최종 득점은 몇 점인지 출력하시오."
   ]
  },
  {
   "cell_type": "code",
   "execution_count": 16,
   "id": "fca47d03",
   "metadata": {},
   "outputs": [
    {
     "name": "stdout",
     "output_type": "stream",
     "text": [
      "74 2\n",
      "6\n"
     ]
    }
   ],
   "source": [
    "t,s = map(int,input().split())\n",
    "\n",
    "\n",
    "for i in range(1,90-t):\n",
    "    if i%5==0:\n",
    "        s+=1\n",
    "        \n",
    "print(s+1)"
   ]
  },
  {
   "cell_type": "markdown",
   "id": "5da64e7d",
   "metadata": {},
   "source": [
    "## 1166 : 윤년 판별\n",
    "2월이 29일까지 있는 해를 윤년이라고 한다.\n",
    "\n",
    "한 자연수를 입력받아서 윤년인지 아닌지를 판단하는 프로그램을 작성하시오.\n",
    "\n",
    "단, 윤년은 다음 두 조건 중 하나만 만족하면 된다.\n",
    "\n",
    "\n",
    "(1) 400의 배수이면 무조건 윤년이다.\n",
    "(2) 4의 배수이며, 100의 배수가 아니면 윤년이다.\n",
    "\n",
    " \n",
    "\n",
    "예)\n",
    "\n",
    "2000 년 ====> 윤년 (1번 조건) \n",
    "\n",
    "2004 년 ====>  윤년(2번 조건)\n",
    "\n",
    "1900 년 ====> 윤년 아님\n",
    "\n",
    "1999 년 ====> 윤년 아님\n",
    "\n",
    " "
   ]
  },
  {
   "cell_type": "code",
   "execution_count": 22,
   "id": "27d04771",
   "metadata": {},
   "outputs": [
    {
     "name": "stdout",
     "output_type": "stream",
     "text": [
      "100\n",
      "Normal\n"
     ]
    }
   ],
   "source": [
    "n = int(input())\n",
    "\n",
    "if n%400 == 0:\n",
    "    print(\"Leap\")\n",
    "elif n%4==0 and n%100!=0:\n",
    "    print(\"Leap\")\n",
    "else:\n",
    "    print(\"Normal\")"
   ]
  },
  {
   "cell_type": "markdown",
   "id": "e9ff1c08",
   "metadata": {},
   "source": [
    "## 1167 : 두 번째 수\n",
    "세 개의 숫자가 주어질 때 작은 순서로 나열 했을 때, 두번째 수를 출력해보자.\n",
    "\n",
    "예를 들어, 5 9 2 가 있다면, 작은 순서로 나열하면 2 5 9이고 두번째 수는 5이다.\n",
    "\n",
    " "
   ]
  },
  {
   "cell_type": "code",
   "execution_count": 34,
   "id": "0295655e",
   "metadata": {},
   "outputs": [
    {
     "name": "stdout",
     "output_type": "stream",
     "text": [
      "500 555 15\n",
      "500\n"
     ]
    }
   ],
   "source": [
    "\n",
    "a,b,c = map(int,input().split())\n",
    "lal = [a,b,c]\n",
    "lal.sort()\n",
    "print(lal[1])"
   ]
  },
  {
   "cell_type": "markdown",
   "id": "5779559b",
   "metadata": {},
   "source": [
    "## 1168 : 나이 계산 1\n",
    "주민등록번호는 생년월일과 성별정보, 지역정보로 이루어진다.\n",
    "\n",
    "여기서 생년월일과 성별정보만 입력으로 받겠다.\n",
    "\n",
    "성별 정보는 1이면 1900년대 출생 남자, 2이면 1900년대 출생 여자, 3이면 2000년대 출생 남자, 4이면 2000년대 출생 여자를 말한다.\n",
    "\n",
    "기준년도는 2012년도이다. 현재 나이를 출력하시오. \n",
    "\n",
    "예)\n",
    "\n",
    "790101 1        =====> 성별정보가 1이므로, 1979년생, 34살이다.\n",
    "\n",
    "080521 4        =====>  성별정보가 4이므로, 2008년생,  5살이다."
   ]
  }
 ],
 "metadata": {
  "kernelspec": {
   "display_name": "Python 3 (ipykernel)",
   "language": "python",
   "name": "python3"
  },
  "language_info": {
   "codemirror_mode": {
    "name": "ipython",
    "version": 3
   },
   "file_extension": ".py",
   "mimetype": "text/x-python",
   "name": "python",
   "nbconvert_exporter": "python",
   "pygments_lexer": "ipython3",
   "version": "3.9.7"
  }
 },
 "nbformat": 4,
 "nbformat_minor": 5
}
