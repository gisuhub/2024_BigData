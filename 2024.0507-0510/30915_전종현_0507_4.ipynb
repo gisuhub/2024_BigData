{
 "cells": [
  {
   "cell_type": "markdown",
   "id": "469813ad",
   "metadata": {},
   "source": [
    "## 30915_전종현_0507_4"
   ]
  },
  {
   "cell_type": "markdown",
   "id": "c85198d0",
   "metadata": {},
   "source": [
    "## 수행평가 에상문제\n",
    "```\n",
    "| 문제 6\n",
    "| 영어단어장 만들기 프로그램\n",
    "```"
   ]
  },
  {
   "cell_type": "code",
   "execution_count": 5,
   "id": "19ccd9cb",
   "metadata": {},
   "outputs": [
    {
     "name": "stdout",
     "output_type": "stream",
     "text": [
      "영어단어, 뜻 : sungdae,앙증보이\n",
      "영어단어, 뜻 : fubao,기수\n",
      "영어단어, 뜻 : \n"
     ]
    },
    {
     "data": {
      "text/plain": [
       "{'sungdae': '앙증보이', 'fubao': '기수'}"
      ]
     },
     "execution_count": 5,
     "metadata": {},
     "output_type": "execute_result"
    }
   ],
   "source": [
    "# 빈 딕셔너리 만들기\n",
    "\n",
    "dict_word = {}\n",
    "# 공백을 입력할때까지 입력 키값과 밸류값 받기\n",
    "while True:\n",
    "    input_word = input(\"영어단어, 뜻 : \")\n",
    "    if input_word=='':\n",
    "        break\n",
    "    # 키값과 밸류값 분리하기\n",
    "    eng = input_word.split(',')[0]\n",
    "    kor = input_word.split(\",\")[1]\n",
    "    \n",
    "    # 키값과 밸류값 저장하기\n",
    "    dict_word[eng] = kor\n",
    "    \n",
    "# 출력하기    \n",
    "dict_word"
   ]
  },
  {
   "cell_type": "markdown",
   "id": "452c83a9",
   "metadata": {},
   "source": [
    "## 수행평가 에상문제\n",
    "```\n",
    "| 문제 7\n",
    "| 할인된 금액 계산 프로그램\n",
    "\n",
    "금액                      할인율\n",
    "1만원이상 5만원 미만        5%\n",
    "5만원이상 10만원미만        7%\n",
    "10만원이상                  10%\n",
    "```"
   ]
  },
  {
   "cell_type": "code",
   "execution_count": 7,
   "id": "a2a80782",
   "metadata": {},
   "outputs": [
    {
     "name": "stdout",
     "output_type": "stream",
     "text": [
      "물건구매가 : 100000\n",
      "\n",
      "구매가 : 100000\n",
      "할인율 : 10%\n",
      "할인금액 : 10000.0\n",
      "지불금액 : 90000.0\n",
      "\n"
     ]
    }
   ],
   "source": [
    "price = int(input(\"물건구매가 : \"))\n",
    "\n",
    "# 할인율 결정 \n",
    "if price >= 100000:\n",
    "    dc = 10\n",
    "elif price >= 50000:\n",
    "    dc = 7\n",
    "elif price >= 10000:\n",
    "    dc = 5\n",
    "else:\n",
    "    dc = 0\n",
    "    \n",
    "    \n",
    "# 출력\n",
    "print(f'''\n",
    "구매가 : {price}\n",
    "할인율 : {dc}%\n",
    "할인금액 : {price*(dc/100)}\n",
    "지불금액 : {price-price*(dc/100)}\n",
    "''')"
   ]
  },
  {
   "cell_type": "markdown",
   "id": "7dfddc50",
   "metadata": {},
   "source": [
    "## 수행평가 예상문제\n",
    "```\n",
    " | 문제8\n",
    " | 사칙연산 프로그램\n",
    "```\n",
    "* 두 수와 사칙연산기호(+,-,*,/)을 입력받아 연산 기호에 따라 연산 결과를 출력하는 프로그램을 작성하세요.\n",
    "* 사칙연산기호(+,-,*,/)가 아닌 경우 '잘못입력하셨습니다.' 출력"
   ]
  },
  {
   "cell_type": "code",
   "execution_count": 9,
   "id": "22727914",
   "metadata": {},
   "outputs": [
    {
     "name": "stdout",
     "output_type": "stream",
     "text": [
      "숫자1 : 8\n",
      "숫자2 : 7\n",
      "연산기호 : *\n",
      "곱셈 : 8 * 7 = 56\n"
     ]
    }
   ],
   "source": [
    "num1 = int(input('숫자1 : '))\n",
    "num2 = int(input(\"숫자2 : \"))\n",
    "op = input(\"연산기호 : \")\n",
    "\n",
    "if op == '+':\n",
    "    print(f'덧셈 : {num1} + {num2} = {num1+num2}')\n",
    "elif op == '-':\n",
    "    print(f\"뺄셈 : {num1} - {num2} = {num1-num2}\")\n",
    "elif op == '*' :\n",
    "    print(f'곱셈 : {num1} * {num2} = {num1*num2}')\n",
    "elif op == '/':\n",
    "    print(f\"나눗셈 : {num1} / {num2} = {num1/num2}\")\n",
    "else:\n",
    "    print(f'잘못 입력하셨습니다.')\n",
    "    "
   ]
  },
  {
   "cell_type": "markdown",
   "id": "95c4f275",
   "metadata": {},
   "source": [
    "## 수행평가 예상문제\n",
    "```\n",
    " | 문제9\n",
    " | up&down 숫자 맞추기 게임 프로그램\n",
    "```\n",
    "1~100 사이의 정답 숫자를 랜덤으로 하나 정하고, 정답숫자를 맞출 때까지\n",
    "숫자를 입력하는 게임이다.\n",
    "\n",
    "내가 입력한 숫자가 정답보다 작으면 'DOWN', 정답보다 크면 'UP'을 출력하고\n",
    "숫자를 다시 입력받는다.\n",
    "\n",
    "정답을 맞추면 '정답!'이라고 출력하는 게임을 끝낸다.\n",
    "기회는 5번까지만 주어집니다.\n",
    "5회가 넘으면 '횟수초과' 메시지와 함께 정답을 알려줍니다.\n",
    "정답을 맞추면 몇번째에 맞추었는지 출력합니다.\n",
    "\n",
    "* 랜덤함수이용\n",
    "* 함수 만들어 봅니다."
   ]
  },
  {
   "cell_type": "code",
   "execution_count": 12,
   "id": "eef256d4",
   "metadata": {},
   "outputs": [
    {
     "name": "stdout",
     "output_type": "stream",
     "text": [
      "Attempt 1. 예상 숫자를 입력하세요(1-100): 100\n",
      "DOWN\n",
      "Attempt 2. 예상 숫자를 입력하세요(1-100): 6\n",
      "UP\n",
      "Attempt 3. 예상 숫자를 입력하세요(1-100): 57\n",
      "DOWN\n",
      "Attempt 4. 예상 숫자를 입력하세요(1-100): 50\n",
      "DOWN\n",
      "Attempt 5. 예상 숫자를 입력하세요(1-100): 30\n",
      "DOWN\n",
      "횟수 초과입니다. 정답은 10였습니다.\n"
     ]
    }
   ],
   "source": [
    "import random\n",
    "def guess_number_game(max_attempts=5):\n",
    "    cnt = 0\n",
    "    num = random.randint(1,100)\n",
    "    \n",
    "    while cnt < max_attempts:\n",
    "        cnt += 1\n",
    "        answer = int(input(f'Attempt {cnt}. 예상 숫자를 입력하세요(1-100): '))\n",
    "        if answer == num:\n",
    "            print(f\"정답입니다!\")\n",
    "            print(f'{cnt}번 만에 맞추었습니다.')\n",
    "            return\n",
    "        if answer < num:\n",
    "            print(\"UP\")\n",
    "        else:\n",
    "            print(\"DOWN\")\n",
    "            \n",
    "    print(f'횟수 초과입니다. 정답은 {num}였습니다.')\n",
    "    \n",
    "guess_number_game()"
   ]
  },
  {
   "cell_type": "code",
   "execution_count": 13,
   "id": "a1467981",
   "metadata": {},
   "outputs": [
    {
     "name": "stdout",
     "output_type": "stream",
     "text": [
      "id : id123\n",
      "pwd : pwd123\n"
     ]
    }
   ],
   "source": [
    "id = 'id123'\n",
    "pwd = 'pwd123'\n",
    "\n",
    "while True :\n",
    "    input_id = input('id : ')\n",
    "    input_pwd = input(\"pwd : \")\n",
    "    \n",
    "    if id == input_id and pwd == input_pwd:\n",
    "        break\n",
    "    if id != input_id:\n",
    "        print(f\"아이디를 확인하세요\")\n",
    "    if id != input_pwd:\n",
    "        print(f\"비밀번호를 확인하세요.\")"
   ]
  },
  {
   "cell_type": "code",
   "execution_count": null,
   "id": "95df50c4",
   "metadata": {},
   "outputs": [],
   "source": []
  }
 ],
 "metadata": {
  "kernelspec": {
   "display_name": "Python 3 (ipykernel)",
   "language": "python",
   "name": "python3"
  },
  "language_info": {
   "codemirror_mode": {
    "name": "ipython",
    "version": 3
   },
   "file_extension": ".py",
   "mimetype": "text/x-python",
   "name": "python",
   "nbconvert_exporter": "python",
   "pygments_lexer": "ipython3",
   "version": "3.9.7"
  }
 },
 "nbformat": 4,
 "nbformat_minor": 5
}
