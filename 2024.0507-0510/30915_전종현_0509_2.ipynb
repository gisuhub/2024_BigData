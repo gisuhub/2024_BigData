{
 "cells": [
  {
   "cell_type": "code",
   "execution_count": 2,
   "id": "113212e7",
   "metadata": {},
   "outputs": [
    {
     "name": "stdout",
     "output_type": "stream",
     "text": [
      "영어단어, 뜻 : banana,바나나\n",
      "영어단어, 뜻 : \n"
     ]
    },
    {
     "data": {
      "text/plain": [
       "{'banana': '바나나'}"
      ]
     },
     "execution_count": 2,
     "metadata": {},
     "output_type": "execute_result"
    }
   ],
   "source": [
    "dict_word = {}\n",
    "\n",
    "while True:\n",
    "    input_dict = input(\"영어단어, 뜻 : \")\n",
    "    if input_dict == '' :\n",
    "        break\n",
    "    eng = input_dict.split(',')[0]\n",
    "    kor = input_dict.split(',')[1]\n",
    "    \n",
    "    dict_word[eng] = kor\n",
    "    \n",
    "dict_word"
   ]
  },
  {
   "cell_type": "code",
   "execution_count": 20,
   "id": "771a65c6",
   "metadata": {},
   "outputs": [
    {
     "name": "stdout",
     "output_type": "stream",
     "text": [
      "Attempt 1. 예상 숫자를 입력하세요.(1-100): 60\n",
      "Down\n",
      "Attempt 2. 예상 숫자를 입력하세요.(1-100): 40\n",
      "Up\n",
      "Attempt 3. 예상 숫자를 입력하세요.(1-100): 50\n",
      "Down\n",
      "Attempt 4. 예상 숫자를 입력하세요.(1-100): 46\n",
      "Down\n",
      "Attempt 5. 예상 숫자를 입력하세요.(1-100): 49\n",
      "Down\n",
      "횟수 초과입니다. 정답은 44였습니다.\n"
     ]
    }
   ],
   "source": [
    "import random\n",
    "def guess_number_game(max_attempts=5):\n",
    "    cnt = 0\n",
    "    num = random.randint(1,100)\n",
    "    \n",
    "    while cnt < max_attempts:\n",
    "        cnt +=1\n",
    "        answer = int(input(f'Attempt {cnt}. 예상 숫자를 입력하세요.(1-100): '))\n",
    "        if answer == num:\n",
    "            print(f\"정답입니다!\")\n",
    "            print(f\"{cnt}번 만에 맞추었습니다.\")\n",
    "            return\n",
    "        if answer < num :\n",
    "            print(\"Up\")\n",
    "        else:\n",
    "            print(\"Down\")\n",
    "            \n",
    "    print(f'횟수 초과입니다. 정답은 {num}였습니다.')\n",
    "    \n",
    "guess_number_game()"
   ]
  },
  {
   "cell_type": "code",
   "execution_count": 21,
   "id": "0e12cacc",
   "metadata": {},
   "outputs": [
    {
     "name": "stdout",
     "output_type": "stream",
     "text": [
      "물건구매가 : 1000000\n",
      "\n",
      "구매가 : 1000000\n",
      "할인 : 10%\n",
      "할인가격 : 100000.0\n",
      "구매가격 : 900000.0\n",
      "\n"
     ]
    }
   ],
   "source": [
    "price = int(input(\"물건구매가 : \"))\n",
    "\n",
    "if price >= 100000:\n",
    "    dc = 10\n",
    "elif price >= 50000:\n",
    "    dc =7\n",
    "elif price >= 10000:\n",
    "    dc = 5\n",
    "else:\n",
    "    dc = 0\n",
    "    \n",
    "print(f\"\"\"\n",
    "구매가 : {price}\n",
    "할인 : {dc}%\n",
    "할인가격 : {price*(dc/100)}\n",
    "구매가격 : {price-price*(dc/100)}\n",
    "\"\"\")"
   ]
  },
  {
   "cell_type": "code",
   "execution_count": 23,
   "id": "c43f2682",
   "metadata": {},
   "outputs": [
    {
     "name": "stdout",
     "output_type": "stream",
     "text": [
      "숫자1 : 5\n",
      "숫자2 : 8\n",
      "연산기호 : *\n",
      "곱셈 : 5 x 8 = 40\n"
     ]
    }
   ],
   "source": [
    "num1 = int(input(\"숫자1 : \"))\n",
    "num2 = int(input(\"숫자2 : \"))\n",
    "op = input(\"연산기호 : \")\n",
    "\n",
    "if op == '+':\n",
    "    print(f\"덧셈 : {num1} + {num2} = {num1+num2}\")\n",
    "elif op == '-':\n",
    "    print(f\"뺄셈 : {num1} - {num2} = {num1-num2}\")\n",
    "elif op == '*':\n",
    "    print(f\"곱셈 : {num1} x {num2} = {num1*num2}\")\n",
    "elif op == '/':\n",
    "    print(f\"나눗셈 : {num1} / {num2} = {num1/num2}\")\n",
    "else:\n",
    "    print(f\"잘못입력하셨습니다.\")\n",
    "    "
   ]
  },
  {
   "cell_type": "code",
   "execution_count": 25,
   "id": "e4191613",
   "metadata": {},
   "outputs": [
    {
     "name": "stdout",
     "output_type": "stream",
     "text": [
      "id : id123\n",
      "pwd : d\n",
      "비밀번호를 틀렸습니다.\n",
      "id : id123\n",
      "pwd : pwd123\n"
     ]
    }
   ],
   "source": [
    "id = 'id123'\n",
    "pwd = 'pwd123'\n",
    "\n",
    "while True:\n",
    "    input_id = input(\"id : \")\n",
    "    input_pwd = input(\"pwd : \")\n",
    "    \n",
    "    if id == input_id and pwd == input_pwd:\n",
    "        break\n",
    "    if id != input_id:\n",
    "        print(f\"아이디를 확인하세요.\")\n",
    "    if pwd != input_pwd:\n",
    "        print(f\"비밀번호를 틀렸습니다.\")"
   ]
  }
 ],
 "metadata": {
  "kernelspec": {
   "display_name": "Python 3 (ipykernel)",
   "language": "python",
   "name": "python3"
  },
  "language_info": {
   "codemirror_mode": {
    "name": "ipython",
    "version": 3
   },
   "file_extension": ".py",
   "mimetype": "text/x-python",
   "name": "python",
   "nbconvert_exporter": "python",
   "pygments_lexer": "ipython3",
   "version": "3.9.7"
  }
 },
 "nbformat": 4,
 "nbformat_minor": 5
}
