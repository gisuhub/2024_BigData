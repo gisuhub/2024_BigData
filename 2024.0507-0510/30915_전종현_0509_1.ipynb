{
 "cells": [
  {
   "cell_type": "code",
   "execution_count": 5,
   "id": "30044fc6",
   "metadata": {},
   "outputs": [
    {
     "name": "stdout",
     "output_type": "stream",
     "text": [
      "영어단어, 뜻 : bab,밥\n",
      "영어단어, 뜻 : \n"
     ]
    },
    {
     "data": {
      "text/plain": [
       "{'bab': '밥'}"
      ]
     },
     "execution_count": 5,
     "metadata": {},
     "output_type": "execute_result"
    }
   ],
   "source": [
    "dict_word ={}\n",
    "\n",
    "while True:\n",
    "    input_dict = input(\"영어단어, 뜻 : \")\n",
    "    if input_dict == '':\n",
    "        break\n",
    "        \n",
    "    eng = input_dict.split(',')[0]\n",
    "    kor = input_dict.split(',')[1]\n",
    "    dict_word[eng] = kor\n",
    "    \n",
    "dict_word"
   ]
  },
  {
   "cell_type": "code",
   "execution_count": 9,
   "id": "aed1ce62",
   "metadata": {},
   "outputs": [
    {
     "name": "stdout",
     "output_type": "stream",
     "text": [
      "물건 구매가 : 10000\n",
      "\n",
      "가격 : 10000\n",
      "할인 : 5%\n",
      "할인가격 : 500.0\n",
      "최종가격 : 9500.0\n",
      "\n"
     ]
    }
   ],
   "source": [
    "price = int(input(\"물건 구매가 : \"))\n",
    "\n",
    "if price >= 100000:\n",
    "    dc = 10\n",
    "elif price >= 50000:\n",
    "    dc = 7\n",
    "elif price >= 10000:\n",
    "    dc = 5\n",
    "else:\n",
    "    dc = 0\n",
    "    \n",
    "print(f\"\"\"\n",
    "가격 : {price}\n",
    "할인 : {dc}%\n",
    "할인가격 : {price*(dc/100)}\n",
    "최종가격 : {price-price*(dc/100)}\n",
    "\"\"\")"
   ]
  },
  {
   "cell_type": "code",
   "execution_count": 13,
   "id": "736129a8",
   "metadata": {},
   "outputs": [
    {
     "name": "stdout",
     "output_type": "stream",
     "text": [
      "숫자1 : 9\n",
      "숫자2 : 7\n",
      "연산기호 : *\n",
      "곱셈 : 9 * 7 = 63\n"
     ]
    }
   ],
   "source": [
    "num1 = int(input(\"숫자1 : \"))\n",
    "num2 = int(input(\"숫자2 : \"))\n",
    "op = input(\"연산기호 : \")\n",
    "if op == '+':\n",
    "    print(f\"덧셈 : {num1} + {num2} = {num1+num2}\")\n",
    "elif op == '-':\n",
    "    print(f\"뺏셈 : {num1} - {num2} = {num1-num2}\")\n",
    "elif op == '*':\n",
    "    print(f\"곱셈 : {num1} * {num2} = {num1*num2}\")\n",
    "elif op == '/':\n",
    "    print(f\"나눗셈 : {num1} / {num2} = {num1/num2}\")\n",
    "else:\n",
    "    print(f\"잘못입력하셨습니다.\")"
   ]
  },
  {
   "cell_type": "code",
   "execution_count": 16,
   "id": "3c556783",
   "metadata": {},
   "outputs": [
    {
     "name": "stdout",
     "output_type": "stream",
     "text": [
      "Attempt 1. 예상 숫자를 입력하세요.(1-100) : 60\n",
      "Up\n",
      "Attempt 2. 예상 숫자를 입력하세요.(1-100) : 80\n",
      "Down\n",
      "Attempt 3. 예상 숫자를 입력하세요.(1-100) : 70\n",
      "Down\n",
      "Attempt 4. 예상 숫자를 입력하세요.(1-100) : 67\n",
      "Up\n",
      "Attempt 5. 예상 숫자를 입력하세요.(1-100) : 68\n",
      "정답입니다!\n",
      "5번 만에 맞추었습니다.\n"
     ]
    }
   ],
   "source": [
    "import random\n",
    "def updowngame(max_attempts = 5):\n",
    "    cnt = 0\n",
    "    num = random.randint(1,100)\n",
    "    \n",
    "    while cnt < max_attempts:\n",
    "        cnt += 1\n",
    "        answer = int(input(f\"Attempt {cnt}. 예상 숫자를 입력하세요.(1-100) : \"))\n",
    "        if answer == num:\n",
    "            print(f\"정답입니다!\")\n",
    "            print(f\"{cnt}번 만에 맞추었습니다.\")\n",
    "            return\n",
    "        if answer < num :\n",
    "            print(\"Up\")\n",
    "        else:\n",
    "            print(\"Down\")\n",
    "    print(f\"횟수 초과입니다. 정답은 {num}였습니다.\")\n",
    "    \n",
    "updowngame()"
   ]
  },
  {
   "cell_type": "code",
   "execution_count": 17,
   "id": "682aae26",
   "metadata": {},
   "outputs": [
    {
     "name": "stdout",
     "output_type": "stream",
     "text": [
      "id : id123\n",
      "pwd : d\n",
      "비밀번호를 확인하세요.\n",
      "id : id123\n",
      "pwd : pwd123\n"
     ]
    }
   ],
   "source": [
    "id = 'id123'\n",
    "pwd = 'pwd123'\n",
    "\n",
    "while True:\n",
    "    input_id = input(\"id : \")\n",
    "    input_pwd = input('pwd : ')\n",
    "    \n",
    "    if id == input_id and pwd == input_pwd :\n",
    "        break\n",
    "    if id != input_id:\n",
    "        print(\"아이디를 확인하세요.\")\n",
    "    if pwd != input_pwd :\n",
    "        print(f\"비밀번호를 확인하세요.\")\n",
    "        "
   ]
  },
  {
   "cell_type": "code",
   "execution_count": null,
   "id": "95131972",
   "metadata": {},
   "outputs": [],
   "source": []
  }
 ],
 "metadata": {
  "kernelspec": {
   "display_name": "Python 3 (ipykernel)",
   "language": "python",
   "name": "python3"
  },
  "language_info": {
   "codemirror_mode": {
    "name": "ipython",
    "version": 3
   },
   "file_extension": ".py",
   "mimetype": "text/x-python",
   "name": "python",
   "nbconvert_exporter": "python",
   "pygments_lexer": "ipython3",
   "version": "3.9.7"
  }
 },
 "nbformat": 4,
 "nbformat_minor": 5
}
