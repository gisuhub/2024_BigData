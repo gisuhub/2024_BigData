{
 "cells": [
  {
   "cell_type": "markdown",
   "id": "6546e03e",
   "metadata": {},
   "source": [
    "## 수행평가 에상문제\n",
    "- 문제 6\n",
    "- 영어단어장 만들기 프로그램"
   ]
  },
  {
   "cell_type": "code",
   "execution_count": 3,
   "id": "5c61cef5",
   "metadata": {},
   "outputs": [
    {
     "name": "stdout",
     "output_type": "stream",
     "text": [
      "영어단어, 뜻 : banana, 바나나\n",
      "영어단어, 뜻 : ssss,성대\n",
      "영어단어, 뜻 : \n"
     ]
    },
    {
     "data": {
      "text/plain": [
       "{'banana': ' 바나나', 'ssss': '성대'}"
      ]
     },
     "execution_count": 3,
     "metadata": {},
     "output_type": "execute_result"
    }
   ],
   "source": [
    "dict_word = {}\n",
    "while True:\n",
    "    input_word = input(\"영어단어, 뜻 : \")\n",
    "    if input_word == '':\n",
    "        break\n",
    "        \n",
    "    eng = input_word.split(',')[0]\n",
    "    kor = input_word.split(',')[1]\n",
    "    \n",
    "    dict_word[eng] = kor\n",
    "    \n",
    "dict_word"
   ]
  },
  {
   "cell_type": "markdown",
   "id": "a0a7db69",
   "metadata": {},
   "source": [
    "# 수행평가 에상문제\n",
    "```\n",
    "| 문제 7\n",
    "| 할인된 금액 계산 프로그램\n",
    "\n",
    "금액                      할인율\n",
    "1만원이상 5만원 미만        5%\n",
    "5만원이상 10만원미만        7%\n",
    "10만원이상                  10%\n",
    "```"
   ]
  },
  {
   "cell_type": "code",
   "execution_count": 4,
   "id": "3fda0df9",
   "metadata": {},
   "outputs": [
    {
     "name": "stdout",
     "output_type": "stream",
     "text": [
      "물건구매가 : 100000\n",
      "\n",
      "구매가 : 100000\n",
      "할인율 : 10%\n",
      "할인금액 : 10000.0\n",
      "지불금액 : 90000.0\n",
      "\n"
     ]
    }
   ],
   "source": [
    "price = int(input(\"물건구매가 : \"))\n",
    "\n",
    "if price >= 100000:\n",
    "    dc = 10\n",
    "elif price >= 50000:\n",
    "    dc = 7\n",
    "elif price >= 10000:\n",
    "    dc = 5\n",
    "else:\n",
    "    dc = 0\n",
    "    \n",
    "\n",
    "print(f'''\n",
    "구매가 : {price}\n",
    "할인율 : {dc}%\n",
    "할인금액 : {price*(dc/100)}\n",
    "지불금액 : {price-price*(dc/100)}\n",
    "''')"
   ]
  },
  {
   "cell_type": "markdown",
   "id": "a548056c",
   "metadata": {},
   "source": [
    "수행평가 예상문제\n",
    "``` \n",
    " | 문제8\n",
    " | 사칙연산 프로그램\n",
    "```\n",
    "\n",
    "- 두 수와 사칙연산기호(+,-,*,/)을 입력받아 연산 기호에 따라 연산 결과를 출력하는 프로그램을 작성하세요.\n",
    "- 사칙연산기호(+,-,*,/)가 아닌 경우 '잘못입력하셨습니다.' 출력\n"
   ]
  },
  {
   "cell_type": "code",
   "execution_count": 6,
   "id": "9be45c57",
   "metadata": {},
   "outputs": [
    {
     "name": "stdout",
     "output_type": "stream",
     "text": [
      "숫자1 : 6\n",
      "숫자2 : 4\n",
      "연산기호 : +\n",
      "덧셈 : 6 + 4 = 10\n"
     ]
    }
   ],
   "source": [
    "num1 = int(input(\"숫자1 : \"))\n",
    "num2 = int(input(\"숫자2 : \"))\n",
    "op = input(\"연산기호 : \")\n",
    "if op == '+':\n",
    "    print(f\"덧셈 : {num1} + {num2} = {num1+num2}\")\n",
    "elif op == '-':\n",
    "    print(f\"뺄셈 : {num1} - {num2} = {num1-num2}\")\n",
    "elif op == '*':\n",
    "    print(f'곱셈 : {num1} * {num2} = {num1*num2}')\n",
    "elif op == '/':\n",
    "    print(f'나눗셈 : {num1} / {num2} = {num1/num2}')\n",
    "else:\n",
    "    print(f\"잘못 입력하셨습니다.\")\n",
    "    "
   ]
  },
  {
   "cell_type": "markdown",
   "id": "9911ac53",
   "metadata": {},
   "source": [
    "## 수행평가 예상문제\n",
    " ```\n",
    " | 문제9\n",
    " | up&down 숫자 맞추기 게임 프로그램\n",
    " ```"
   ]
  },
  {
   "cell_type": "code",
   "execution_count": 7,
   "id": "a04ac15c",
   "metadata": {},
   "outputs": [
    {
     "name": "stdout",
     "output_type": "stream",
     "text": [
      "Attempt 1. 예상 숫자를 입력하세요.(1-100): 50\n",
      "Down\n",
      "Attempt 2. 예상 숫자를 입력하세요.(1-100): 30\n",
      "Down\n",
      "Attempt 3. 예상 숫자를 입력하세요.(1-100): 10\n",
      "정답입니다!\n",
      "3번 만에 맞추었습니다.\n"
     ]
    }
   ],
   "source": [
    "import random\n",
    "def guess_number_game(max_attempts=5):\n",
    "    cnt = 0\n",
    "    num = random.randint(1,100)\n",
    "    \n",
    "    while cnt < max_attempts:\n",
    "        cnt +=1\n",
    "        answer = int(input(f'Attempt {cnt}. 예상 숫자를 입력하세요.(1-100): '))\n",
    "        if answer == num:\n",
    "            print(f\"정답입니다!\")\n",
    "            print(f\"{cnt}번 만에 맞추었습니다.\")\n",
    "            return\n",
    "        if answer < num :\n",
    "            print(\"Up\")\n",
    "        else:\n",
    "            print(\"Down\")\n",
    "            \n",
    "    print(f'횟수 초과입니다. 정답은 {num}였습니다.')\n",
    "    \n",
    "guess_number_game()"
   ]
  },
  {
   "cell_type": "markdown",
   "id": "00555c24",
   "metadata": {},
   "source": [
    "## 수행평가 예상문제\n",
    "```\n",
    "| 문제 10\n",
    "| 아이디/비밀번호 프로그램\n",
    "\n",
    "올바른 아이디/비밀번호를 입력할 때까지 아이디와 비밀번호를 입력하는 프로그램 만들기\n",
    "아이디가 잘못되었으면 '아이디를 확인하세요' 출력\n",
    "비밀번호가 잘못되었으면 '비밀번호를 확인하세요' 출력\n",
    "```"
   ]
  },
  {
   "cell_type": "code",
   "execution_count": 8,
   "id": "34d13947",
   "metadata": {},
   "outputs": [
    {
     "name": "stdout",
     "output_type": "stream",
     "text": [
      "id : id123\n",
      "pwd : pwd123\n"
     ]
    }
   ],
   "source": [
    "id = 'id123'\n",
    "pwd = 'pwd123'\n",
    "\n",
    "while True:\n",
    "    input_id = input('id : ')\n",
    "    input_pwd = input('pwd : ')\n",
    "    \n",
    "    if id == input_id and pwd == input_pwd:\n",
    "        break\n",
    "    if id != input_id :\n",
    "        print(f'아이디를 확인하세요.')\n",
    "    if pwd != input_pwd :\n",
    "        print(f\"비밀번호를 확인하세요.\")"
   ]
  }
 ],
 "metadata": {
  "kernelspec": {
   "display_name": "Python 3 (ipykernel)",
   "language": "python",
   "name": "python3"
  },
  "language_info": {
   "codemirror_mode": {
    "name": "ipython",
    "version": 3
   },
   "file_extension": ".py",
   "mimetype": "text/x-python",
   "name": "python",
   "nbconvert_exporter": "python",
   "pygments_lexer": "ipython3",
   "version": "3.9.7"
  }
 },
 "nbformat": 4,
 "nbformat_minor": 5
}
