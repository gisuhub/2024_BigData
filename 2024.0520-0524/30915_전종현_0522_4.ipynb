{
 "cells": [
  {
   "cell_type": "markdown",
   "id": "dbd2d8cb",
   "metadata": {},
   "source": [
    "## 1161 : 홀수와 짝수 그리고 더하기\n",
    "정수 두개가 입력으로 들어온다.\n",
    "\n",
    "만약 첫번째 정수가 홀수이면 \"홀수\"를 출력하고, 짝수이면 \"짝수\"를 출력한 후  \"+\"를 출력한다.\n",
    "\n",
    "그리고 두번째 정수가 홀수이면 \"홀수\"를 출력하고, 짝수이면 \"짝수\"를 출력한 후  \"=\"을 출력하고 결과로 나오는 값이 홀수인지 짝수인지 출력한다.\n",
    "\n",
    " \n",
    "\n",
    "예를들어,\n",
    "\n",
    "5 7 이 입력되면 \"홀수+홀수=짝수\"가 출력된다.\n",
    "\n",
    "5 6 이 입력되면 \"홀수+짝수=홀수\"가 출력된다."
   ]
  },
  {
   "cell_type": "code",
   "execution_count": 3,
   "id": "76bb2a52",
   "metadata": {},
   "outputs": [
    {
     "name": "stdout",
     "output_type": "stream",
     "text": [
      "5 6\n",
      "홀수+짝수=홀수\n"
     ]
    }
   ],
   "source": [
    "a,b = map(int,input().split())\n",
    "f = a+b\n",
    "\n",
    "if a%2 != 0:\n",
    "    a = '홀수'\n",
    "elif a%2 == 0:\n",
    "    a = '짝수'\n",
    "    \n",
    "if b%2 == 0:\n",
    "    b = '짝수'\n",
    "elif b%2 != 0:\n",
    "    b = '홀수'\n",
    "\n",
    "if f%2 == 0:\n",
    "    f = '짝수'\n",
    "elif f%2 != 0:\n",
    "    f = '홀수'\n",
    "\n",
    "print(f\"{a}+{b}={f}\")"
   ]
  },
  {
   "cell_type": "markdown",
   "id": "c4be514f",
   "metadata": {},
   "source": [
    "## 1162 : 당신의 사주를 봐 드립니다 1\n",
    "태어난 해, 월, 일을 입력받아 사주팔자를 보는 프로그램을 작성하시오.\n",
    "\n",
    "사주를 보는 방법)\n",
    "\n",
    "세 수(년,월,일)가 주어지면,  (년 - 월 + 일)에 마지막 숫자가 0이면 \"대박\"을 출력, 그렇지 않으면 \"그럭저럭\"을 출력하세요."
   ]
  },
  {
   "cell_type": "code",
   "execution_count": 7,
   "id": "74821504",
   "metadata": {},
   "outputs": [
    {
     "name": "stdout",
     "output_type": "stream",
     "text": [
      "1902 2 10\n",
      "대박\n"
     ]
    }
   ],
   "source": [
    "y,m,d = map(int,input().split())\n",
    "\n",
    "if (y-m+d )%10 == 0:\n",
    "    print(\"대박\")\n",
    "else:\n",
    "    print(\"그럭저럭\")"
   ]
  },
  {
   "cell_type": "markdown",
   "id": "0e65bd38",
   "metadata": {},
   "source": [
    "## 1163 : 당신의 사주를 봐 드립니다 2\n",
    "태어난 해, 월, 일을 입력받아 사주팔자를 보는 프로그램을 작성하시오.\n",
    "\n",
    "사주를 보는 방법)\n",
    "\n",
    "세 수(년,월,일)가 주어지면,  (년 + 월 + 일)에 100의 자리 숫자가 짝수이면 \"대박\"을 출력, 그렇지 않으면 \"그럭저럭\"을 출력하세요."
   ]
  },
  {
   "cell_type": "code",
   "execution_count": 21,
   "id": "af039e84",
   "metadata": {},
   "outputs": [
    {
     "name": "stdout",
     "output_type": "stream",
     "text": [
      "1502 2 10\n",
      "그럭저럭\n"
     ]
    }
   ],
   "source": [
    "y,m,d = map(int,input().split())\n",
    "n = y+m+d\n",
    "\n",
    "\n",
    "if (n//100)%2 == 0:\n",
    "    print(\"대박\")\n",
    "else:\n",
    "    print(\"그럭저럭\")"
   ]
  },
  {
   "cell_type": "markdown",
   "id": "a9be8633",
   "metadata": {},
   "source": [
    "## 1164 : 터널 통과하기 1\n",
    "어떤 차의 높이가 170cm 이다.\n",
    "\n",
    "이 차는 3개의 터널을 차례대로 지나게 될 것이다.\n",
    "\n",
    "터널의 높이가 차의 높이보다 같거나 낮다면 차는 터널과 충돌하여 사고가 날 것이다.\n",
    "\n",
    "터널의 높이가 차례대로 3개 주어지면 터널을 무사히 잘 통과하면 PASS 를 출력하고, 사고가 난다면 CRASH 를 출력하시오."
   ]
  },
  {
   "cell_type": "code",
   "execution_count": 22,
   "id": "b9420b5d",
   "metadata": {},
   "outputs": [
    {
     "name": "stdout",
     "output_type": "stream",
     "text": [
      "170 168 175\n",
      "CRASH\n"
     ]
    }
   ],
   "source": [
    "a,b,c=map(int, input().split())\n",
    "if(a<=170):\n",
    "    print(\"CRASH\")\n",
    "elif(b<=170):\n",
    "    print(\"CRASH\")\n",
    "elif(c<=170):\n",
    "    print(\"CRASH\")\n",
    "else:\n",
    "    print(\"PASS\")"
   ]
  },
  {
   "cell_type": "markdown",
   "id": "3a467a89",
   "metadata": {},
   "source": [
    "## 1165 : 축구의 신 1\n",
    "지금 1반과 2반이 축구를 하고있다.\n",
    "\n",
    "축구경기 타임은 총 90분이고,\n",
    "\n",
    "현재 1반이 0점, 2반이 2점인 상황에서, 1반은 경남정보고 최고의 스트라이커인 성익이를 투입하기로 결정했다.\n",
    "\n",
    "성익이는 5분마다 골을 넣을 수 있는 능력을 가지고 있다.\n",
    "\n",
    "만약 80분에 투입이 되면 80분에 곧바로 골을 넣게되고 85분에 골을 넣음으로서 동점이 가능하게 된다.\n",
    "\n",
    "(90분이되면 경기가 바로 종료되므로 골을 넣을 수 없다. 동내심판인 성빈이는 성익이가 잘 되는 것을 싫어하기 때문에 추가시간 따위는 주지 않는다. )\n",
    "\n",
    "현재 경기타임과 우리팀의 득점이 입력으로 주어 질때, 성익이를 투입하면 우리팀의 최종 득점은 몇 점인지 출력하시오."
   ]
  },
  {
   "cell_type": "code",
   "execution_count": 49,
   "id": "f08dbbcf",
   "metadata": {},
   "outputs": [
    {
     "name": "stdout",
     "output_type": "stream",
     "text": [
      "74 2\n",
      "6\n"
     ]
    }
   ],
   "source": [
    "t,s = map(int,input().split())\n",
    "d_t =90\n",
    "\n",
    "while t <= d_t:\n",
    "    if t%5 == 0:\n",
    "        s = s+1\n",
    "        t=t+1\n",
    "    else:\n",
    "        t=t+1\n",
    "        \n",
    "print(s)"
   ]
  },
  {
   "cell_type": "markdown",
   "id": "abf6924f",
   "metadata": {},
   "source": [
    "아직 안됨"
   ]
  }
 ],
 "metadata": {
  "kernelspec": {
   "display_name": "Python 3 (ipykernel)",
   "language": "python",
   "name": "python3"
  },
  "language_info": {
   "codemirror_mode": {
    "name": "ipython",
    "version": 3
   },
   "file_extension": ".py",
   "mimetype": "text/x-python",
   "name": "python",
   "nbconvert_exporter": "python",
   "pygments_lexer": "ipython3",
   "version": "3.9.7"
  }
 },
 "nbformat": 4,
 "nbformat_minor": 5
}
