{
 "cells": [
  {
   "cell_type": "markdown",
   "id": "2912ed2b",
   "metadata": {},
   "source": [
    "##  30915_전종현_0520_4"
   ]
  },
  {
   "cell_type": "markdown",
   "id": "114ba636",
   "metadata": {},
   "source": [
    "# 딕셔너리:사전\n",
    "\n",
    "- 키와 값으로 구성됩니다.\n",
    "- {}를 이용한다."
   ]
  },
  {
   "cell_type": "code",
   "execution_count": 3,
   "id": "7bda325b",
   "metadata": {},
   "outputs": [
    {
     "name": "stdout",
     "output_type": "stream",
     "text": [
      "{'break': '깨어지다', 'bring': '가져오다', 'brush': '붓', 'brave': '용감한'}\n"
     ]
    }
   ],
   "source": [
    "eng = {\"break\":\"깨어지다\",\"bring\":\"가져오다\",\"brush\":\"붓\",\"brave\":\"용감한\"}\n",
    "print(eng)"
   ]
  },
  {
   "cell_type": "code",
   "execution_count": 4,
   "id": "f049ac2e",
   "metadata": {},
   "outputs": [
    {
     "name": "stdout",
     "output_type": "stream",
     "text": [
      "깨어지다\n"
     ]
    }
   ],
   "source": [
    "print(eng['break'])"
   ]
  },
  {
   "cell_type": "code",
   "execution_count": 6,
   "id": "e7574159",
   "metadata": {},
   "outputs": [
    {
     "name": "stdout",
     "output_type": "stream",
     "text": [
      "붓\n",
      "용감한\n"
     ]
    }
   ],
   "source": [
    "print(eng['brush'])\n",
    "print(eng['brave'])"
   ]
  },
  {
   "cell_type": "code",
   "execution_count": 7,
   "id": "71442278",
   "metadata": {},
   "outputs": [
    {
     "ename": "KeyError",
     "evalue": "'brief'",
     "output_type": "error",
     "traceback": [
      "\u001b[1;31m---------------------------------------------------------------------------\u001b[0m",
      "\u001b[1;31mKeyError\u001b[0m                                  Traceback (most recent call last)",
      "\u001b[1;32m~\\AppData\\Local\\Temp/ipykernel_1940/1619027262.py\u001b[0m in \u001b[0;36m<module>\u001b[1;34m\u001b[0m\n\u001b[1;32m----> 1\u001b[1;33m \u001b[0mprint\u001b[0m\u001b[1;33m(\u001b[0m\u001b[0meng\u001b[0m\u001b[1;33m[\u001b[0m\u001b[1;34m'brief'\u001b[0m\u001b[1;33m]\u001b[0m\u001b[1;33m)\u001b[0m\u001b[1;33m\u001b[0m\u001b[1;33m\u001b[0m\u001b[0m\n\u001b[0m",
      "\u001b[1;31mKeyError\u001b[0m: 'brief'"
     ]
    }
   ],
   "source": [
    "print(eng['brief'])"
   ]
  },
  {
   "cell_type": "code",
   "execution_count": 12,
   "id": "3746428c",
   "metadata": {},
   "outputs": [
    {
     "name": "stdout",
     "output_type": "stream",
     "text": [
      "어떤 메뉴를 드시겠습니까? : 라면\n",
      "3000 원입니다.\n"
     ]
    }
   ],
   "source": [
    "menu = {\"김밥\":2500,\"참치김밥\":3500,\"라면\":3000,\"치즈라면\":4000}\n",
    "eat = input(\"어떤 메뉴를 드시겠습니까? : \")\n",
    "print(menu[eat],\"원입니다.\")"
   ]
  },
  {
   "cell_type": "code",
   "execution_count": 13,
   "id": "28e39c28",
   "metadata": {},
   "outputs": [],
   "source": [
    "menu[\"라면\"] = 3500\n",
    "menu[\"치즈라면\"] = 4500"
   ]
  },
  {
   "cell_type": "code",
   "execution_count": 14,
   "id": "bedfb18e",
   "metadata": {},
   "outputs": [
    {
     "name": "stdout",
     "output_type": "stream",
     "text": [
      "{'김밥': 2500, '참치김밥': 3500, '라면': 3500, '치즈라면': 4500}\n"
     ]
    }
   ],
   "source": [
    "print(menu)"
   ]
  },
  {
   "cell_type": "code",
   "execution_count": 15,
   "id": "b2894789",
   "metadata": {},
   "outputs": [
    {
     "name": "stdout",
     "output_type": "stream",
     "text": [
      "{'김밥': 3000, '참치김밥': 3500, '라면': 3500, '치즈라면': 4500}\n"
     ]
    }
   ],
   "source": [
    "menu['김밥'] += 500\n",
    "print(menu)"
   ]
  },
  {
   "cell_type": "code",
   "execution_count": 18,
   "id": "41170641",
   "metadata": {},
   "outputs": [
    {
     "name": "stdout",
     "output_type": "stream",
     "text": [
      "{'김밥': 3000, '참치김밥': 3500, '라면': 3500, '치즈라면': 4500, '돈가스': 6000}\n"
     ]
    }
   ],
   "source": [
    "menu['돈가스'] = 6000\n",
    "print(menu)"
   ]
  },
  {
   "cell_type": "code",
   "execution_count": 19,
   "id": "30b8da6e",
   "metadata": {},
   "outputs": [
    {
     "name": "stdout",
     "output_type": "stream",
     "text": [
      "음식을 추가해주세요. : 성대\n",
      "가격을 추가해주세요. : 10000\n",
      "{'김밥': 3000, '참치김밥': 3500, '라면': 3500, '치즈라면': 4500, '돈가스': 6000, '성대': 10000}\n"
     ]
    }
   ],
   "source": [
    "yi = input(\"음식을 추가해주세요. : \")\n",
    "price = int(input(\"가격을 추가해주세요. : \"))\n",
    "\n",
    "menu[yi] = price\n",
    "print(menu)"
   ]
  },
  {
   "cell_type": "code",
   "execution_count": 20,
   "id": "0d340cb2",
   "metadata": {},
   "outputs": [
    {
     "name": "stdout",
     "output_type": "stream",
     "text": [
      "{'김밥': 3000, '참치김밥': 3500, '라면': 3500, '치즈라면': 4500, '돈가스': 6000, '성대': 10000}\n",
      "삭제할 음식을 적어주세요. : 돈가스\n",
      "{'김밥': 3000, '참치김밥': 3500, '라면': 3500, '치즈라면': 4500, '성대': 10000}\n"
     ]
    }
   ],
   "source": [
    "print(menu)\n",
    "yi = input(\"삭제할 음식을 적어주세요. : \")\n",
    "\n",
    "del menu[yi]\n",
    "\n",
    "print(menu)"
   ]
  },
  {
   "cell_type": "code",
   "execution_count": 21,
   "id": "915c2671",
   "metadata": {},
   "outputs": [
    {
     "name": "stdout",
     "output_type": "stream",
     "text": [
      "dict_keys(['김밥', '참치김밥', '라면', '치즈라면', '성대'])\n"
     ]
    }
   ],
   "source": [
    "print(menu.keys())"
   ]
  },
  {
   "cell_type": "code",
   "execution_count": 22,
   "id": "22808e39",
   "metadata": {},
   "outputs": [
    {
     "name": "stdout",
     "output_type": "stream",
     "text": [
      "dict_values([3000, 3500, 3500, 4500, 10000])\n"
     ]
    }
   ],
   "source": [
    "print(menu.values())"
   ]
  },
  {
   "cell_type": "code",
   "execution_count": 23,
   "id": "8eebd114",
   "metadata": {},
   "outputs": [
    {
     "name": "stdout",
     "output_type": "stream",
     "text": [
      "['김밥', '참치김밥', '라면', '치즈라면', '성대']\n"
     ]
    }
   ],
   "source": [
    "# 추출한 키괏값을 리스트로 바꾸기\n",
    "\n",
    "menu_list = list(menu.keys())\n",
    "print(menu_list)"
   ]
  },
  {
   "cell_type": "code",
   "execution_count": 25,
   "id": "f5c96d8f",
   "metadata": {},
   "outputs": [
    {
     "name": "stdout",
     "output_type": "stream",
     "text": [
      "dict_items([('김밥', 3000), ('참치김밥', 3500), ('라면', 3500), ('치즈라면', 4500), ('성대', 10000)])\n"
     ]
    }
   ],
   "source": [
    "# key + value = items\n",
    "\n",
    "print(menu.items())"
   ]
  },
  {
   "cell_type": "code",
   "execution_count": 31,
   "id": "93d32b14",
   "metadata": {},
   "outputs": [
    {
     "name": "stdout",
     "output_type": "stream",
     "text": [
      "['김밥', '라면', '성대', '참치김밥', '치즈라면']\n",
      "[3000, 3500, 3500, 4500, 10000]\n",
      "['치즈라면', '참치김밥', '성대', '라면', '김밥']\n",
      "[('김밥', 3000), ('라면', 3500), ('성대', 10000), ('참치김밥', 3500), ('치즈라면', 4500)]\n"
     ]
    }
   ],
   "source": [
    "# 키를 기준으로 딕셔너리 정렬하기 : sorted()\n",
    "# 키를 기준으로 딕셔너리 역순 정렬하기 : reversed = True\n",
    "# 키 값 싸을 묶어서 딕셔너리 정렬하기 : sorted() items\n",
    "print(sorted(menu.keys()))\n",
    "print(sorted(menu.values()))\n",
    "print(sorted(menu.keys(),reverse=True))\n",
    "print(sorted(menu.items()))"
   ]
  },
  {
   "cell_type": "code",
   "execution_count": 32,
   "id": "40662d6a",
   "metadata": {},
   "outputs": [
    {
     "name": "stdout",
     "output_type": "stream",
     "text": [
      "[('성대', 10000), ('치즈라면', 4500), ('참치김밥', 3500), ('라면', 3500), ('김밥', 3000)]\n"
     ]
    }
   ],
   "source": [
    "# 값을 기준으로 키-값 정렬하기: sorted()\n",
    "import operator\n",
    "\n",
    "print(sorted(menu.items(),key = operator.itemgetter(1),reverse=True))"
   ]
  },
  {
   "cell_type": "code",
   "execution_count": 33,
   "id": "2937c932",
   "metadata": {},
   "outputs": [
    {
     "name": "stdout",
     "output_type": "stream",
     "text": [
      "[('성대', 10000), ('치즈라면', 4500), ('참치김밥', 3500)]\n"
     ]
    }
   ],
   "source": [
    "print(sorted(menu.items(),key = operator.itemgetter(1),reverse=True)[:3])"
   ]
  },
  {
   "cell_type": "markdown",
   "id": "a5f9a041",
   "metadata": {},
   "source": [
    "# 조건문으로 딕셔너리 다루기"
   ]
  },
  {
   "cell_type": "code",
   "execution_count": 39,
   "id": "487a07f5",
   "metadata": {},
   "outputs": [
    {
     "name": "stdout",
     "output_type": "stream",
     "text": [
      "{'도윤': 43, '하윤': 82, '시우': 76, '지유': 61, '주원': 94}\n",
      "어떤 학생의 점수가 궁금하신가요? : 시우\n",
      "76\n"
     ]
    }
   ],
   "source": [
    "midterm = {\"도윤\":43,\"하윤\":82,'시우':76,\"지유\":61,\"주원\":94}\n",
    "print(midterm)\n",
    "student = input(\"어떤 학생의 점수가 궁금하신가요? : \")\n",
    "# if 어떤학생인지 찾기\n",
    "if student in midterm.keys():\n",
    "    print(midterm[student])\n",
    "else:\n",
    "    print(\"해당 학생이 없습니다.\")"
   ]
  },
  {
   "cell_type": "code",
   "execution_count": 41,
   "id": "3c97a8bc",
   "metadata": {},
   "outputs": [
    {
     "name": "stdout",
     "output_type": "stream",
     "text": [
      "하윤 82\n",
      "시우 76\n",
      "주원 94\n"
     ]
    }
   ],
   "source": [
    "# 중각고사 점수가 70점 이상인 학생을 누구?\n",
    "\n",
    "for k,v in midterm.items():\n",
    "    if v >= 70:\n",
    "        print(k,v)"
   ]
  }
 ],
 "metadata": {
  "kernelspec": {
   "display_name": "Python 3 (ipykernel)",
   "language": "python",
   "name": "python3"
  },
  "language_info": {
   "codemirror_mode": {
    "name": "ipython",
    "version": 3
   },
   "file_extension": ".py",
   "mimetype": "text/x-python",
   "name": "python",
   "nbconvert_exporter": "python",
   "pygments_lexer": "ipython3",
   "version": "3.9.7"
  }
 },
 "nbformat": 4,
 "nbformat_minor": 5
}
