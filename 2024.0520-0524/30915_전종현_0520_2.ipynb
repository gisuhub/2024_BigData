{
 "cells": [
  {
   "cell_type": "markdown",
   "id": "f14ad80e",
   "metadata": {},
   "source": [
    "## 1151 : 10보다 작은 수\n",
    "\n",
    "10보다 작은 수가 입력되면 small 을 출력, 10이상이면 아무것도 출력하지 마시오."
   ]
  },
  {
   "cell_type": "code",
   "execution_count": 2,
   "id": "9f56b0f1",
   "metadata": {},
   "outputs": [
    {
     "name": "stdout",
     "output_type": "stream",
     "text": [
      "5\n",
      "small\n"
     ]
    }
   ],
   "source": [
    "n = int(input())\n",
    "\n",
    "if 10 > n:\n",
    "    print('small')"
   ]
  },
  {
   "cell_type": "markdown",
   "id": "91f0ed5e",
   "metadata": {},
   "source": [
    "## 1152 : 10보다 작은 수 (else 버전)\n",
    "10보다 작은 정수가 입력되면 small 을 출력, 그 이상의 수가 입력되면 big 을 출력하시오."
   ]
  },
  {
   "cell_type": "code",
   "execution_count": 6,
   "id": "b75df920",
   "metadata": {},
   "outputs": [
    {
     "name": "stdout",
     "output_type": "stream",
     "text": [
      "10\n",
      "big\n"
     ]
    }
   ],
   "source": [
    "n = int(input())\n",
    "\n",
    "if 10 > n:\n",
    "    print('small')\n",
    "elif 10 <= n:\n",
    "    print('big')\n"
   ]
  },
  {
   "cell_type": "markdown",
   "id": "1fda53b9",
   "metadata": {},
   "source": [
    "## 1153 : 두 수의 대소 비교\n",
    "두 정수가 입력된다.  두 정수의 크기를 비교하여 왼쪽 수가 크면 > 를 출력, 오른쪽 수가 크면 < 를 출력, 같으면 = 을 출력하시오."
   ]
  },
  {
   "cell_type": "code",
   "execution_count": 8,
   "id": "ac9c58d8",
   "metadata": {},
   "outputs": [
    {
     "name": "stdout",
     "output_type": "stream",
     "text": [
      "2 6\n",
      "<\n"
     ]
    }
   ],
   "source": [
    "a,b = map(int,input().split())\n",
    "if a > b:\n",
    "    print(\">\")\n",
    "elif a < b:\n",
    "    print(\"<\")\n",
    "elif a == b:\n",
    "    print(\"=\")\n",
    "    "
   ]
  },
  {
   "cell_type": "markdown",
   "id": "d5c775eb",
   "metadata": {},
   "source": [
    "## 1154 : 큰수 - 작은수\n",
    "정수 두개가 입력으로 들어오면 큰수 - 작은수의 값을 출력하시오.\n"
   ]
  },
  {
   "cell_type": "code",
   "execution_count": 9,
   "id": "be12359e",
   "metadata": {},
   "outputs": [
    {
     "name": "stdout",
     "output_type": "stream",
     "text": [
      "5 7\n",
      "2\n"
     ]
    }
   ],
   "source": [
    "a,b = map(int,input().split())\n",
    "\n",
    "c = max(a,b)\n",
    "d = min(a,b)\n",
    "\n",
    "print(c-d)"
   ]
  },
  {
   "cell_type": "markdown",
   "id": "6bf9441b",
   "metadata": {},
   "source": [
    "## 1155 : 7의 배수\n",
    "인학이는 숫자 7을 좋아한다.\n",
    "\n",
    "어떤 정수가 입력되면 그 수가 7의 배수인지 확인하시오."
   ]
  },
  {
   "cell_type": "code",
   "execution_count": 13,
   "id": "5d71e284",
   "metadata": {},
   "outputs": [
    {
     "name": "stdout",
     "output_type": "stream",
     "text": [
      "9\n",
      "not multiple\n"
     ]
    }
   ],
   "source": [
    "a = int(input())\n",
    "\n",
    "if a%7==0:\n",
    "    print(\"multiple\")\n",
    "else:\n",
    "    print(\"not multiple\")"
   ]
  },
  {
   "cell_type": "markdown",
   "id": "ac064457",
   "metadata": {},
   "source": [
    "## 1156 : 홀수 짝수 구별\n",
    "용준이와 봉찬이는 공기 놀이로 내기를 하였다.\n",
    "\n",
    "만약 홀수개의 돌을 쥐게 되면 용준이가 이기게 되고, 짝수개의 돌을 쥐게 되면 봉찬이가 이기는 것으로 룰을 정하였다.\n",
    "\n",
    " \n",
    "\n",
    "어떤 자연수가 입력되면  홀수이면 \"odd\"을 출력하고, 짝수이면 \"even\"을 출력하시오."
   ]
  },
  {
   "cell_type": "code",
   "execution_count": 16,
   "id": "a606cdc3",
   "metadata": {},
   "outputs": [
    {
     "name": "stdout",
     "output_type": "stream",
     "text": [
      "5\n",
      "odd\n"
     ]
    }
   ],
   "source": [
    "n = int(input())\n",
    "\n",
    "if n%2 == 0:\n",
    "    print(\"even\")\n",
    "elif n%2 == 1:\n",
    "    print(\"odd\")"
   ]
  },
  {
   "cell_type": "markdown",
   "id": "b2679b5a",
   "metadata": {},
   "source": [
    "## 1157 : 특별한 공 던지기 1\n",
    "슬기는 체육 선생님과 공던지기로 아이스크림 내기를 하게 됐다.\n",
    "\n",
    "공을 던져서 50m ~ 60m 사이에 공이 들어가면 슬기가 이기게 되고, 그 외에 공이 떨어지면 체육선생님이 이기게 룰을 정했다.\n",
    "\n",
    "슬기가 던진 공의 위치가 입력으로 주어지면 50이상 60이하이면 \"win\"을 출력하고, 그 외에는 \"lose\"를 출력하시오."
   ]
  },
  {
   "cell_type": "code",
   "execution_count": 18,
   "id": "f6538856",
   "metadata": {},
   "outputs": [
    {
     "name": "stdout",
     "output_type": "stream",
     "text": [
      "49\n",
      "lose\n"
     ]
    }
   ],
   "source": [
    "k = float(input())\n",
    "if k >= 50 and k <= 60:\n",
    "    print(\"win\")\n",
    "else:\n",
    "    print(\"lose\")"
   ]
  },
  {
   "cell_type": "markdown",
   "id": "a10c9dd9",
   "metadata": {},
   "source": [
    "## 1158 : 특별한 공 던지기 2\n",
    "슬기는 지난 번 공던지기에서 져서 아이스크림을 사게되었다.\n",
    "\n",
    "얼마 뒤 열받은 슬기는 체육 선생님에게 다시 한번 공던지기를 하여 아이스크림 내기를 하자고 제안하였다.\n",
    "\n",
    "그런데 이번에는 불리한 슬기가 다음 룰을 제안하였다.\n",
    "\n",
    "1. 공이 30m~40m나 60m~70m 에 들어오면 슬기가 이김.\n",
    "\n",
    "2. 그 외의 구간에 떨어지면 체육선생님이 이김.\n",
    "\n",
    "슬기가 던진 공의 위치가 입력으로 주어지면 슬기가 이기는 구간에는 \"win\"을 출력하고, 그 외에는 \"lose\"를 출력하시오."
   ]
  },
  {
   "cell_type": "code",
   "execution_count": 19,
   "id": "4e4c7fc0",
   "metadata": {},
   "outputs": [
    {
     "name": "stdout",
     "output_type": "stream",
     "text": [
      "50\n",
      "lose\n"
     ]
    }
   ],
   "source": [
    "n = int(input())\n",
    "\n",
    "if 30 <= n and n <=40 or 60 <= n and 70 >= n:\n",
    "    print('win')\n",
    "else:\n",
    "    print('lose')"
   ]
  },
  {
   "cell_type": "markdown",
   "id": "88755c65",
   "metadata": {},
   "source": [
    "## 1159 : 특별한 공 던지기 3\n",
    "    슬기는 지난 번에도 공던지기에 져서 아이스크림을 사게되었다.\n",
    "\n",
    "슬기는 이미 돈이 다 떨어져서 현량이에게 돈을 빌린 상태이다.\n",
    "\n",
    "이번에는 슬기가 또 다른 조건을 내걸고 체육 선생님에게 도전하게 되었다. \n",
    "\n",
    "1. 공의 위치가 50m~70m이면 슬기가 이김.\n",
    "\n",
    "또는\n",
    "\n",
    "2. 공의 위치가 6의 배수이면 슬기가 이김. \n",
    "\n",
    "슬기가 던진 공의 위치가 입력으로 주어지면 슬기가 이기는 구간에는 \"win\"을 출력하고, 그 외에는 \"lose\"를 출력하시오."
   ]
  },
  {
   "cell_type": "code",
   "execution_count": 23,
   "id": "de3d59bd",
   "metadata": {},
   "outputs": [
    {
     "name": "stdout",
     "output_type": "stream",
     "text": [
      "80\n",
      "lose\n"
     ]
    }
   ],
   "source": [
    "n = int(input())\n",
    "\n",
    "if 50 <= n and 70>=n or n%6==0:\n",
    "    print(\"win\")\n",
    "else:\n",
    "    print('lose')"
   ]
  },
  {
   "cell_type": "markdown",
   "id": "ac23174d",
   "metadata": {},
   "source": [
    "## 1160 : 아르바이트 가는 날\n",
    "주원이는 월, 수, 금, 일 아르바이트를 간다.\n",
    "\n",
    "다음은 요일의 순서이다.\n",
    "\n",
    "월요일\n",
    "화요일\n",
    "수요일\n",
    "목요일\n",
    "금요일\n",
    "토요일\n",
    "일요일\n",
    "요일의 번호가 입력으로 주어지면 그 날이 아르바이트 가는 날이면 \"oh my god\"를 가는 날이 아니면 \"enjoy\"를 출력하시오."
   ]
  },
  {
   "cell_type": "code",
   "execution_count": 24,
   "id": "7dc0c95f",
   "metadata": {},
   "outputs": [
    {
     "name": "stdout",
     "output_type": "stream",
     "text": [
      "3\n",
      "oh my god\n"
     ]
    }
   ],
   "source": [
    "d = int(input())\n",
    "if d == 1:\n",
    "    print(\"oh my god\")\n",
    "elif d ==2:\n",
    "    print(\"enjoy\")\n",
    "elif d ==3:\n",
    "    print(\"oh my god\")\n",
    "elif d == 4:\n",
    "    print(\"enjoy\")\n",
    "elif d == 5:\n",
    "    print(\"oh my god\")\n",
    "elif d == 6:\n",
    "    print(\"enjoy\")\n",
    "elif d ==7:\n",
    "    print(\"oh my god\")"
   ]
  },
  {
   "cell_type": "code",
   "execution_count": 27,
   "id": "6b36e929",
   "metadata": {},
   "outputs": [
    {
     "name": "stdout",
     "output_type": "stream",
     "text": [
      "3\n",
      "oh my god\n"
     ]
    }
   ],
   "source": [
    "## 위 방법은 노개데 이거는 간편함\n",
    "\n",
    "d = int(input())\n",
    "\n",
    "if d%2==0:\n",
    "    print(\"enjoy\")\n",
    "elif d%2 == 1:\n",
    "    print(\"oh my god\")"
   ]
  }
 ],
 "metadata": {
  "kernelspec": {
   "display_name": "Python 3 (ipykernel)",
   "language": "python",
   "name": "python3"
  },
  "language_info": {
   "codemirror_mode": {
    "name": "ipython",
    "version": 3
   },
   "file_extension": ".py",
   "mimetype": "text/x-python",
   "name": "python",
   "nbconvert_exporter": "python",
   "pygments_lexer": "ipython3",
   "version": "3.9.7"
  }
 },
 "nbformat": 4,
 "nbformat_minor": 5
}
