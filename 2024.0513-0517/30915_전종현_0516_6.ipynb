{
 "cells": [
  {
   "cell_type": "markdown",
   "id": "24598897",
   "metadata": {},
   "source": [
    "## 1143 : 비트 연산자(AND)\n",
    "두 수를 입력받아 비트단위로 AND연산한 후 결과를 출력하시오.\n",
    "\n",
    "참고)\n",
    "\n",
    "비트연산자 & 는 주어진 2개의 값을 2진법으로 변환한 뒤, 비트별로 AND 연산을 수행한 뒤 결과를 출력한다.\n",
    "\n",
    "이러한 비트 연산을 AND 연산이라고도 부르고, &로 표시한다.\n",
    "\n",
    "7 : 0000 0111\n",
    "\n",
    "4 : 0000 0100\n",
    "\n",
    "7&4 : 0000 0100  --> 10진수 : 4"
   ]
  },
  {
   "cell_type": "code",
   "execution_count": 4,
   "id": "d68bb787",
   "metadata": {
    "scrolled": true
   },
   "outputs": [
    {
     "name": "stdout",
     "output_type": "stream",
     "text": [
      "3 5\n",
      "1\n"
     ]
    }
   ],
   "source": [
    "a, b = map(int,input().split())\n",
    "\n",
    "print(a&b)"
   ]
  },
  {
   "cell_type": "markdown",
   "id": "461c7148",
   "metadata": {},
   "source": [
    "## 1144 : 비트 연산자(OR)\n",
    "\n",
    "두 수를 입력받아 비트단위로 OR연산한 후 결과를 출력하시오.\n",
    "\n",
    "참고)\n",
    "\n",
    "비트연산자 | 은 주어진 2개의 값을 2진법으로 변환한 뒤, 비트별로 OR 연산을 수행한 뒤 결과를 출력한다.\n",
    "\n",
    "이러한 비트 연산을 OR 연산이라고도 부르고, |로 표시한다.\n",
    "\n",
    "예)\n",
    "\n",
    "7 : 0000 0111\n",
    "\n",
    "4 : 0000 0100\n",
    "\n",
    "7|4 : 0000 0111"
   ]
  },
  {
   "cell_type": "code",
   "execution_count": 5,
   "id": "190fb95d",
   "metadata": {
    "scrolled": true
   },
   "outputs": [
    {
     "name": "stdout",
     "output_type": "stream",
     "text": [
      "3 5\n",
      "7\n"
     ]
    }
   ],
   "source": [
    "a, b = map(int,input().split())\n",
    "\n",
    "print(a|b)"
   ]
  },
  {
   "cell_type": "markdown",
   "id": "df934bba",
   "metadata": {},
   "source": [
    "## 1147 : 비트 연산자(<<)\n",
    "\n",
    "정수 a, x를 입력받아 a의 값을 x만큼 SHIFT(<<) 연산한 후 결과를 출력하시오.\n",
    "\n",
    "참고)\n",
    "\n",
    "비트 이동연산자 << 은 주어진 a를 구성하고 있는 비트를 왼쪽으로 x번 이동한 후 결과를 보여준다.\n",
    "\n",
    "이러한 비트 연산을 SHIFT 연산이라고도 부르고, <<로 표시한다.\n",
    "\n",
    "예)\n",
    "\n",
    "4<<1 : 0000 0100 ---> 0000 1000 (10진수:8)\n",
    "\n",
    "4<<2 : 0000 0100 ---> 0001 0000 (10진수:16)"
   ]
  },
  {
   "cell_type": "code",
   "execution_count": 7,
   "id": "a0416051",
   "metadata": {},
   "outputs": [
    {
     "name": "stdout",
     "output_type": "stream",
     "text": [
      "3 3\n",
      "24\n"
     ]
    }
   ],
   "source": [
    "a, b = map(int,input().split())\n",
    "\n",
    "print(a<<b)"
   ]
  },
  {
   "cell_type": "markdown",
   "id": "e9375c15",
   "metadata": {},
   "source": [
    "## 1148 : 비트 연산자(>>)\n",
    "정수 a, x를 입력받아 a의 값을 x만큼 SHIFT(>>) 연산한 후 결과를 출력하시오.\n",
    "\n",
    "참고)\n",
    "\n",
    "비트연산자 >> 은 주어진 a값을 오른쪽으로 x번 이동한 후 결과를 출력한다.\n",
    "\n",
    "이러한 비트 연산을 SHIFT 연산이라고도 부르고, >>로 표시한다.\n",
    "\n",
    "예)\n",
    "\n",
    "4>>1 : 0000 0100 ---> 0000 0010 (10진수:2)\n",
    "\n",
    "7>>2 : 0000 0111 ---> 0000 0001 (10진수:1)"
   ]
  },
  {
   "cell_type": "code",
   "execution_count": 8,
   "id": "7b87d8d0",
   "metadata": {},
   "outputs": [
    {
     "name": "stdout",
     "output_type": "stream",
     "text": [
      "4 1\n",
      "2\n"
     ]
    }
   ],
   "source": [
    "a, b = map(int,input().split())\n",
    "\n",
    "print(a>>b)"
   ]
  },
  {
   "cell_type": "markdown",
   "id": "0de93a73",
   "metadata": {},
   "source": [
    "## 1149 : 두 수 중 큰 수\n",
    "두 정수 중 큰 정수를 출력한다."
   ]
  },
  {
   "cell_type": "code",
   "execution_count": 9,
   "id": "3f96a32b",
   "metadata": {},
   "outputs": [
    {
     "name": "stdout",
     "output_type": "stream",
     "text": [
      "2 7\n",
      "7\n"
     ]
    }
   ],
   "source": [
    "a, b = map(int,input().split())\n",
    "\n",
    "if a>b :\n",
    "    print(a)\n",
    "elif b>a:\n",
    "    print(b)\n",
    "else:\n",
    "    print(0)"
   ]
  },
  {
   "cell_type": "markdown",
   "id": "9cfa2a9f",
   "metadata": {},
   "source": [
    "## 1150 : 세 수 중 가장 작은 수\n",
    "세 정수가 주어지면 그 중 가장 작은 수를 출력한다."
   ]
  },
  {
   "cell_type": "code",
   "execution_count": 15,
   "id": "4dc73f19",
   "metadata": {},
   "outputs": [
    {
     "name": "stdout",
     "output_type": "stream",
     "text": [
      "4 4 7\n",
      "4\n"
     ]
    }
   ],
   "source": [
    "a, b, c = map(int,input().split())\n",
    "\n",
    "print(min(a,b,c))"
   ]
  }
 ],
 "metadata": {
  "kernelspec": {
   "display_name": "Python 3 (ipykernel)",
   "language": "python",
   "name": "python3"
  },
  "language_info": {
   "codemirror_mode": {
    "name": "ipython",
    "version": 3
   },
   "file_extension": ".py",
   "mimetype": "text/x-python",
   "name": "python",
   "nbconvert_exporter": "python",
   "pygments_lexer": "ipython3",
   "version": "3.9.7"
  }
 },
 "nbformat": 4,
 "nbformat_minor": 5
}
