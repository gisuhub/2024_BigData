{
 "cells": [
  {
   "cell_type": "markdown",
   "id": "6aacf497",
   "metadata": {},
   "source": [
    "## 30915_전종현_0516_7"
   ]
  },
  {
   "cell_type": "markdown",
   "id": "186dd9f4",
   "metadata": {},
   "source": [
    "# 이차원 리스트"
   ]
  },
  {
   "cell_type": "code",
   "execution_count": 3,
   "id": "4d7b9687",
   "metadata": {},
   "outputs": [
    {
     "name": "stdout",
     "output_type": "stream",
     "text": [
      "[[1, 2, 3], [4, 5, 6], [7, 8, 9]]\n"
     ]
    }
   ],
   "source": [
    "abc = [[1,2,3],[4,5,6],[7,8,9]]\n",
    "print(abc)"
   ]
  },
  {
   "cell_type": "code",
   "execution_count": 4,
   "id": "b5c4c15c",
   "metadata": {},
   "outputs": [
    {
     "name": "stdout",
     "output_type": "stream",
     "text": [
      "[1, 2, 3]\n",
      "[4, 5, 6]\n",
      "[7, 8, 9]\n"
     ]
    }
   ],
   "source": [
    "for i in abc:\n",
    "    print(i)"
   ]
  },
  {
   "cell_type": "code",
   "execution_count": 7,
   "id": "4beb11d9",
   "metadata": {},
   "outputs": [
    {
     "name": "stdout",
     "output_type": "stream",
     "text": [
      "1\n"
     ]
    }
   ],
   "source": [
    "print(abc[0][0])"
   ]
  },
  {
   "cell_type": "code",
   "execution_count": 8,
   "id": "f49d4506",
   "metadata": {},
   "outputs": [
    {
     "name": "stdout",
     "output_type": "stream",
     "text": [
      "6\n"
     ]
    }
   ],
   "source": [
    "print(abc[1][2])"
   ]
  },
  {
   "cell_type": "code",
   "execution_count": 11,
   "id": "b214be65",
   "metadata": {},
   "outputs": [
    {
     "name": "stdout",
     "output_type": "stream",
     "text": [
      "1 4 7 "
     ]
    }
   ],
   "source": [
    "for i in abc:\n",
    "    print(i[0],end=' ')"
   ]
  },
  {
   "cell_type": "code",
   "execution_count": 12,
   "id": "b982e3ba",
   "metadata": {},
   "outputs": [
    {
     "name": "stdout",
     "output_type": "stream",
     "text": [
      "3 6 9 "
     ]
    }
   ],
   "source": [
    "for i in abc:\n",
    "    print(i[2],end=' ')"
   ]
  },
  {
   "cell_type": "markdown",
   "id": "35ebce3a",
   "metadata": {},
   "source": [
    "#### 이차원 리스트로 간단한 프로그램 만들기"
   ]
  },
  {
   "cell_type": "code",
   "execution_count": 13,
   "id": "b2c29c9a",
   "metadata": {},
   "outputs": [],
   "source": [
    "card = [['2020.03.04 18:56','주식회사 카카오페이',1000],\n",
    "       ['2020.03.03 14:54','네이버페이',51100],\n",
    "       ['2020.03.02 12:13','스타벅스코리아',10000],\n",
    "       ['2020.03.01 15:49','11번가',27500],\n",
    "       ['2020.02.26 11:40','주식회사 카카오페이',32500],\n",
    "       ['2020.02.26 11:38','주식회사 카카오페이',32500],\n",
    "       ['2020.02.22 15:00','G마켓',81500],\n",
    "       ['2020.02.22 15:15','네이버페이',131000]]"
   ]
  },
  {
   "cell_type": "code",
   "execution_count": 23,
   "id": "a92298a1",
   "metadata": {},
   "outputs": [
    {
     "name": "stdout",
     "output_type": "stream",
     "text": [
      "주식회사 카카오페이\n",
      "11번가\n"
     ]
    }
   ],
   "source": [
    "print(card[0][1])\n",
    "print(card[3][1])"
   ]
  },
  {
   "cell_type": "code",
   "execution_count": 24,
   "id": "460bfaed",
   "metadata": {},
   "outputs": [],
   "source": [
    "olympic = [[1,'미국',46,37,38,121],\n",
    "          [2,'영국',27,23,17,67],\n",
    "          [3,'중국',26,18,26,70],\n",
    "          [4,'러시아',19,18,19,56],\n",
    "          [5,'독일',17,10,15,42],\n",
    "          [6,'일본',12,8,21,41],\n",
    "          [7,'프랑스',10,18,14,42],\n",
    "          [8,'대한민국',9,3,9,21]]"
   ]
  },
  {
   "cell_type": "code",
   "execution_count": 33,
   "id": "765e3ef0",
   "metadata": {},
   "outputs": [
    {
     "name": "stdout",
     "output_type": "stream",
     "text": [
      "미국 금매달 개수 : 46\n",
      "독일 금매달 개수 : 17\n"
     ]
    }
   ],
   "source": [
    "print(f'{olympic[0][1]} 금매달 개수 : {olympic[0][2]}')\n",
    "print(f'{olympic[4][1]} 금매달 개수 : {olympic[4][2]}')"
   ]
  },
  {
   "cell_type": "code",
   "execution_count": 34,
   "id": "9ddd47c1",
   "metadata": {},
   "outputs": [
    {
     "name": "stdout",
     "output_type": "stream",
     "text": [
      "[1, '미국']\n",
      "[2, '영국']\n",
      "[3, '중국']\n",
      "[4, '러시아']\n",
      "[5, '독일']\n",
      "[6, '일본']\n",
      "[7, '프랑스']\n",
      "[8, '대한민국']\n"
     ]
    }
   ],
   "source": [
    "for i in olympic:\n",
    "    print(i[:2])"
   ]
  },
  {
   "cell_type": "code",
   "execution_count": 47,
   "id": "918d593a",
   "metadata": {},
   "outputs": [
    {
     "name": "stdout",
     "output_type": "stream",
     "text": [
      "금매달보다 은매달이 더 많은 나라\n",
      "프랑스\n"
     ]
    }
   ],
   "source": [
    "print(\"금매달보다 은매달이 더 많은 나라\")\n",
    "for i in olympic :\n",
    "    if i[2] < i[3]:\n",
    "        print(i[1])"
   ]
  }
 ],
 "metadata": {
  "kernelspec": {
   "display_name": "Python 3 (ipykernel)",
   "language": "python",
   "name": "python3"
  },
  "language_info": {
   "codemirror_mode": {
    "name": "ipython",
    "version": 3
   },
   "file_extension": ".py",
   "mimetype": "text/x-python",
   "name": "python",
   "nbconvert_exporter": "python",
   "pygments_lexer": "ipython3",
   "version": "3.9.7"
  }
 },
 "nbformat": 4,
 "nbformat_minor": 5
}
