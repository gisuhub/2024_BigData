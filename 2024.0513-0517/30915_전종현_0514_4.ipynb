{
 "cells": [
  {
   "cell_type": "markdown",
   "id": "4a5d1219",
   "metadata": {},
   "source": [
    "## 1125 : 8진수 16진수 변환\n",
    "10진수 정수를 입력받아 8진수와 16진수로 출력한다."
   ]
  },
  {
   "cell_type": "code",
   "execution_count": 3,
   "id": "0ecf4619",
   "metadata": {},
   "outputs": [
    {
     "name": "stdout",
     "output_type": "stream",
     "text": [
      "10\n",
      "12 A\n"
     ]
    }
   ],
   "source": [
    "n = int(input())\n",
    "\n",
    "print('%o'%n,'%X'%n)"
   ]
  },
  {
   "cell_type": "markdown",
   "id": "c17cb04e",
   "metadata": {},
   "source": [
    "## 1131 : 문자 출력하기\n",
    "입력된 문자를 그대로 출력한다."
   ]
  },
  {
   "cell_type": "code",
   "execution_count": 4,
   "id": "d1a672f1",
   "metadata": {},
   "outputs": [
    {
     "name": "stdout",
     "output_type": "stream",
     "text": [
      "a\n",
      "a\n"
     ]
    }
   ],
   "source": [
    "t = input()\n",
    "print(t)"
   ]
  },
  {
   "cell_type": "markdown",
   "id": "2c586031",
   "metadata": {},
   "source": [
    "## 1132 : 문자열 출력하기\n",
    "한 단어를 입력받아 출력한다."
   ]
  },
  {
   "cell_type": "code",
   "execution_count": 5,
   "id": "aa57f5e3",
   "metadata": {},
   "outputs": [
    {
     "name": "stdout",
     "output_type": "stream",
     "text": [
      "cat\n",
      "cat\n"
     ]
    }
   ],
   "source": [
    "t = input()\n",
    "\n",
    "print(t)"
   ]
  },
  {
   "cell_type": "markdown",
   "id": "1693350c",
   "metadata": {},
   "source": [
    "## 1133 : 공백이 있는 문자열 입출력\n",
    "scanf(\"%s\", str);를 사용하면 공백이후의 문자를 입력받지 못한다.\n",
    "\n",
    "공백이 있는 문자열을 입력받아 출력해보자."
   ]
  },
  {
   "cell_type": "code",
   "execution_count": 6,
   "id": "09c9ccc6",
   "metadata": {},
   "outputs": [
    {
     "name": "stdout",
     "output_type": "stream",
     "text": [
      "black sheep wall\n",
      "black sheep wall\n"
     ]
    }
   ],
   "source": [
    "t = input()\n",
    "print(t)"
   ]
  },
  {
   "cell_type": "markdown",
   "id": "78c91571",
   "metadata": {},
   "source": [
    "## 1135 : 관계연산자 1\n",
    "두 정수(a, b)를 입력받아 a가 b보다 크거나 같으면(이상) 1, a가 b보다 작으면(미만) 0을 출력하는 프로그램을 작성해보자.\n",
    "\n",
    "참고)\n",
    "\n",
    "어떤 값을 비교하기 위해 관계연산자를 사용할 수 있다.\n",
    "\n",
    "관계연산자는 주어진 2개 값을 비교하고, 그 결과가 참인 경우, 참(true)을 나타내는 정수값 1로 계산되고 거짓인 경우, 거짓(false)를 나타내는 정수값 0으로 계산된다.\n",
    "\n",
    "관계연산자도 일반적인 사칙연산자처럼 주어진 두 수를 이용해 계산을 수행하고 그 결과를 1(참), 또는 0(거짓)으로 계산해 주는 연산자이다.\n",
    "\n",
    "관계연산자의 종류는 다음과 같다. >, <, >=, <=, ==(같다), !=(다르다)"
   ]
  },
  {
   "cell_type": "code",
   "execution_count": 10,
   "id": "87d8e67f",
   "metadata": {},
   "outputs": [
    {
     "name": "stdout",
     "output_type": "stream",
     "text": [
      "2 3\n",
      "0\n"
     ]
    }
   ],
   "source": [
    "a,b = map(int,input().split())\n",
    "\n",
    "if a >= b :\n",
    "    print(1)\n",
    "else:\n",
    "    print(0)"
   ]
  },
  {
   "cell_type": "markdown",
   "id": "f2dbfcac",
   "metadata": {},
   "source": [
    "## 1136 : 관계연산자 2\n",
    "두 정수(a, b)를 입력받아 a와 b가 같으면 1, 같지 않으면 0을 출력하는 프로그램을 작성하시오.\n",
    "\n",
    "참고)\n",
    "\n",
    "어떤 값을 비교하기 위해 관계연산자를 사용할 수 있다.\n",
    "\n",
    "관계연산자는 주어진 2개 값을 비교하고, 그 결과가 참인 경우, 참(true)을 나타내는 정수값 1로 계산되고 거짓인 경우, 거짓(false)를 나타내는 정수값 0으로 계산된다.\n",
    "\n",
    "관계연산자도 일반적인 사칙연산자처럼 주어진 두 수를 이용해 계산을 수행하고 그 결과를 1(참), 또는 0(거짓)으로 계산해 주는 연산자이다. 관계연산자는 다음과 같다. >, <, >=, <=, ==(같다), !=(다르다)"
   ]
  },
  {
   "cell_type": "code",
   "execution_count": 11,
   "id": "9afc6d85",
   "metadata": {},
   "outputs": [
    {
     "name": "stdout",
     "output_type": "stream",
     "text": [
      "2 3\n",
      "0\n"
     ]
    }
   ],
   "source": [
    "a,b = map(int,input().split())\n",
    "\n",
    "if a == b :\n",
    "    print(1)\n",
    "elif a != b:\n",
    "    print(0)"
   ]
  },
  {
   "cell_type": "markdown",
   "id": "80015b3c",
   "metadata": {},
   "source": [
    "## 1137 : 관계연산자 3\n",
    "두 정수(a, b)를 입력받아 a와 b가 같으면 0, 같지 않으면 1을 출력하는 프로그램을 작성하시오.\n",
    "\n",
    "참고)\n",
    "\n",
    "어떤 값을 비교하기 위해 비교/관계연산자(comparison/relational)를 사용할 수 있다.\n",
    "\n",
    "관계연산자는 주어진 2개 값을 비교하고, 그 결과가 참인 경우, 참(true)을 나타내는 정수값 1로 계산되고 거짓인 경우, 거짓(false)를 나타내는 정수값 0으로 계산된다.\n",
    "\n",
    "비교/관계연산자도 일반적인 사칙연산자처럼 주어진 두 수를 이용해 계산을 수행하고 그 결과를 1(참), 또는 0(거짓)으로 계산해 주는 연산자이다.\n",
    "\n",
    "비교/관계연산자는 >, <, >=, <=, ==(같다), !=(다르다) 의 4가지가 있다."
   ]
  },
  {
   "cell_type": "code",
   "execution_count": 12,
   "id": "f3e8b486",
   "metadata": {},
   "outputs": [
    {
     "name": "stdout",
     "output_type": "stream",
     "text": [
      "2 3\n",
      "1\n"
     ]
    }
   ],
   "source": [
    "a,b = map(int,input().split())\n",
    "\n",
    "if a != b :\n",
    "    print(1)\n",
    "elif a == b:\n",
    "    print(0)"
   ]
  },
  {
   "cell_type": "markdown",
   "id": "61b30cef",
   "metadata": {},
   "source": [
    "## 1138 : 논리 연산자(NOT)\n",
    "1(true, 참) 또는 0(false, 거짓) 이 입력되었을 때 결과를 반대로 출력하는 프로그램을 작성해보자.\n",
    "\n",
    "참고)\n",
    "\n",
    "C언어에서 비교/관계 연산(==, !=, >, <, >=, <=)이 수행될 때, 0은 거짓(false)을 의미하고, 0이 아닌 모든 수는 참(true)으로 인식한다.\n",
    "\n",
    "참 또는 거짓의 논리값을 역(반대)로 바꾸기 위해서는 논리(logical) 연산자 ! 를 사용할 수 있다.\n",
    "\n",
    "이러한 논리 연산을 NOT 연산이라고도 부른다.\n",
    "\n",
    "참, 거짓의 논리값(boolean value, 불 값을 다루어주는 논리연산자는 !(not), &&(and), ||(or) 이 있다."
   ]
  },
  {
   "cell_type": "code",
   "execution_count": 14,
   "id": "e13b8fba",
   "metadata": {},
   "outputs": [
    {
     "name": "stdout",
     "output_type": "stream",
     "text": [
      "0\n",
      "1\n"
     ]
    }
   ],
   "source": [
    "n = int(input())\n",
    "\n",
    "if n == 0:\n",
    "    print(1)\n",
    "elif n == 1:\n",
    "    print(0)"
   ]
  },
  {
   "cell_type": "markdown",
   "id": "63cc76f7",
   "metadata": {},
   "source": [
    "## 1139 : 논리 연산자(AND)\n",
    "두 가지의 참(1) 또는 거짓(0)이 입력될 때, 모두 참일 때는 1이, 그렇지 않으면 0이 출력되는 프로그램을 작성해보자.\n",
    "\n",
    "참고)\n",
    "\n",
    "논리연산자 && 는 주어진 2개의 논리값이 모두 참(1) 일 때에 1(참)으로 계산하고,이외의 경우에는 0(거짓) 으로 계산한다.\n",
    "\n",
    "이러한 논리 연산을 AND 연산이라고도 부르고, &&로 표시한다."
   ]
  },
  {
   "cell_type": "code",
   "execution_count": 21,
   "id": "f1924dcc",
   "metadata": {},
   "outputs": [
    {
     "name": "stdout",
     "output_type": "stream",
     "text": [
      "1 0\n",
      "0\n"
     ]
    }
   ],
   "source": [
    "a, b = map(int,input().split())\n",
    "\n",
    "if a and b == 1:\n",
    "    print(1)\n",
    "else:\n",
    "    print(0)"
   ]
  },
  {
   "cell_type": "markdown",
   "id": "abd4187d",
   "metadata": {},
   "source": [
    "## 1140 : 논리 연산자(OR)\n",
    "두 가지의 참(1) 또는 거짓(0)이 입력될 때, 둘 중 하나라도 참일 경우 1이, 그렇지 않으면 0이 출력되는 프로그램을 작성해보자.\n",
    "\n",
    "참고)\n",
    "\n",
    "논리연산자 || 는 주어진 2개의 논리값이 하나라도 참(1) 일 때에 1(참)으로 계산하고, 이외의 경우에는 0(거짓) 으로 계산한다.\n",
    "\n",
    "이러한 논리 연산을 OR 연산이라고도 부르고, ||로 표시한다."
   ]
  },
  {
   "cell_type": "code",
   "execution_count": 22,
   "id": "92ecce1d",
   "metadata": {},
   "outputs": [
    {
     "name": "stdout",
     "output_type": "stream",
     "text": [
      "0 1\n",
      "1\n"
     ]
    }
   ],
   "source": [
    "a, b = map(int,input().split())\n",
    "\n",
    "if a or b == 1:\n",
    "    print(1)\n",
    "else:\n",
    "    print(0)"
   ]
  }
 ],
 "metadata": {
  "kernelspec": {
   "display_name": "Python 3 (ipykernel)",
   "language": "python",
   "name": "python3"
  },
  "language_info": {
   "codemirror_mode": {
    "name": "ipython",
    "version": 3
   },
   "file_extension": ".py",
   "mimetype": "text/x-python",
   "name": "python",
   "nbconvert_exporter": "python",
   "pygments_lexer": "ipython3",
   "version": "3.9.7"
  }
 },
 "nbformat": 4,
 "nbformat_minor": 5
}
