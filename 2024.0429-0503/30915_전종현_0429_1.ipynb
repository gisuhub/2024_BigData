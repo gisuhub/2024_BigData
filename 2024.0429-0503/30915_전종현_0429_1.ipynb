{
 "cells": [
  {
   "cell_type": "markdown",
   "id": "8b1ded62",
   "metadata": {},
   "source": [
    "## 30915_전종현_0429_1"
   ]
  },
  {
   "cell_type": "code",
   "execution_count": 1,
   "id": "ef0ed260",
   "metadata": {},
   "outputs": [],
   "source": [
    "spending = [25,36,8,53,24,56]"
   ]
  },
  {
   "cell_type": "code",
   "execution_count": 2,
   "id": "62cda541",
   "metadata": {},
   "outputs": [
    {
     "data": {
      "text/plain": [
       "[25, 36, 8, 53, 24, 56]"
      ]
     },
     "execution_count": 2,
     "metadata": {},
     "output_type": "execute_result"
    }
   ],
   "source": [
    "spending"
   ]
  },
  {
   "cell_type": "code",
   "execution_count": 3,
   "id": "641723e2",
   "metadata": {},
   "outputs": [
    {
     "data": {
      "text/plain": [
       "list"
      ]
     },
     "execution_count": 3,
     "metadata": {},
     "output_type": "execute_result"
    }
   ],
   "source": [
    "type(spending)"
   ]
  },
  {
   "cell_type": "code",
   "execution_count": 4,
   "id": "4d934152",
   "metadata": {},
   "outputs": [
    {
     "name": "stdout",
     "output_type": "stream",
     "text": [
      "<class 'list'> [25, 36, 8, 53, 24, 56, 38, 79, 94, 20, 40, 25]\n",
      "<class 'list'> [25, 36, 8, 53, 24, 56]\n"
     ]
    }
   ],
   "source": [
    "spending_year = [25,36,8,53,24,56,38,79,94,20,40,25]\n",
    "print(type(spending_year),spending_year)\n",
    "\n",
    "spending_6mon = [25,36,8,53,24,56]\n",
    "print(type(spending_6mon),spending_6mon)"
   ]
  },
  {
   "cell_type": "code",
   "execution_count": 5,
   "id": "6195257f",
   "metadata": {},
   "outputs": [],
   "source": [
    "food = ['피자','치킨','떡볶이','스테이크','딸기','파스타']"
   ]
  },
  {
   "cell_type": "code",
   "execution_count": 10,
   "id": "744694fc",
   "metadata": {},
   "outputs": [
    {
     "name": "stdout",
     "output_type": "stream",
     "text": [
      "좋아하는 음식 개수 :  6\n",
      "좋아하는 음식 순위 :  ['피자', '치킨', '떡볶이', '스테이크', '딸기', '파스타']\n",
      "가장 좋아하는 음식 :  피자\n",
      "가장 싫어하는 음식 :  파스타\n",
      "피자\n",
      "치킨\n",
      "떡볶이\n",
      "스테이크\n",
      "딸기\n",
      "파스타\n"
     ]
    }
   ],
   "source": [
    "print('좋아하는 음식 개수 : ',len(food))\n",
    "print('좋아하는 음식 순위 : ', food)\n",
    "print(\"가장 좋아하는 음식 : \",food[0])\n",
    "print(\"가장 싫어하는 음식 : \",food[-1])\n",
    "for i in food:\n",
    "    print(i)"
   ]
  },
  {
   "cell_type": "code",
   "execution_count": 24,
   "id": "a9a8d159",
   "metadata": {},
   "outputs": [
    {
     "name": "stdout",
     "output_type": "stream",
     "text": [
      "좋아하는 음식의 순위별로 출력하시오.\n",
      "1등 : 피자\n",
      "2등 : 치킨\n",
      "3등 : 떡볶이\n",
      "4등 : 스테이크\n",
      "5등 : 딸기\n",
      "6등 : 파스타\n",
      "7등 : 라면\n",
      "8등 : 햄버거\n"
     ]
    }
   ],
   "source": [
    "food = ['피자','치킨','떡볶이','스테이크','딸기','파스타','라면','햄버거']\n",
    "print(\"좋아하는 음식의 순위별로 출력하시오.\")\n",
    "for i in range(len(food)):\n",
    "        print(f\"{i+1}등 : {food[i]}\")"
   ]
  },
  {
   "cell_type": "code",
   "execution_count": 25,
   "id": "bab2ea13",
   "metadata": {},
   "outputs": [
    {
     "data": {
      "text/plain": [
       "['피자', '치킨', '떡볶이', '스테이크', '딸기', '파스타', '라면', '햄버거', '감자칩']"
      ]
     },
     "execution_count": 25,
     "metadata": {},
     "output_type": "execute_result"
    }
   ],
   "source": [
    "#food에 감자칩을 추가해주면 \n",
    "food.append('감자칩')\n",
    "food"
   ]
  },
  {
   "cell_type": "markdown",
   "id": "4d8e626b",
   "metadata": {},
   "source": [
    "```\n",
    "\n",
    "해야할 일을 차례대로 입력해주세여.\n",
    "생일선물 사기\n",
    "인강 듣기\n",
    "파이썬 6장 공부하기\n",
    "책 읽기\n",
    "영단어 외우기\n",
    "```"
   ]
  },
  {
   "cell_type": "code",
   "execution_count": 35,
   "id": "4505615b",
   "metadata": {},
   "outputs": [
    {
     "name": "stdout",
     "output_type": "stream",
     "text": [
      "해야할 일을 차례대로 입력해주세요.\n",
      "거짓말\n",
      "안봐\n",
      "속이지마\n",
      "낚지마\n",
      "하지마\n",
      "['거짓말', '안봐', '속이지마', '낚지마', '하지마']\n"
     ]
    }
   ],
   "source": [
    "to_do = []\n",
    "print(\"해야할 일을 차례대로 입력해주세요.\")\n",
    "for i in range(5):\n",
    "    to_do.append(input())\n",
    "    \n",
    "print(f\"{to_do}\")"
   ]
  },
  {
   "cell_type": "code",
   "execution_count": 36,
   "id": "98cb7b66",
   "metadata": {},
   "outputs": [
    {
     "name": "stdout",
     "output_type": "stream",
     "text": [
      "['거짓말', '속이지마', '낚지마', '하지마']\n"
     ]
    }
   ],
   "source": [
    "to_do.remove(\"안봐\")\n",
    "print(to_do)"
   ]
  },
  {
   "cell_type": "code",
   "execution_count": 45,
   "id": "d82c99d8",
   "metadata": {},
   "outputs": [
    {
     "name": "stdout",
     "output_type": "stream",
     "text": [
      "년도 : 2024\n",
      "월 : 04\n",
      "일 : 29\n"
     ]
    }
   ],
   "source": [
    "date = '2024-04-29'\n",
    "\n",
    "print(f\"년도 : {date[0:4]}\")\n",
    "print(f\"월 : {date[5:7]}\")\n",
    "print(f\"일 : {date[-2:]}\")"
   ]
  },
  {
   "cell_type": "code",
   "execution_count": null,
   "id": "71a6d284",
   "metadata": {},
   "outputs": [],
   "source": [
    "\n"
   ]
  }
 ],
 "metadata": {
  "kernelspec": {
   "display_name": "Python 3 (ipykernel)",
   "language": "python",
   "name": "python3"
  },
  "language_info": {
   "codemirror_mode": {
    "name": "ipython",
    "version": 3
   },
   "file_extension": ".py",
   "mimetype": "text/x-python",
   "name": "python",
   "nbconvert_exporter": "python",
   "pygments_lexer": "ipython3",
   "version": "3.9.7"
  }
 },
 "nbformat": 4,
 "nbformat_minor": 5
}
