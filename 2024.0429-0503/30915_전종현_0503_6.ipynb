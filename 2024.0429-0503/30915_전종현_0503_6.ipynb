{
 "cells": [
  {
   "cell_type": "markdown",
   "id": "f0e2453e",
   "metadata": {},
   "source": [
    "# 1121 : 나머지 구하기"
   ]
  },
  {
   "cell_type": "markdown",
   "id": "10a04023",
   "metadata": {},
   "source": [
    "정수 계산에서 나머지를 구하시오.\n",
    "\n",
    "예를 들어\n",
    "\n",
    "7 / 5 의 나머지는 2입니다."
   ]
  },
  {
   "cell_type": "code",
   "execution_count": 1,
   "id": "dec9b443",
   "metadata": {},
   "outputs": [
    {
     "name": "stdout",
     "output_type": "stream",
     "text": [
      "7 5\n",
      "2\n"
     ]
    }
   ],
   "source": [
    "a, b = map(int,input().split())\n",
    "print(a%b)"
   ]
  },
  {
   "cell_type": "markdown",
   "id": "5ab2a7b8",
   "metadata": {},
   "source": [
    "# 1122 : 초를 분/초로 변환"
   ]
  },
  {
   "cell_type": "markdown",
   "id": "1769c58f",
   "metadata": {},
   "source": [
    "초를 입력받아 분 / 초의 형태로 출력하시오.\n",
    "\n",
    "예)\n",
    "\n",
    "60  ====>   1 0    (1분 0초를 뜻함)\n",
    "\n",
    "70    ====>    1  10       (1분 10초를 뜻함)"
   ]
  },
  {
   "cell_type": "code",
   "execution_count": 6,
   "id": "3dc3cfde",
   "metadata": {},
   "outputs": [
    {
     "name": "stdout",
     "output_type": "stream",
     "text": [
      "70\n",
      "1 10\n"
     ]
    }
   ],
   "source": [
    "s = int(input())\n",
    "\n",
    "b = s%60\n",
    "n = s//60\n",
    "print(n,b)"
   ]
  },
  {
   "cell_type": "markdown",
   "id": "97c19932",
   "metadata": {},
   "source": [
    "# 1123 : 섭씨 온도를 화씨 온도로 변환"
   ]
  },
  {
   "cell_type": "markdown",
   "id": "2a17f3d6",
   "metadata": {},
   "source": [
    "섭씨 온도가 입력되면 화씨 온도로 변환하시오.\n",
    "\n",
    "화씨 온도 = 9 / 5 * 섭씨온도 + 32"
   ]
  },
  {
   "cell_type": "code",
   "execution_count": 13,
   "id": "2d4fedca",
   "metadata": {},
   "outputs": [
    {
     "name": "stdout",
     "output_type": "stream",
     "text": [
      "30\n",
      "86.000\n"
     ]
    }
   ],
   "source": [
    "c = int(input())\n",
    "\n",
    "f = 9/5*c+32\n",
    "print(f\"{f:.3f}\")"
   ]
  },
  {
   "cell_type": "markdown",
   "id": "f1c5ee87",
   "metadata": {},
   "source": [
    "# 1125 : 8진수 16진수 변환"
   ]
  },
  {
   "cell_type": "markdown",
   "id": "6ec486af",
   "metadata": {},
   "source": [
    "10진수 정수를 입력받아 8진수와 16진수로 출력한다."
   ]
  },
  {
   "cell_type": "code",
   "execution_count": null,
   "id": "02cd5b57",
   "metadata": {},
   "outputs": [],
   "source": []
  }
 ],
 "metadata": {
  "kernelspec": {
   "display_name": "Python 3 (ipykernel)",
   "language": "python",
   "name": "python3"
  },
  "language_info": {
   "codemirror_mode": {
    "name": "ipython",
    "version": 3
   },
   "file_extension": ".py",
   "mimetype": "text/x-python",
   "name": "python",
   "nbconvert_exporter": "python",
   "pygments_lexer": "ipython3",
   "version": "3.9.7"
  }
 },
 "nbformat": 4,
 "nbformat_minor": 5
}
