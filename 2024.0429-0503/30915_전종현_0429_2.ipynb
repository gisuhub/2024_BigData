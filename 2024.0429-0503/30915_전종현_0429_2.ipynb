{
 "cells": [
  {
   "cell_type": "markdown",
   "id": "ba28bb2c",
   "metadata": {},
   "source": [
    "# 1110 : 정수 그대로 출력하기"
   ]
  },
  {
   "cell_type": "markdown",
   "id": "13f81dbb",
   "metadata": {},
   "source": [
    "입력받은 정수를 그대로 출력한다."
   ]
  },
  {
   "cell_type": "code",
   "execution_count": 1,
   "id": "f36da194",
   "metadata": {},
   "outputs": [
    {
     "name": "stdout",
     "output_type": "stream",
     "text": [
      "5\n",
      "5\n"
     ]
    }
   ],
   "source": [
    "n = int(input())\n",
    "print(n)"
   ]
  },
  {
   "cell_type": "markdown",
   "id": "4568a989",
   "metadata": {},
   "source": [
    "# 1111 : %출력"
   ]
  },
  {
   "cell_type": "markdown",
   "id": "3fc3f059",
   "metadata": {},
   "source": [
    "어떤 정수가 입력되면 %를 붙여 출력하시오."
   ]
  },
  {
   "cell_type": "code",
   "execution_count": 2,
   "id": "19834359",
   "metadata": {},
   "outputs": [
    {
     "name": "stdout",
     "output_type": "stream",
     "text": [
      "35\n",
      "35%\n"
     ]
    }
   ],
   "source": [
    "n = int(input())\n",
    "\n",
    "print(f\"{n}%\")"
   ]
  },
  {
   "cell_type": "markdown",
   "id": "ea7847a9",
   "metadata": {},
   "source": [
    "# 1112 : 두 정수 출력"
   ]
  },
  {
   "cell_type": "markdown",
   "id": "e1e97501",
   "metadata": {},
   "source": [
    "입력 받은 두 정수를 출력한다."
   ]
  },
  {
   "cell_type": "code",
   "execution_count": 8,
   "id": "25b0d9aa",
   "metadata": {},
   "outputs": [
    {
     "name": "stdout",
     "output_type": "stream",
     "text": [
      "3 5\n",
      "3 5\n"
     ]
    }
   ],
   "source": [
    "a,b = map(int,input().split())\n",
    "print(a,b)"
   ]
  },
  {
   "cell_type": "markdown",
   "id": "37279cff",
   "metadata": {},
   "source": [
    "# 1113 : 바꿔서 출력하기"
   ]
  },
  {
   "cell_type": "markdown",
   "id": "12e32852",
   "metadata": {},
   "source": [
    "두 정수를 입력받아 순서를 바꿔서 출력하시오."
   ]
  },
  {
   "cell_type": "code",
   "execution_count": 10,
   "id": "91470eeb",
   "metadata": {},
   "outputs": [
    {
     "name": "stdout",
     "output_type": "stream",
     "text": [
      "1 2\n",
      "2 1\n"
     ]
    }
   ],
   "source": [
    "a,b = map(int,input().split())\n",
    "print(b,a)"
   ]
  },
  {
   "cell_type": "markdown",
   "id": "2676f741",
   "metadata": {},
   "source": [
    "# 1114 : 두 정수의 덧셈"
   ]
  },
  {
   "cell_type": "markdown",
   "id": "b9860aa1",
   "metadata": {},
   "source": [
    "두 정수를 입력받아 합을 출력한다."
   ]
  },
  {
   "cell_type": "code",
   "execution_count": 11,
   "id": "705c8638",
   "metadata": {},
   "outputs": [
    {
     "name": "stdout",
     "output_type": "stream",
     "text": [
      "5 7\n",
      "12\n"
     ]
    }
   ],
   "source": [
    "a,b = map(int,input().split())\n",
    "print(a+b)"
   ]
  },
  {
   "cell_type": "markdown",
   "id": "1ac8d88e",
   "metadata": {},
   "source": [
    "# 1115 : 두 정수의 덧셈 (64비트)"
   ]
  },
  {
   "cell_type": "markdown",
   "id": "28d1f226",
   "metadata": {},
   "source": [
    "두 정수의 덧셈의 결과를 출력한다.\n",
    "\n",
    "두 수는 int 범위를 넘어선 64비트 정수형 값이다."
   ]
  },
  {
   "cell_type": "code",
   "execution_count": 14,
   "id": "8d4f792f",
   "metadata": {},
   "outputs": [
    {
     "name": "stdout",
     "output_type": "stream",
     "text": [
      "11111111111 22222222222\n",
      "33333333333\n"
     ]
    }
   ],
   "source": [
    "a,b = map(int,input().split())\n",
    "print(a+b)"
   ]
  },
  {
   "cell_type": "markdown",
   "id": "e16e5ddd",
   "metadata": {},
   "source": [
    "# 1116 : 사칙연산 계산기"
   ]
  },
  {
   "cell_type": "markdown",
   "id": "ecd5af30",
   "metadata": {},
   "source": [
    "두 정수를 입력받아 아래와 같이 출력하시오.\n",
    "\n",
    "예)  3 2\n",
    "\n",
    "3+2=5\n",
    "3-2=1\n",
    "3*2=6\n",
    "3/2=1"
   ]
  },
  {
   "cell_type": "code",
   "execution_count": 16,
   "id": "0030df50",
   "metadata": {},
   "outputs": [
    {
     "name": "stdout",
     "output_type": "stream",
     "text": [
      "3 2\n",
      "3+2=5\n",
      "3-2=1\n",
      "3*2=6\n",
      "3/2=1\n"
     ]
    }
   ],
   "source": [
    "a,b = map(int,input().split())\n",
    "print(f\"{a}+{b}={a+b}\")\n",
    "print(f\"{a}-{b}={a-b}\")\n",
    "print(f\"{a}*{b}={a*b}\")\n",
    "print(f\"{a}/{b}={a//b}\")"
   ]
  },
  {
   "cell_type": "markdown",
   "id": "449f3863",
   "metadata": {},
   "source": [
    "# 1117 : 두 실수의 곱"
   ]
  },
  {
   "cell_type": "markdown",
   "id": "076570aa",
   "metadata": {},
   "source": [
    "두 실수를 입력받아 두 실수의 곱을 출력하되 소수 둘째자리까지 출력하시오."
   ]
  },
  {
   "cell_type": "code",
   "execution_count": 26,
   "id": "b914d8b5",
   "metadata": {},
   "outputs": [
    {
     "name": "stdout",
     "output_type": "stream",
     "text": [
      "1.23 4.56\n",
      "5.61\n"
     ]
    }
   ],
   "source": [
    "a,b = map(float,input().split())\n",
    "si = a*b\n",
    "o_si = round(si,2)\n",
    "print(o_si)"
   ]
  },
  {
   "cell_type": "markdown",
   "id": "02ba247a",
   "metadata": {},
   "source": [
    "# 1118 : 삼각형의 넓이 구하기"
   ]
  },
  {
   "cell_type": "markdown",
   "id": "a971ded5",
   "metadata": {},
   "source": [
    "삼각형의 넓이를 구하는 프로그램을 작성한다.\n",
    "\n",
    "삼각형의 넓이 = 밑변 * 높이 / 2"
   ]
  },
  {
   "cell_type": "code",
   "execution_count": 29,
   "id": "963774ab",
   "metadata": {},
   "outputs": [
    {
     "name": "stdout",
     "output_type": "stream",
     "text": [
      "5 2\n",
      "5.0\n"
     ]
    }
   ],
   "source": [
    "a,b = map(int,input().split())\n",
    "sam = a*b/2\n",
    "print(sam)"
   ]
  },
  {
   "cell_type": "markdown",
   "id": "0f9f5c52",
   "metadata": {},
   "source": [
    "# 1119 : 일을 시간으로 변환"
   ]
  },
  {
   "cell_type": "markdown",
   "id": "5092e806",
   "metadata": {},
   "source": [
    "하루는 24시간이다.\n",
    "\n",
    "일(day)이 입력으로 주어지면 시간으로 변환하시오."
   ]
  },
  {
   "cell_type": "code",
   "execution_count": 30,
   "id": "d6d969a0",
   "metadata": {},
   "outputs": [
    {
     "name": "stdout",
     "output_type": "stream",
     "text": [
      "2\n",
      "48\n"
     ]
    }
   ],
   "source": [
    "a = int(input())\n",
    "\n",
    "print(24*a)"
   ]
  },
  {
   "cell_type": "markdown",
   "id": "91a68971",
   "metadata": {},
   "source": [
    "# 1120 : 세 수의 평균"
   ]
  },
  {
   "cell_type": "markdown",
   "id": "c2c22537",
   "metadata": {},
   "source": [
    "세 정수가 입력되면 평균을 출력하시오."
   ]
  },
  {
   "cell_type": "code",
   "execution_count": 35,
   "id": "dd54ea50",
   "metadata": {},
   "outputs": [
    {
     "name": "stdout",
     "output_type": "stream",
     "text": [
      "1 2 3\n",
      "2.00\n"
     ]
    }
   ],
   "source": [
    "a,b,c = map(int,input().split())\n",
    "ss = (a+b+c)/3\n",
    "ooo = f'{ss:.2f}'\n",
    "print(ooo)"
   ]
  }
 ],
 "metadata": {
  "kernelspec": {
   "display_name": "Python 3 (ipykernel)",
   "language": "python",
   "name": "python3"
  },
  "language_info": {
   "codemirror_mode": {
    "name": "ipython",
    "version": 3
   },
   "file_extension": ".py",
   "mimetype": "text/x-python",
   "name": "python",
   "nbconvert_exporter": "python",
   "pygments_lexer": "ipython3",
   "version": "3.9.7"
  }
 },
 "nbformat": 4,
 "nbformat_minor": 5
}
