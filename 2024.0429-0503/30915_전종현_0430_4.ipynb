{
 "cells": [
  {
   "cell_type": "markdown",
   "id": "e0f492ec",
   "metadata": {},
   "source": [
    "# 30915_전종현_0430_4"
   ]
  },
  {
   "cell_type": "code",
   "execution_count": 1,
   "id": "99c56090",
   "metadata": {},
   "outputs": [
    {
     "name": "stdout",
     "output_type": "stream",
     "text": [
      "연도 :  2024\n",
      "월 :  04\n",
      "일 :  30\n"
     ]
    }
   ],
   "source": [
    "date = '2024-04-30'\n",
    "\n",
    "print(\"연도 : \",date[:4])\n",
    "print(\"월 : \",date[5:7])\n",
    "print(\"일 : \",date[-2:])"
   ]
  },
  {
   "cell_type": "code",
   "execution_count": 3,
   "id": "80fa35c5",
   "metadata": {},
   "outputs": [
    {
     "name": "stdout",
     "output_type": "stream",
     "text": [
      "['준원이', '바보', '바보']\n",
      "준원이\n",
      "바보\n",
      "바보\n"
     ]
    }
   ],
   "source": [
    "a = '준원이 바보 바보'\n",
    "\n",
    "print(a.split())\n",
    "print(a.split()[0])\n",
    "print(a.split()[1])\n",
    "print(a.split()[2])"
   ]
  },
  {
   "cell_type": "code",
   "execution_count": 8,
   "id": "bb2d5cc2",
   "metadata": {},
   "outputs": [
    {
     "name": "stdout",
     "output_type": "stream",
     "text": [
      "['2024', '04', '30']\n",
      "2024\n",
      "04\n",
      "30\n"
     ]
    }
   ],
   "source": [
    "# -(하이폰)을 기준으로 split\n",
    "date = '2024-04-30'\n",
    "\n",
    "print(date.split(\"-\"))\n",
    "for i in range(3):\n",
    "    print(date.split('-')[i])"
   ]
  },
  {
   "cell_type": "code",
   "execution_count": 19,
   "id": "5a921c67",
   "metadata": {},
   "outputs": [
    {
     "name": "stdout",
     "output_type": "stream",
     "text": [
      "정렬 후 :  ['감자칩', '된장찌개', '바나나', '스테이크', '치킨', '파스타', '피자']\n"
     ]
    }
   ],
   "source": [
    "# 리스트 원소 정렬하기 .sort()\n",
    "food = ['피자','치킨','스테이크','된장찌개','바나나','파스타','감자칩']\n",
    "food.sort()\n",
    "print(\"정렬 후 : \",food)"
   ]
  },
  {
   "cell_type": "code",
   "execution_count": 20,
   "id": "311144c4",
   "metadata": {},
   "outputs": [
    {
     "name": "stdout",
     "output_type": "stream",
     "text": [
      "정렬 후 :  ['피자', '파스타', '치킨', '스테이크', '바나나', '된장찌개', '감자칩']\n"
     ]
    }
   ],
   "source": [
    "# 리스트 원소 내림차순(역순)으로 정렬하기 .sort(reverse=True)\n",
    "food = ['피자','치킨','스테이크','된장찌개','바나나','파스타','감자칩']\n",
    "food.sort(reverse=True)\n",
    "print(\"정렬 후 : \",food)"
   ]
  },
  {
   "cell_type": "code",
   "execution_count": 23,
   "id": "7b3685c6",
   "metadata": {},
   "outputs": [
    {
     "name": "stdout",
     "output_type": "stream",
     "text": [
      "첫 번째 값 :  56\n",
      "두 번째 값 :  53\n"
     ]
    }
   ],
   "source": [
    "# 문제 : 역순으로 정렬하고 첫 번째 두 번째 출력해보기\n",
    "\n",
    "spend = [25,36,8,53,24,56]\n",
    "\n",
    "spend.sort(reverse=True)\n",
    "print(\"첫 번째 값 : \",spend[0])\n",
    "print(\"두 번째 값 : \",spend[1])"
   ]
  },
  {
   "cell_type": "code",
   "execution_count": 42,
   "id": "df9d4830",
   "metadata": {},
   "outputs": [
    {
     "name": "stdout",
     "output_type": "stream",
     "text": [
      "최댓값 :  56\n",
      "최솟값 :  8\n",
      "모든 원소 합 :  202\n",
      "24의 위치는 :  5\n"
     ]
    }
   ],
   "source": [
    "# 리스트 원소 중 최댓값, 최솟값 찾기 min max\n",
    "\n",
    "spend = [25,36,8,53,24,56]\n",
    "\n",
    "print('최댓값 : ',max(spend))\n",
    "print('최솟값 : ',min(spend))\n",
    "# 리스트 원소 전체의 합 : sum\n",
    "\n",
    "print(\"모든 원소 합 : \",sum(spend))\n",
    "\n",
    "#리스트안의 원소의 위치를 찾기 index\n",
    "\n",
    "print('24의 위치는 : ',spend.index(24)+1)"
   ]
  }
 ],
 "metadata": {
  "kernelspec": {
   "display_name": "Python 3 (ipykernel)",
   "language": "python",
   "name": "python3"
  },
  "language_info": {
   "codemirror_mode": {
    "name": "ipython",
    "version": 3
   },
   "file_extension": ".py",
   "mimetype": "text/x-python",
   "name": "python",
   "nbconvert_exporter": "python",
   "pygments_lexer": "ipython3",
   "version": "3.9.7"
  }
 },
 "nbformat": 4,
 "nbformat_minor": 5
}
