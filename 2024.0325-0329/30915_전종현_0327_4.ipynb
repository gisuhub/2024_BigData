{
  "nbformat": 4,
  "nbformat_minor": 0,
  "metadata": {
    "colab": {
      "provenance": []
    },
    "kernelspec": {
      "name": "python3",
      "display_name": "Python 3"
    },
    "language_info": {
      "name": "python"
    }
  },
  "cells": [
    {
      "cell_type": "markdown",
      "source": [
        "# 30915_전종현_0327_4"
      ],
      "metadata": {
        "id": "FTvVe7Iq6i03"
      }
    },
    {
      "cell_type": "code",
      "source": [
        "# 학생 5명의 시험 점수를 입력받아 합계와 평균을 출력하기\n",
        "\n",
        "print(\"학생그룹 점수의 합계와 평균을 구합니다.\")\n",
        "s1 = int(input(\"1번 학생의 점수를 입력하세요 : \"))\n",
        "s2 = int(input(\"2번 학생의 점수를 입력하세요 : \"))\n",
        "s3 = int(input(\"3번 학생의 점수를 입력하세요 : \"))\n",
        "s4 = int(input(\"4번 학생의 점수를 입력하세요 : \"))\n",
        "s5 = int(input(\"5번 학생의 점수를 입력하세요 : \"))\n",
        "\n",
        "sum = s1+s2+s3+s4+s5\n",
        "avg = sum/5\n",
        "\n",
        "print(f\"합계는 {sum}점입니다.\")\n",
        "print(f\"평균은 {avg}점 입니다.\")"
      ],
      "metadata": {
        "colab": {
          "base_uri": "https://localhost:8080/"
        },
        "id": "EZIuqHVH6XI-",
        "outputId": "19219aa0-04f6-4183-c4ca-05f985843325"
      },
      "execution_count": 2,
      "outputs": [
        {
          "output_type": "stream",
          "name": "stdout",
          "text": [
            "학생그룹 점수의 합계와 평균을 구합니다.\n",
            "1번 학생의 점수를 입력하세요 : 32\n",
            "2번 학생의 점수를 입력하세요 : 4\n",
            "3번 학생의 점수를 입력하세요 : 16\n",
            "4번 학생의 점수를 입력하세요 : 10\n",
            "5번 학생의 점수를 입력하세요 : 7\n",
            "합계는 69점입니다.\n",
            "평균은 13.8점 입니다.\n"
          ]
        }
      ]
    },
    {
      "cell_type": "markdown",
      "source": [
        "- 배열 : 묶음 단위로 값을 저장하는 자료구조\n",
        "  - 원소 : 배열의 저장된 객체\n",
        "  - 각 원소는 0,1,-----순서대로 인덱스(주소)를 부여받음\n",
        "  - 원소의 자료형은 int형 float형 어떤것도 상관없음\n",
        "  - 서로 다른 자료형을 같이 저장할 수 있음\n",
        "  - 배열 원소 자체를 배열에 저장할 수 있음\n"
      ],
      "metadata": {
        "id": "0V-jY2jx70Cx"
      }
    },
    {
      "cell_type": "markdown",
      "source": [],
      "metadata": {
        "id": "S2DdSRHD-abA"
      }
    },
    {
      "cell_type": "code",
      "source": [
        "list01 = []\n",
        "a = [1,2,3,4,5]\n",
        "b = ['A','B','C']\n",
        "\n",
        "print(a)\n",
        "print(b)"
      ],
      "metadata": {
        "colab": {
          "base_uri": "https://localhost:8080/"
        },
        "id": "aEvSiAqa9pqZ",
        "outputId": "89d99403-3f20-4509-a06d-855ba4668b51"
      },
      "execution_count": 4,
      "outputs": [
        {
          "output_type": "stream",
          "name": "stdout",
          "text": [
            "[1, 2, 3, 4, 5]\n",
            "['A', 'B', 'C']\n"
          ]
        }
      ]
    },
    {
      "cell_type": "markdown",
      "source": [
        "- 튜플\n",
        "  - 원소에 순서를 매겨 결합한 것으로 원소를 변경할 수 없는 자료형\n",
        "  - ()만 사용하면 빈 튜플 생성\n",
        "  "
      ],
      "metadata": {
        "id": "dd50eoFb-s_2"
      }
    },
    {
      "cell_type": "code",
      "source": [
        "tuple01 = ()\n",
        "tuple02 = 1,2,3\n",
        "tuple03 = 'A',\"B\",\"C\"\n",
        "\n",
        "print(tuple01)\n",
        "print(tuple02)\n",
        "\n",
        "print(tuple03)\n"
      ],
      "metadata": {
        "colab": {
          "base_uri": "https://localhost:8080/"
        },
        "id": "QBW3SCF9_Hru",
        "outputId": "acb0baf6-856c-4d88-c1ce-80c2183a39d9"
      },
      "execution_count": 5,
      "outputs": [
        {
          "output_type": "stream",
          "name": "stdout",
          "text": [
            "()\n",
            "(1, 2, 3)\n",
            "('A', 'B', 'C')\n"
          ]
        }
      ]
    },
    {
      "cell_type": "code",
      "source": [
        "a = tuple(range(7))\n",
        "print(a)"
      ],
      "metadata": {
        "colab": {
          "base_uri": "https://localhost:8080/"
        },
        "id": "UYffAFaR_st-",
        "outputId": "3de3ea03-382e-4ede-fac2-81e73c0c308a"
      },
      "execution_count": 6,
      "outputs": [
        {
          "output_type": "stream",
          "name": "stdout",
          "text": [
            "(0, 1, 2, 3, 4, 5, 6)\n"
          ]
        }
      ]
    },
    {
      "cell_type": "code",
      "source": [
        "a = tuple(range(3,12,2))\n",
        "print(a)"
      ],
      "metadata": {
        "colab": {
          "base_uri": "https://localhost:8080/"
        },
        "id": "CDq4OnSm_y1E",
        "outputId": "d6a4b7d3-bd0d-4fcc-db67-e9c7363f28ee"
      },
      "execution_count": 7,
      "outputs": [
        {
          "output_type": "stream",
          "name": "stdout",
          "text": [
            "(3, 5, 7, 9, 11)\n"
          ]
        }
      ]
    }
  ]
}