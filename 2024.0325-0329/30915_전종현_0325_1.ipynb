{
 "cells": [
  {
   "cell_type": "markdown",
   "id": "1c1c0f75",
   "metadata": {},
   "source": [
    "## 30915_전종현_0325_1"
   ]
  },
  {
   "cell_type": "code",
   "execution_count": 7,
   "id": "6f9c19ee",
   "metadata": {},
   "outputs": [
    {
     "name": "stdout",
     "output_type": "stream",
     "text": [
      "1부터 n까지의 합을 구하시오.\n",
      "n값을 입력하세요. : 10\n",
      "1부터 10까지 정수의 합은 55입니다.\n"
     ]
    }
   ],
   "source": [
    "print(\"1부터 n까지의 합을 구하시오.\")\n",
    "\n",
    "\n",
    "# n값이 0보다 크면 빠져나간다.\n",
    "while True:\n",
    "    n = int(input(\"n값을 입력하세요. : \"))\n",
    "    if n>0:\n",
    "        break\n",
    "# 변수 선언 초기화\n",
    "sum = 0\n",
    "i = 1\n",
    "for i in range(1,n+1):\n",
    "    sum = sum+i\n",
    "    i= i+1\n",
    "    \n",
    "    \n",
    "print(f'1부터 {n}까지 정수의 합은 {sum}입니다.')"
   ]
  },
  {
   "cell_type": "markdown",
   "id": "4eb77f3a",
   "metadata": {},
   "source": [
    "- 변의 길이와 넚이가 모두 정수인 직사각형에서 변의 길이 를 구하는 프로그램\n",
    "- 짧은 변과 긴 변의 길이는 구별하지 않음\n",
    "    - 예) 직사각형의 넓이가 32이면 변의 길이를 1x32, 2x16,4x8만 출력\n"
   ]
  },
  {
   "cell_type": "code",
   "execution_count": 12,
   "id": "0669d991",
   "metadata": {},
   "outputs": [
    {
     "name": "stdout",
     "output_type": "stream",
     "text": [
      "직사각형의 넓이를 입력하세요. : 54\n",
      "1x54\n",
      "2x27\n",
      "3x18\n",
      "6x9\n"
     ]
    }
   ],
   "source": [
    "# 가로 세로가 정수이고 넓이가 area인 직사각형에서 변의 길이를 나열하기\n",
    "area = int(input(\"직사각형의 넓이를 입력하세요. : \"))\n",
    "\n",
    "for i in range(1,area+1):\n",
    "    if i * i > area:break\n",
    "    if area%i:continue\n",
    "    print(f'{i}x{area//i}')\n",
    "        "
   ]
  },
  {
   "cell_type": "code",
   "execution_count": null,
   "id": "1f2303de",
   "metadata": {},
   "outputs": [],
   "source": []
  }
 ],
 "metadata": {
  "kernelspec": {
   "display_name": "Python 3 (ipykernel)",
   "language": "python",
   "name": "python3"
  },
  "language_info": {
   "codemirror_mode": {
    "name": "ipython",
    "version": 3
   },
   "file_extension": ".py",
   "mimetype": "text/x-python",
   "name": "python",
   "nbconvert_exporter": "python",
   "pygments_lexer": "ipython3",
   "version": "3.9.7"
  }
 },
 "nbformat": 4,
 "nbformat_minor": 5
}
