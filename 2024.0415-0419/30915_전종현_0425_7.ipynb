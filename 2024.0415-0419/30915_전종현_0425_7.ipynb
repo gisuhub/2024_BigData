{
 "cells": [
  {
   "cell_type": "markdown",
   "id": "c164c071",
   "metadata": {},
   "source": [
    "## 30915_전종현_0425_7"
   ]
  },
  {
   "cell_type": "markdown",
   "id": "d3308af4",
   "metadata": {},
   "source": [
    "# 1101 : Hello, World!"
   ]
  },
  {
   "cell_type": "markdown",
   "id": "431d91ea",
   "metadata": {},
   "source": [
    "프로그래밍 세계에 오신걸 환영합니다.\n",
    "\n",
    "첫 번째 문제는 인사말을 출력하는 문제입니다.\n",
    "\n",
    "기본 출력 명령은 printf입니다.\n",
    "\n",
    "이 출력 명령으로 Hello, World!를 출력하시오."
   ]
  },
  {
   "cell_type": "code",
   "execution_count": 1,
   "id": "778949ed",
   "metadata": {},
   "outputs": [
    {
     "name": "stdout",
     "output_type": "stream",
     "text": [
      "Hello, World!\n"
     ]
    }
   ],
   "source": [
    "print(\"Hello, World!\")"
   ]
  },
  {
   "cell_type": "markdown",
   "id": "5c495b69",
   "metadata": {},
   "source": [
    "# 1102 : Hello, World! (줄 바꿈 버전)"
   ]
  },
  {
   "cell_type": "markdown",
   "id": "a125ab18",
   "metadata": {},
   "source": [
    "1001번 문제를 다음과 같이 두 줄로 출력하세요.\n",
    "\n",
    "Hello,\n",
    "World!\n",
    "\\n은 줄을 바꾸는 제어 문자이다. 이를 활용해보자."
   ]
  },
  {
   "cell_type": "code",
   "execution_count": 3,
   "id": "b4264373",
   "metadata": {},
   "outputs": [
    {
     "name": "stdout",
     "output_type": "stream",
     "text": [
      "Hello,\n",
      "World!\n"
     ]
    }
   ],
   "source": [
    "print(\"Hello,\\nWorld!\")"
   ]
  },
  {
   "cell_type": "markdown",
   "id": "98f07586",
   "metadata": {},
   "source": [
    "# 1103 : 폴더명 출력"
   ]
  },
  {
   "cell_type": "markdown",
   "id": "86e040cf",
   "metadata": {},
   "source": [
    "printf()함수를 공부하는 진영이는 다음 폴더명을 출력해보기로 했다.\n",
    "\n",
    "\"c:\\test\"\n",
    "printf함수에는 특별한 제어문자가 몇개 있다.\n",
    "\n",
    "큰따옴표(\")를 출력하기 위해선 \\\" 를 사용해야 하고,\n",
    "\n",
    "\\를 출력하기 위해선 \\\\ 를 사용해야 한다.\n",
    "\n",
    "---- 웹상의 소스를 복사해서 붙이는 경우 에러가 날 수 있습니다."
   ]
  },
  {
   "cell_type": "code",
   "execution_count": 5,
   "id": "cfe4cd2d",
   "metadata": {},
   "outputs": [
    {
     "name": "stdout",
     "output_type": "stream",
     "text": [
      "\"c:\\test\"\n"
     ]
    }
   ],
   "source": [
    "print(\"\\\"c:\\\\test\\\"\")"
   ]
  },
  {
   "cell_type": "markdown",
   "id": "9eb46355",
   "metadata": {},
   "source": [
    "# 1106 : int의 범위"
   ]
  },
  {
   "cell_type": "markdown",
   "id": "83efcfcf",
   "metadata": {},
   "source": [
    "앞으로 많이 사용될 변수 int 자료형의 범위를 알아내는 것이 이번 문제의 정답이다.\n",
    "\n",
    "int는 정수형이고 32비트 자료형이다.\n",
    "\n",
    "2진수로 나타내면 가장 작은 숫자는\n",
    "\n",
    "10000000 00000000 00000000 00000000\n",
    "\n",
    "이고, 가장 큰 숫자는 \n",
    "\n",
    "01111111 11111111 11111111 11111111\n",
    "\n",
    "이다.\n",
    "\n",
    "우리는 16진수 입력방법을 이용하면 쉽게 이 문제를 해결할 수 있다."
   ]
  },
  {
   "cell_type": "code",
   "execution_count": 18,
   "id": "d91a043d",
   "metadata": {},
   "outputs": [
    {
     "name": "stdout",
     "output_type": "stream",
     "text": [
      "-2147483648 2147483647\n"
     ]
    }
   ],
   "source": [
    "a = -2147483648\n",
    "b = 2147483647\n",
    "\n",
    "print(a,b)\n"
   ]
  },
  {
   "cell_type": "markdown",
   "id": "66d3272e",
   "metadata": {},
   "source": [
    "# 1731 : 특수 서식 문자 출력하기"
   ]
  },
  {
   "cell_type": "markdown",
   "id": "27e4af33",
   "metadata": {},
   "source": [
    "다음 문장을 출력하시오.\n",
    "\n",
    "special characters\n",
    "[\\n,\\\",\\\\] is very important."
   ]
  },
  {
   "cell_type": "code",
   "execution_count": 29,
   "id": "2f029a2b",
   "metadata": {},
   "outputs": [
    {
     "name": "stdout",
     "output_type": "stream",
     "text": [
      "special characters\n",
      "[\\n,\\\",\\\\] is very important.\n"
     ]
    }
   ],
   "source": [
    "print('special characters\\n[\\\\n,\\\\\",\\\\\\] is very important.')"
   ]
  },
  {
   "cell_type": "code",
   "execution_count": null,
   "id": "ae966984",
   "metadata": {},
   "outputs": [],
   "source": []
  }
 ],
 "metadata": {
  "kernelspec": {
   "display_name": "Python 3 (ipykernel)",
   "language": "python",
   "name": "python3"
  },
  "language_info": {
   "codemirror_mode": {
    "name": "ipython",
    "version": 3
   },
   "file_extension": ".py",
   "mimetype": "text/x-python",
   "name": "python",
   "nbconvert_exporter": "python",
   "pygments_lexer": "ipython3",
   "version": "3.9.7"
  }
 },
 "nbformat": 4,
 "nbformat_minor": 5
}
