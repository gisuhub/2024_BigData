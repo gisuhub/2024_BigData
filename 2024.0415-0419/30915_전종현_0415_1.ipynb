{
 "cells": [
  {
   "cell_type": "markdown",
   "id": "0a067646",
   "metadata": {},
   "source": [
    "## 30915_전종현_0415_1"
   ]
  },
  {
   "cell_type": "code",
   "execution_count": 6,
   "id": "08cebc1b",
   "metadata": {},
   "outputs": [
    {
     "name": "stdout",
     "output_type": "stream",
     "text": [
      "6275\n"
     ]
    }
   ],
   "source": [
    "# 반복문을 이용하여 101부터 150까지 더하세요,\n",
    "\n",
    "sum = 0\n",
    "\n",
    "\n",
    "for i in range(101,151):\n",
    "    sum += i\n",
    "\n",
    "    \n",
    "print(sum)"
   ]
  },
  {
   "cell_type": "code",
   "execution_count": 15,
   "id": "9ee5c8cf",
   "metadata": {},
   "outputs": [
    {
     "name": "stdout",
     "output_type": "stream",
     "text": [
      "3628800\n"
     ]
    }
   ],
   "source": [
    "xi = 1\n",
    "\n",
    "for i in range(1,11):\n",
    "    xi = xi*i\n",
    "    \n",
    "print(xi)"
   ]
  },
  {
   "cell_type": "code",
   "execution_count": 24,
   "id": "0ce07c75",
   "metadata": {},
   "outputs": [
    {
     "name": "stdout",
     "output_type": "stream",
     "text": [
      "몇 단을 외울까요? 199\n",
      "199 x 1 = 199\n",
      "199 x 2 = 398\n",
      "199 x 3 = 597\n",
      "199 x 4 = 796\n",
      "199 x 5 = 995\n",
      "199 x 6 = 1194\n",
      "199 x 7 = 1393\n",
      "199 x 8 = 1592\n",
      "199 x 9 = 1791\n"
     ]
    }
   ],
   "source": [
    "num = int(input(\"몇 단을 외울까요? \"))\n",
    "\n",
    "\n",
    "for i in range(1,10):\n",
    "    print(f'{num} x {i} = {num*i}')"
   ]
  },
  {
   "cell_type": "code",
   "execution_count": 41,
   "id": "9e959e51",
   "metadata": {},
   "outputs": [
    {
     "name": "stdout",
     "output_type": "stream",
     "text": [
      "0.12102547360992288\n"
     ]
    }
   ],
   "source": [
    "# 라이브러리 불러오기\n",
    "import random\n",
    "\n",
    "\n",
    "print(random.random())\n"
   ]
  },
  {
   "cell_type": "code",
   "execution_count": 45,
   "id": "cb58967e",
   "metadata": {},
   "outputs": [
    {
     "name": "stdout",
     "output_type": "stream",
     "text": [
      "5\n"
     ]
    }
   ],
   "source": [
    "import random\n",
    "\n",
    "# 랜덤 범위를 저장한다.\n",
    "print(random.randrange(1,10))\n"
   ]
  },
  {
   "cell_type": "code",
   "execution_count": 47,
   "id": "a3ac2216",
   "metadata": {},
   "outputs": [
    {
     "name": "stdout",
     "output_type": "stream",
     "text": [
      "2\n"
     ]
    }
   ],
   "source": [
    "import random\n",
    "\n",
    "# 랜덤 범위를 저장한다.\n",
    "print(random.randint(1,10))\n"
   ]
  },
  {
   "cell_type": "code",
   "execution_count": 49,
   "id": "fc0ee1c9",
   "metadata": {},
   "outputs": [
    {
     "name": "stdout",
     "output_type": "stream",
     "text": [
      "0\n",
      "6\n",
      "10\n",
      "4\n",
      "5\n",
      "1\n",
      "9\n",
      "2\n",
      "9\n",
      "5\n"
     ]
    }
   ],
   "source": [
    "import random \n",
    "\n",
    "for i in range(10):\n",
    "    print(random.randint(0,10))"
   ]
  },
  {
   "cell_type": "code",
   "execution_count": 51,
   "id": "06adae38",
   "metadata": {},
   "outputs": [
    {
     "name": "stdout",
     "output_type": "stream",
     "text": [
      "구구단을 외우자~~구구단을 외우자~~\n",
      "9 x 2 = 18\n",
      "4 x 8 = 32\n",
      "8 x 5 = 40\n",
      "2 x 5 = 10\n",
      "3 x 6 = 18\n",
      "5 x 2 = 10\n",
      "3 x 7 = 21\n",
      "6 x 7 = 42\n",
      "7 x 5 = 35\n",
      "5 x 9 = 45\n"
     ]
    }
   ],
   "source": [
    "# 구구단 외우기 게임 1\n",
    "import random \n",
    "\n",
    "print(\"구구단을 외우자~~\"*2)\n",
    "\n",
    "for i in range(10):\n",
    "    a = random.randint(2,9)\n",
    "    b = random.randint(1,9)\n",
    "    print(f'{a} x {b} = {a*b}')"
   ]
  },
  {
   "cell_type": "code",
   "execution_count": 54,
   "id": "b9c71f0f",
   "metadata": {},
   "outputs": [
    {
     "name": "stdout",
     "output_type": "stream",
     "text": [
      "구구단을 외우자~~구구단을 외우자~~\n",
      "2x8= 16\n",
      "6x3= 18\n",
      "5x5= 25\n",
      "6x5= 30\n",
      "9x8= 30\n",
      "5x6= 30\n",
      "9x3= 30\n",
      "2x6= 03\n",
      "2x4= 3\n",
      "2x3= 3\n"
     ]
    }
   ],
   "source": [
    "## 구구단 외우기 게임 2\n",
    "import random \n",
    "\n",
    "print(\"구구단을 외우자~~\"*2)\n",
    "\n",
    "for i in range(10):\n",
    "    a = random.randint(2,9)\n",
    "    b = random.randint(1,9)\n",
    "    question = str(a) + 'x' + str(b) + '= '\n",
    "    input(question)\n",
    "    "
   ]
  },
  {
   "cell_type": "code",
   "execution_count": 58,
   "id": "6b42dd76",
   "metadata": {},
   "outputs": [
    {
     "name": "stdout",
     "output_type": "stream",
     "text": [
      "구구단을 외우자~~구구단을 외우자~~\n",
      "8 x 3 = 2\n",
      "틀렸습니다.\n",
      "2 x 2 = 2\n",
      "틀렸습니다.\n",
      "2 x 1 = 2\n",
      "7 x 1 = 2\n",
      "틀렸습니다.\n",
      "5 x 3 = 2\n",
      "틀렸습니다.\n",
      "9 x 3 = 2\n",
      "틀렸습니다.\n",
      "9 x 8 = 2\n",
      "틀렸습니다.\n",
      "3 x 1 = 2\n",
      "틀렸습니다.\n",
      "2 x 3 = 2\n",
      "틀렸습니다.\n",
      "7 x 3 = 2\n",
      "틀렸습니다.\n"
     ]
    }
   ],
   "source": [
    "## 구구단 외우기 게임 3 - 정답입력이 맞다 틀리다 구분\n",
    "import random \n",
    "\n",
    "print(\"구구단을 외우자~~\"*2)\n",
    "\n",
    "for i in range(10):\n",
    "    a = random.randint(2,9)\n",
    "    b = random.randint(1,9)\n",
    "\n",
    "    question = input(f'{a} x {b} = ')\n",
    "    answer = int(question)\n",
    "    if answer != a*b:\n",
    "        print(\"틀렸습니다.\")"
   ]
  }
 ],
 "metadata": {
  "kernelspec": {
   "display_name": "Python 3 (ipykernel)",
   "language": "python",
   "name": "python3"
  },
  "language_info": {
   "codemirror_mode": {
    "name": "ipython",
    "version": 3
   },
   "file_extension": ".py",
   "mimetype": "text/x-python",
   "name": "python",
   "nbconvert_exporter": "python",
   "pygments_lexer": "ipython3",
   "version": "3.9.7"
  }
 },
 "nbformat": 4,
 "nbformat_minor": 5
}
