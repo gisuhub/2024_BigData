{
 "cells": [
  {
   "cell_type": "markdown",
   "id": "0feb8a0a",
   "metadata": {},
   "source": [
    "## 예상문제3 : 가계부 만들기 프로그램"
   ]
  },
  {
   "cell_type": "code",
   "execution_count": 1,
   "id": "8fa50aeb",
   "metadata": {},
   "outputs": [
    {
     "name": "stdout",
     "output_type": "stream",
     "text": [
      "월 별로 수입액을 입력시켜 주세요!\n",
      "1 월의 수입액을 입력시켜 주세요.\n",
      "10\n",
      "2 월의 수입액을 입력시켜 주세요.\n",
      "11\n",
      "3 월의 수입액을 입력시켜 주세요.\n",
      "12\n",
      "4 월의 수입액을 입력시켜 주세요.\n",
      "11\n",
      "5 월의 수입액을 입력시켜 주세요.\n",
      "13\n",
      "6 월의 수입액을 입력시켜 주세요.\n",
      "15\n",
      "상반기 월별 수입액 입니다.\n",
      "상반기 월 수입액의 합계는 72만원 입니다.\n",
      "상반기 월 수입액의 평균은 12.0만원 입니다.\n"
     ]
    }
   ],
   "source": [
    "money = [] # 돈 받을 리스트를 만든다\n",
    "print(\"월 별로 수입액을 입력시켜 주세요!\")\n",
    "for j in range(0,6):\n",
    "    print((j+1),'월의 수입액을 입력시켜 주세요.')\n",
    "    money.append(int(input(\"\"))) # 수입을 입력받아 리스트에 추가한다.\n",
    "    \n",
    "sum = 0  # 총 수입\n",
    "i = 0\n",
    "print(\"상반기 월별 수입액 입니다.\")\n",
    "while i<6:\n",
    "    sum = money[i]+sum # 리스트 각 항목을 더해 총 수입을 계산\n",
    "    i = i+1\n",
    "avg = sum/6  # 월 수입 평균을 계산한다.\n",
    "print(f\"상반기 월 수입액의 합계는 {sum}만원 입니다.\")\n",
    "print(f\"상반기 월 수입액의 평균은 {avg}만원 입니다.\")"
   ]
  },
  {
   "cell_type": "markdown",
   "id": "c87f3119",
   "metadata": {},
   "source": [
    "## 예상 문제4 : 무작위로 입력된 점수 리스트에서 70점 이상인 번호와 값 출력하기"
   ]
  },
  {
   "cell_type": "code",
   "execution_count": 13,
   "id": "32b242ec",
   "metadata": {},
   "outputs": [
    {
     "name": "stdout",
     "output_type": "stream",
     "text": [
      "리스트에서 점수가 70점 이상인 번호와 값 출력하기\n",
      "1 번 99\n",
      "4 번 91\n",
      "6 번 93\n",
      "7 번 87\n",
      "10 번 83\n",
      "10 번 83\n",
      "12 번 86\n",
      "13 번 90\n",
      "7 번 87\n",
      "16 번 88\n",
      "10 번 83\n"
     ]
    }
   ],
   "source": [
    "import random # 라이브러리에서 랜덤을 가져온다\n",
    "test_list = [] # 점수를 저장한 리스트를 초기화한다.\n",
    "for i in range(0,25):\n",
    "    test_list.append(random.randint(0,100))\n",
    "print(\"리스트에서 점수가 70점 이상인 번호와 값 출력하기\")\n",
    "\n",
    "# 리스트에서 70점 이상인 점수를 가진 학생들의 번호와 점수를 출력합니다.\n",
    "for s in test_list :\n",
    "    if s>=70:\n",
    "        print(test_list.index(s)+1,\"번\",s)"
   ]
  },
  {
   "cell_type": "markdown",
   "id": "0ebef786",
   "metadata": {},
   "source": [
    "## 예상 문제 5 : 지하철 게임 만들기"
   ]
  },
  {
   "cell_type": "code",
   "execution_count": 14,
   "id": "801f35d6",
   "metadata": {},
   "outputs": [
    {
     "name": "stdout",
     "output_type": "stream",
     "text": [
      "지하철~♪♬지하철~♪♬지하철~♪♬지하철~♪♬\n",
      "몇호선?신분당선\n",
      "광교\n",
      "광교중앙\n",
      "상현\n",
      "성북\n",
      "수지구청\n",
      "동천\n",
      "미금\n",
      "정자\n",
      "판교\n",
      "청계산입구\n"
     ]
    }
   ],
   "source": [
    "신분당선 = ['광교','광교중앙','상현','성북','수지구청','동천','미금','정자',\n",
    "       '판교','청계산입구','양재시민의숲','양재','강남']\n",
    "팔호선 = ['모란','수진','신흥','단대오거리','남한산성입구','산성','남위례','복정',\n",
    "      '장지','문정','가락시장','송파','석촌','잠실','몽촌토성','강동구청','천호','암사']\n",
    "\n",
    "print(\"지하철~♪♬\"*4)\n",
    "호선 = input(\"몇호선?\")\n",
    "for i in range(10):\n",
    "    if 호선 == \"신분당선\":\n",
    "        입력 = input()\n",
    "        if 입력 not in 신분당선:\n",
    "            print(\"땡! 해당 역은\",호선,'이 아닙니다!')\n",
    "            print(\"벌칙 당첨!!\")\n",
    "            break\n",
    "    elif 호선 == '팔호선':\n",
    "        입력 = input()\n",
    "        if 입력 not in 팔호선:\n",
    "            print(\"땡! 해당 역은\",호선,'이 아닙니다!')\n",
    "            print(\"벌칙 당첨!!\")\n",
    "            break"
   ]
  },
  {
   "cell_type": "code",
   "execution_count": null,
   "id": "64892efb",
   "metadata": {},
   "outputs": [],
   "source": []
  }
 ],
 "metadata": {
  "kernelspec": {
   "display_name": "Python 3 (ipykernel)",
   "language": "python",
   "name": "python3"
  },
  "language_info": {
   "codemirror_mode": {
    "name": "ipython",
    "version": 3
   },
   "file_extension": ".py",
   "mimetype": "text/x-python",
   "name": "python",
   "nbconvert_exporter": "python",
   "pygments_lexer": "ipython3",
   "version": "3.9.7"
  }
 },
 "nbformat": 4,
 "nbformat_minor": 5
}
