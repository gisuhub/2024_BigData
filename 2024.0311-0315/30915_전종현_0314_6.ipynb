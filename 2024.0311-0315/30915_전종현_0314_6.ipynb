{
 "cells": [
  {
   "cell_type": "markdown",
   "id": "acada641",
   "metadata": {},
   "source": [
    "## 30915_전종현_0314_6"
   ]
  },
  {
   "cell_type": "markdown",
   "id": "c4bfab4c",
   "metadata": {},
   "source": [
    "## 3.1 데이터를 저장하는 공간: 변수\n",
    "### 3.1.1 변수란"
   ]
  },
  {
   "cell_type": "code",
   "execution_count": 1,
   "id": "ab7e35af",
   "metadata": {},
   "outputs": [],
   "source": [
    "a = 10"
   ]
  },
  {
   "cell_type": "code",
   "execution_count": 2,
   "id": "9e40b392",
   "metadata": {},
   "outputs": [],
   "source": [
    "a=20"
   ]
  },
  {
   "cell_type": "code",
   "execution_count": 4,
   "id": "e670300d",
   "metadata": {},
   "outputs": [
    {
     "name": "stdout",
     "output_type": "stream",
     "text": [
      "20\n"
     ]
    }
   ],
   "source": [
    "print(a)"
   ]
  },
  {
   "cell_type": "markdown",
   "id": "3ece69ce",
   "metadata": {},
   "source": [
    "## 3.1.2 변수에 값을 저장하고 사용하기"
   ]
  },
  {
   "cell_type": "code",
   "execution_count": 6,
   "id": "a9c7c78e",
   "metadata": {},
   "outputs": [
    {
     "name": "stdout",
     "output_type": "stream",
     "text": [
      "10\n",
      "a\n"
     ]
    }
   ],
   "source": [
    "a = 10 \n",
    "print(10) \n",
    "print('a')"
   ]
  },
  {
   "cell_type": "code",
   "execution_count": 7,
   "id": "1473b273",
   "metadata": {},
   "outputs": [
    {
     "ename": "NameError",
     "evalue": "name 'ad' is not defined",
     "output_type": "error",
     "traceback": [
      "\u001b[1;31m---------------------------------------------------------------------------\u001b[0m",
      "\u001b[1;31mNameError\u001b[0m                                 Traceback (most recent call last)",
      "\u001b[1;32m~\\AppData\\Local\\Temp/ipykernel_2056/3066758977.py\u001b[0m in \u001b[0;36m<module>\u001b[1;34m\u001b[0m\n\u001b[1;32m----> 1\u001b[1;33m \u001b[0mprint\u001b[0m\u001b[1;33m(\u001b[0m\u001b[0mad\u001b[0m\u001b[1;33m)\u001b[0m\u001b[1;33m\u001b[0m\u001b[1;33m\u001b[0m\u001b[0m\n\u001b[0m",
      "\u001b[1;31mNameError\u001b[0m: name 'ad' is not defined"
     ]
    }
   ],
   "source": [
    "print(ad)"
   ]
  },
  {
   "cell_type": "code",
   "execution_count": 9,
   "id": "c51216dc",
   "metadata": {},
   "outputs": [
    {
     "name": "stdout",
     "output_type": "stream",
     "text": [
      "10\n"
     ]
    }
   ],
   "source": [
    "ad = 10\n",
    "print(ad)"
   ]
  },
  {
   "cell_type": "code",
   "execution_count": 10,
   "id": "5151d416",
   "metadata": {},
   "outputs": [
    {
     "name": "stdout",
     "output_type": "stream",
     "text": [
      "성일정보\n"
     ]
    }
   ],
   "source": [
    "b = '성일'\n",
    "c='정보'\n",
    "\n",
    "print(b+c)"
   ]
  },
  {
   "cell_type": "code",
   "execution_count": 16,
   "id": "e59d1137",
   "metadata": {},
   "outputs": [
    {
     "name": "stdout",
     "output_type": "stream",
     "text": [
      "성일 정보\n"
     ]
    }
   ],
   "source": [
    "print(b,c)"
   ]
  },
  {
   "cell_type": "code",
   "execution_count": 22,
   "id": "8faffbab",
   "metadata": {},
   "outputs": [
    {
     "name": "stdout",
     "output_type": "stream",
     "text": [
      "유리 175.5 21 programing\n"
     ]
    }
   ],
   "source": [
    "name= '유리'\n",
    "height = 175.5\n",
    "age = 21\n",
    "hobby = 'programing'\n",
    "print(name,height,age,hobby)"
   ]
  },
  {
   "cell_type": "markdown",
   "id": "b55d2bea",
   "metadata": {},
   "source": [
    "> 출력해봅니다\n",
    "### 유리 키는  175.5 , 나이는 21 , 취미는  programing 입니다!"
   ]
  },
  {
   "cell_type": "code",
   "execution_count": 25,
   "id": "d20aa221",
   "metadata": {},
   "outputs": [
    {
     "name": "stdout",
     "output_type": "stream",
     "text": [
      "유리 키는  175.5 , 나이는 21 , 취미는  programing 입니다!\n"
     ]
    }
   ],
   "source": [
    "print(name,'키는 ',height,', 나이는',age,', 취미는 ',hobby,'입니다!')"
   ]
  },
  {
   "cell_type": "markdown",
   "id": "b9271ab3",
   "metadata": {},
   "source": [
    "```\n",
    "유리 키는  175.5 , 나이는 21 , 취미는  programing 입니다!\n",
    "제임스 키는 186 , 나이는 24, 취미는 요리하기 입니다!\n",
    "```"
   ]
  },
  {
   "cell_type": "code",
   "execution_count": 27,
   "id": "962b8e55",
   "metadata": {},
   "outputs": [
    {
     "name": "stdout",
     "output_type": "stream",
     "text": [
      "제임스 키는  186 , 나이는 24 , 취미는  요리하기 입니다!\n"
     ]
    }
   ],
   "source": [
    "name2= '제임스'\n",
    "height2 = 186\n",
    "age2 = 24\n",
    "hobby2 = '요리하기'\n",
    "print(name2,'키는 ',height2,', 나이는',age2,', 취미는 ',hobby2,'입니다!')"
   ]
  },
  {
   "cell_type": "code",
   "execution_count": 29,
   "id": "7d55f4f3",
   "metadata": {},
   "outputs": [
    {
     "name": "stdout",
     "output_type": "stream",
     "text": [
      "유리 키는 175.5, 나이는 21, 취미는 programing 입니다!\n"
     ]
    }
   ],
   "source": [
    "print('{} 키는 {}, 나이는 {}, 취미는 {} 입니다!'.format(name,height, age,hobby))"
   ]
  },
  {
   "cell_type": "code",
   "execution_count": 31,
   "id": "ea55b8c9",
   "metadata": {},
   "outputs": [
    {
     "name": "stdout",
     "output_type": "stream",
     "text": [
      "유리 키는 175.5, 나이는 21, 취미는 programing 입니다!\n"
     ]
    }
   ],
   "source": [
    "print(f'{name} 키는 {height}, 나이는 {age}, 취미는 {hobby} 입니다!')"
   ]
  },
  {
   "cell_type": "markdown",
   "id": "bcad9e0c",
   "metadata": {},
   "source": [
    "```\n",
    "원의 넓이를 구해봅시다.\n",
    "반지름**2 * 파이\n",
    "\n",
    "r= 5\n",
    "p = 3.141592\n",
    "```"
   ]
  },
  {
   "cell_type": "code",
   "execution_count": 33,
   "id": "eb53f758",
   "metadata": {},
   "outputs": [
    {
     "name": "stdout",
     "output_type": "stream",
     "text": [
      "78.5398\n"
     ]
    }
   ],
   "source": [
    "r= 5\n",
    "p = 3.141592\n",
    "\n",
    "print(r**2*p)"
   ]
  },
  {
   "cell_type": "code",
   "execution_count": null,
   "id": "b7786b16",
   "metadata": {},
   "outputs": [],
   "source": []
  }
 ],
 "metadata": {
  "kernelspec": {
   "display_name": "Python 3 (ipykernel)",
   "language": "python",
   "name": "python3"
  },
  "language_info": {
   "codemirror_mode": {
    "name": "ipython",
    "version": 3
   },
   "file_extension": ".py",
   "mimetype": "text/x-python",
   "name": "python",
   "nbconvert_exporter": "python",
   "pygments_lexer": "ipython3",
   "version": "3.9.7"
  }
 },
 "nbformat": 4,
 "nbformat_minor": 5
}
