{
 "cells": [
  {
   "cell_type": "markdown",
   "id": "267c2e6d",
   "metadata": {},
   "source": [
    "### 30915_전종현_0311_1"
   ]
  },
  {
   "cell_type": "markdown",
   "id": "5de10707",
   "metadata": {},
   "source": [
    "## 2.2 실행 결과를 보여주는 출력 명령어\n",
    "#### 2.2.2 출력 명령어 print()"
   ]
  },
  {
   "cell_type": "code",
   "execution_count": 4,
   "id": "aa82615f",
   "metadata": {},
   "outputs": [
    {
     "name": "stdout",
     "output_type": "stream",
     "text": [
      "123\n"
     ]
    }
   ],
   "source": [
    "print(\"123\")"
   ]
  },
  {
   "cell_type": "code",
   "execution_count": 6,
   "id": "f63c3022",
   "metadata": {},
   "outputs": [
    {
     "data": {
      "text/plain": [
       "float"
      ]
     },
     "execution_count": 6,
     "metadata": {},
     "output_type": "execute_result"
    }
   ],
   "source": [
    "type(12.3)"
   ]
  },
  {
   "cell_type": "code",
   "execution_count": 7,
   "id": "4985c0dc",
   "metadata": {},
   "outputs": [
    {
     "name": "stdout",
     "output_type": "stream",
     "text": [
      "47630917253010749\n"
     ]
    }
   ],
   "source": [
    "print(12345567294168+47618571685716581)"
   ]
  },
  {
   "cell_type": "code",
   "execution_count": 9,
   "id": "b891180d",
   "metadata": {},
   "outputs": [
    {
     "name": "stdout",
     "output_type": "stream",
     "text": [
      "123456712345\n"
     ]
    }
   ],
   "source": [
    "print(\"1234567\"+str(12345))"
   ]
  },
  {
   "cell_type": "markdown",
   "id": "02d2ae85",
   "metadata": {},
   "source": [
    "## 2.2.3 사칙연산 출력하기\n",
    "'''\n",
    "더하기 빼기 곱하기 나누기\n",
    "123 , 456\n",
    "'''"
   ]
  },
  {
   "cell_type": "code",
   "execution_count": 10,
   "id": "b7135e05",
   "metadata": {},
   "outputs": [
    {
     "name": "stdout",
     "output_type": "stream",
     "text": [
      "579\n"
     ]
    }
   ],
   "source": [
    "print(123+456)"
   ]
  },
  {
   "cell_type": "code",
   "execution_count": 11,
   "id": "41566fd2",
   "metadata": {},
   "outputs": [
    {
     "name": "stdout",
     "output_type": "stream",
     "text": [
      "-333\n"
     ]
    }
   ],
   "source": [
    "print(123-456)"
   ]
  },
  {
   "cell_type": "code",
   "execution_count": 12,
   "id": "6c8659ce",
   "metadata": {},
   "outputs": [
    {
     "name": "stdout",
     "output_type": "stream",
     "text": [
      "56088\n"
     ]
    }
   ],
   "source": [
    "print(123*456)"
   ]
  },
  {
   "cell_type": "code",
   "execution_count": 13,
   "id": "9224c415",
   "metadata": {},
   "outputs": [
    {
     "name": "stdout",
     "output_type": "stream",
     "text": [
      "0.26973684210526316\n"
     ]
    }
   ],
   "source": [
    "print(123/456)"
   ]
  },
  {
   "cell_type": "markdown",
   "id": "ce073982",
   "metadata": {},
   "source": [
    "### // 나눈 나머지 값\n",
    "### % 나눈 몫\n",
    "### ** 제곱수"
   ]
  },
  {
   "cell_type": "code",
   "execution_count": 21,
   "id": "7c409df8",
   "metadata": {},
   "outputs": [
    {
     "name": "stdout",
     "output_type": "stream",
     "text": [
      "13\n",
      "4\n",
      "11664\n"
     ]
    }
   ],
   "source": [
    "print(108//8) # 나눈 몫\n",
    "print(108%8) # 나눈 나머지\n",
    "print(108**2) # 제곱"
   ]
  },
  {
   "cell_type": "code",
   "execution_count": null,
   "id": "9e7f3844",
   "metadata": {},
   "outputs": [],
   "source": []
  }
 ],
 "metadata": {
  "kernelspec": {
   "display_name": "Python 3 (ipykernel)",
   "language": "python",
   "name": "python3"
  },
  "language_info": {
   "codemirror_mode": {
    "name": "ipython",
    "version": 3
   },
   "file_extension": ".py",
   "mimetype": "text/x-python",
   "name": "python",
   "nbconvert_exporter": "python",
   "pygments_lexer": "ipython3",
   "version": "3.9.7"
  }
 },
 "nbformat": 4,
 "nbformat_minor": 5
}
