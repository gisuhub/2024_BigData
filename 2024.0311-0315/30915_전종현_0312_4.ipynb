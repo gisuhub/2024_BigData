{
 "cells": [
  {
   "cell_type": "markdown",
   "id": "faf72edb",
   "metadata": {},
   "source": [
    "## 30915_전종현_0312_4"
   ]
  },
  {
   "cell_type": "markdown",
   "id": "1713c4fd",
   "metadata": {},
   "source": [
    "## 2.3 데이터를 넣는 입력 명령어\n",
    "### 2.3.2 입력 명령어   input()"
   ]
  },
  {
   "cell_type": "code",
   "execution_count": 2,
   "id": "892d8bf1",
   "metadata": {},
   "outputs": [
    {
     "name": "stdout",
     "output_type": "stream",
     "text": [
      "성일정보\n"
     ]
    },
    {
     "data": {
      "text/plain": [
       "'성일정보'"
      ]
     },
     "execution_count": 2,
     "metadata": {},
     "output_type": "execute_result"
    }
   ],
   "source": [
    "input()"
   ]
  },
  {
   "cell_type": "code",
   "execution_count": 7,
   "id": "2f16d844",
   "metadata": {},
   "outputs": [
    {
     "name": "stdout",
     "output_type": "stream",
     "text": [
      "이름 : 앙\n"
     ]
    },
    {
     "data": {
      "text/plain": [
       "'앙'"
      ]
     },
     "execution_count": 7,
     "metadata": {},
     "output_type": "execute_result"
    }
   ],
   "source": [
    "input(\"이름 : \")"
   ]
  },
  {
   "cell_type": "markdown",
   "id": "3782559e",
   "metadata": {},
   "source": [
    "```\n",
    "아이디 :\n",
    "비밀번호:\n",
    "```"
   ]
  },
  {
   "cell_type": "code",
   "execution_count": 11,
   "id": "b204e521",
   "metadata": {},
   "outputs": [
    {
     "name": "stdout",
     "output_type": "stream",
     "text": [
      "아이디 : si\n",
      "비밀번호 : bal\n"
     ]
    },
    {
     "data": {
      "text/plain": [
       "'bal'"
      ]
     },
     "execution_count": 11,
     "metadata": {},
     "output_type": "execute_result"
    }
   ],
   "source": [
    "input(\"아이디 : \")\n",
    "input(\"비밀번호 : \")"
   ]
  },
  {
   "cell_type": "markdown",
   "id": "2086a7e1",
   "metadata": {},
   "source": [
    "> 다음을 출력해 봅니다.\n",
    "```\n",
    "학번을 입력하세요 ---> 03900\n",
    "```"
   ]
  },
  {
   "cell_type": "code",
   "execution_count": 13,
   "id": "932465ab",
   "metadata": {},
   "outputs": [
    {
     "name": "stdout",
     "output_type": "stream",
     "text": [
      "학번을 입력하세요 ---> 03900\n"
     ]
    },
    {
     "data": {
      "text/plain": [
       "'03900'"
      ]
     },
     "execution_count": 13,
     "metadata": {},
     "output_type": "execute_result"
    }
   ],
   "source": [
    "input(\"학번을 입력하세요 ---> \")"
   ]
  },
  {
   "cell_type": "markdown",
   "id": "82cc1207",
   "metadata": {},
   "source": [
    "> 출력해보기\n",
    "```\n",
    "---회원가입---\n",
    "아이디:gilbut\n",
    "가입을 환영합니다!\n",
    "```"
   ]
  },
  {
   "cell_type": "code",
   "execution_count": 16,
   "id": "e4c9c555",
   "metadata": {},
   "outputs": [
    {
     "name": "stdout",
     "output_type": "stream",
     "text": [
      "---회원가입---\n",
      "아이디:gilbut\n",
      "가입을 환영합니다!\n"
     ]
    }
   ],
   "source": [
    "print(\"---회원가입---\")\n",
    "input(\"아이디:\")\n",
    "print(\"가입을 환영합니다!\")"
   ]
  },
  {
   "cell_type": "markdown",
   "id": "e153fbce",
   "metadata": {},
   "source": [
    "> 출력해봅시다\n",
    "```\n",
    "닉네임을 입력해주세요 --> 제제쌤\n",
    "제제쌤님 안녕하세요\n",
    "```"
   ]
  },
  {
   "cell_type": "code",
   "execution_count": 17,
   "id": "d746fb15",
   "metadata": {},
   "outputs": [
    {
     "name": "stdout",
     "output_type": "stream",
     "text": [
      "닉네임을 입력해주세요 --> 수혁쌤\n",
      "수혁쌤님 안녕하세요\n"
     ]
    }
   ],
   "source": [
    "print(input(\"닉네임을 입력해주세요 --> \")+ '님 안녕하세요')"
   ]
  }
 ],
 "metadata": {
  "kernelspec": {
   "display_name": "Python 3 (ipykernel)",
   "language": "python",
   "name": "python3"
  },
  "language_info": {
   "codemirror_mode": {
    "name": "ipython",
    "version": 3
   },
   "file_extension": ".py",
   "mimetype": "text/x-python",
   "name": "python",
   "nbconvert_exporter": "python",
   "pygments_lexer": "ipython3",
   "version": "3.9.7"
  }
 },
 "nbformat": 4,
 "nbformat_minor": 5
}
