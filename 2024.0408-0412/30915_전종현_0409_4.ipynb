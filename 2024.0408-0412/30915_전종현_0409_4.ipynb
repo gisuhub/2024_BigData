{
 "cells": [
  {
   "cell_type": "markdown",
   "id": "a739b402",
   "metadata": {},
   "source": [
    "## 30915_전종현_0409_4"
   ]
  },
  {
   "cell_type": "markdown",
   "id": "9ead7d3c",
   "metadata": {},
   "source": [
    "# 조건문으로 간단한 프로그램 만들기"
   ]
  },
  {
   "cell_type": "code",
   "execution_count": 4,
   "id": "180e858a",
   "metadata": {},
   "outputs": [
    {
     "name": "stdout",
     "output_type": "stream",
     "text": [
      "나이가 어떻게 되세요? : 20\n",
      "성인이시네요. 15000원입니다.\n"
     ]
    }
   ],
   "source": [
    "# 목욕텅애 가면 미성년자는 6000원\n",
    "# 성인은 15000원\n",
    "#나이를 입력받아서 구분하는 프로그램\n",
    "\n",
    "age = int(input(\"나이가 어떻게 되세요? : \"))\n",
    "\n",
    "\n",
    "if age > 19:\n",
    "    print(\"성인이시네요. 15000원입니다.\")\n",
    "else:\n",
    "    print(\"미성년자네용. 6000원입니다.\")"
   ]
  },
  {
   "cell_type": "code",
   "execution_count": 12,
   "id": "5ea7f07c",
   "metadata": {},
   "outputs": [
    {
     "name": "stdout",
     "output_type": "stream",
     "text": [
      "나이가 어떻게 되세요? : 19\n",
      "미성년자네용. 6000원입니다.\n",
      "금액을 투입해주세요. -----> 5400\n",
      "600원이 부족합니다.\n"
     ]
    }
   ],
   "source": [
    "age = int(input(\"나이가 어떻게 되세요? : \"))\n",
    "\n",
    "\n",
    "if age > 19:\n",
    "    print(\"성인이시네요. 15000원입니다.\")\n",
    "    price = 15000\n",
    "else:\n",
    "    print(\"미성년자네용. 6000원입니다.\")\n",
    "    price = 6000\n",
    "    \n",
    "    \n",
    "price_input = int(input('금액을 투입해주세요. -----> '))\n",
    "\n",
    "\n",
    "\n",
    "if price_input < price:\n",
    "    print(f'{price-price_input}원이 부족합니다.')\n",
    "elif price_input> price :\n",
    "    print(f\"{price_input-price}원 거슬러드립니다.\")\n",
    "elif price_input == price:\n",
    "    print(f\"계산이 완료되었습니다.\")\n",
    "    \n"
   ]
  },
  {
   "cell_type": "code",
   "execution_count": 20,
   "id": "210736aa",
   "metadata": {},
   "outputs": [
    {
     "data": {
      "text/plain": [
       "{'야채김밥': 2500, '참치김밥': 3000, '꼬마김밥': 2500}"
      ]
     },
     "execution_count": 20,
     "metadata": {},
     "output_type": "execute_result"
    }
   ],
   "source": [
    "menu = {'라면':{'기본라면':3000,\"떡라면\":4000,\"만두라면\":4500},\n",
    "        \"김밥\":{'야채김밥':2500,'참치김밥':3000,\"꼬마김밥\":2500}}\n",
    "\n",
    "menu[\"김밥\"]"
   ]
  }
 ],
 "metadata": {
  "kernelspec": {
   "display_name": "Python 3 (ipykernel)",
   "language": "python",
   "name": "python3"
  },
  "language_info": {
   "codemirror_mode": {
    "name": "ipython",
    "version": 3
   },
   "file_extension": ".py",
   "mimetype": "text/x-python",
   "name": "python",
   "nbconvert_exporter": "python",
   "pygments_lexer": "ipython3",
   "version": "3.9.7"
  }
 },
 "nbformat": 4,
 "nbformat_minor": 5
}
