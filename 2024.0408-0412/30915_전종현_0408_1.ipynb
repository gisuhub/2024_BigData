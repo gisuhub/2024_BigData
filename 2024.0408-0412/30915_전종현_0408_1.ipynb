{
 "cells": [
  {
   "cell_type": "markdown",
   "id": "e6ef6b2b",
   "metadata": {},
   "source": [
    "## 30915_전종현_0408_1"
   ]
  },
  {
   "cell_type": "markdown",
   "id": "76c8eea2",
   "metadata": {},
   "source": [
    "## 선택구조 조건에 하나 일때 \n",
    "- if문"
   ]
  },
  {
   "cell_type": "code",
   "execution_count": 5,
   "id": "acb72d07",
   "metadata": {},
   "outputs": [
    {
     "name": "stdout",
     "output_type": "stream",
     "text": [
      "청소년은 주류를 구매할 수 없습니다.\n"
     ]
    }
   ],
   "source": [
    "age = 19\n",
    "\n",
    "#  청소년은 주류를 구매할 수 없습니다.\n",
    "\n",
    "if age > 19:\n",
    "    print(\"구매가 완료됐습니다.\")\n",
    "else:\n",
    "    print(\"청소년은 주류를 구매할 수 없습니다.\")"
   ]
  },
  {
   "cell_type": "code",
   "execution_count": 15,
   "id": "55dbbbd0",
   "metadata": {},
   "outputs": [
    {
     "name": "stdout",
     "output_type": "stream",
     "text": [
      "나이가 어떻게 되시나요? 17\n",
      "청소년은 주류를 구매할 수 없습니다. 3년 뒤에 다시 오세요.\n"
     ]
    }
   ],
   "source": [
    "age = int(input(\"나이가 어떻게 되시나요? \"))\n",
    "\n",
    "if age > 19:\n",
    "    print(f\"구매가 완료됐습니다.\")\n",
    "else:\n",
    "    print(f\"청소년은 주류를 구매할 수 없습니다. {20-age}년 뒤에 다시 오세요.\")"
   ]
  },
  {
   "cell_type": "markdown",
   "id": "ae7d8bea",
   "metadata": {},
   "source": [
    "# 50000원 이하면 배송비 2500원이 추가됩니다."
   ]
  },
  {
   "cell_type": "code",
   "execution_count": 23,
   "id": "804ab901",
   "metadata": {},
   "outputs": [
    {
     "name": "stdout",
     "output_type": "stream",
     "text": [
      "구매 금액은? 50001\n",
      "50001원이여서 배송비가 ★공짜★\n",
      "최종금액은 50001입니다.\n"
     ]
    }
   ],
   "source": [
    "price = int(input(\"구매 금액은? \"))\n",
    "\n",
    "if price <= 50000:\n",
    "    print(f'{price}원 이하면 배송비 2500원이 추가됩니다.')\n",
    "    print(f'최종금액은 {price+2500}입니다.')\n",
    "else :\n",
    "    print(f'{price}원이여서 배송비가 ★공짜★')\n",
    "    print(f'최종금액은 {price}입니다.')"
   ]
  },
  {
   "cell_type": "code",
   "execution_count": 34,
   "id": "0a91cdfa",
   "metadata": {},
   "outputs": [
    {
     "name": "stdout",
     "output_type": "stream",
     "text": [
      "오늘 몇일이냐?15\n",
      "느그 차 : 20\n",
      "15일이니까 짝수 차량이시네요 저리가세요\n"
     ]
    }
   ],
   "source": [
    "date = int(input(\"오늘 몇일이냐?\"))\n",
    "io = int(input(\"느그 차 : \"))\n",
    "\n",
    "\n",
    "if date%2 == 0:\n",
    "    if io%2==0:\n",
    "        print(f'{date}일이니까 짝수차량 들어오세요.')\n",
    "    else:\n",
    "        print(f'주차하지마')\n",
    "else:\n",
    "    if io%2==1:\n",
    "        print(f'{date}일이니까 홀수차량 들어오세요.')\n",
    "    else:\n",
    "        print(f\"{date}일이니까 짝수 차량이시네요 저리가세요\")"
   ]
  },
  {
   "cell_type": "code",
   "execution_count": null,
   "id": "1a013652",
   "metadata": {},
   "outputs": [],
   "source": []
  }
 ],
 "metadata": {
  "kernelspec": {
   "display_name": "Python 3 (ipykernel)",
   "language": "python",
   "name": "python3"
  },
  "language_info": {
   "codemirror_mode": {
    "name": "ipython",
    "version": 3
   },
   "file_extension": ".py",
   "mimetype": "text/x-python",
   "name": "python",
   "nbconvert_exporter": "python",
   "pygments_lexer": "ipython3",
   "version": "3.9.7"
  }
 },
 "nbformat": 4,
 "nbformat_minor": 5
}
