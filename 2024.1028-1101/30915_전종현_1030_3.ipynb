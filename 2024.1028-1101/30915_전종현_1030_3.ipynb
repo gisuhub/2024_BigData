{
 "cells": [
  {
   "cell_type": "markdown",
   "id": "13062bd0",
   "metadata": {},
   "source": [
    "## 1210 : 칼로리 계산하기\n",
    "보림이는 엄마와 함께 놋데리아에 갔다.\n",
    "\n",
    "보림이는 먹고 싶은게 많았으나 엄마가 살이 찐다고 2가지만 골라서 먹으라고 했다.\n",
    "\n",
    "그리고 두 메뉴의 칼로리 합이 500보다 크면 엄마가 화를 내고, 500이하면 화를 내지 않는다.\n",
    "\n",
    "보림이가 선택할 수 있는 메뉴는 다음과 같다.\n",
    "\n",
    "1. 치즈버거 : 400 칼로리\n",
    "\n",
    "2. 야채버거 : 340 칼로리\n",
    "\n",
    "3. 우유 : 170 칼로리\n",
    "\n",
    "4. 계란말이 : 100 칼로리\n",
    "\n",
    "5. 샐러드 : 70 칼로리\n",
    "\n",
    "이 메뉴들 중 2가지 메뉴를 선택했을 때 칼로리 합을 계산하고, 그 칼로리 합이 500보다 크면 \"angry\", 500이하면 \"no angry\"를 출력하시오."
   ]
  },
  {
   "cell_type": "code",
   "execution_count": 4,
   "id": "5aaf270b",
   "metadata": {},
   "outputs": [
    {
     "name": "stdout",
     "output_type": "stream",
     "text": [
      "1 2\n",
      "angry\n"
     ]
    }
   ],
   "source": [
    "a, b = map(int,input().split())\n",
    "\n",
    "if a == 1:\n",
    "    a = 400\n",
    "elif a==2:\n",
    "    a=340\n",
    "elif a == 3:\n",
    "    a = 170\n",
    "elif a==4:\n",
    "    a = 100\n",
    "elif a==5:\n",
    "    a=70\n",
    "else:\n",
    "    print(\"ㅗ\")\n",
    "    \n",
    "    \n",
    "if b == 1:\n",
    "    b = 400\n",
    "elif b==2:\n",
    "    b=340\n",
    "elif b == 3:\n",
    "    b = 170\n",
    "elif b==4:\n",
    "    b = 100\n",
    "elif b==5:\n",
    "    b=70\n",
    "else:\n",
    "    print(\"ㅗ\")  \n",
    "\n",
    "\n",
    "\n",
    "\n",
    "result = a+b\n",
    "\n",
    "if result > 500:\n",
    "    print('angry')\n",
    "elif result <= 500:\n",
    "    print('no angry')\n",
    "\n"
   ]
  },
  {
   "cell_type": "markdown",
   "id": "387af1d0",
   "metadata": {},
   "source": [
    "## 1212 : 삼각형의 성립 조건\n",
    "세 개의 직선이 있다.\n",
    "\n",
    "숫자의 의미는 직선의 길이를 말한다.\n",
    "\n",
    "이 직선으로 삼각형을 만들 수 있는지 판단하는 프로그램을 작성하시오.\n",
    "\n",
    "삼각형의 성립 조건)\n",
    "\n",
    "a, b, c 가 변의 길이이고 c가 제일 긴 길이라고 한다면\n",
    "\n",
    "c < a + b 이면 삼각형이 성립됨."
   ]
  },
  {
   "cell_type": "code",
   "execution_count": 8,
   "id": "7ce80347",
   "metadata": {},
   "outputs": [
    {
     "name": "stdout",
     "output_type": "stream",
     "text": [
      "2 3 4\n",
      "yes\n"
     ]
    }
   ],
   "source": [
    "a, b, c =map(int,input().split())\n",
    "\n",
    "if max(a,b,c) < a+b+c-max(a,b,c):\n",
    "    print(\"yes\")\n",
    "else:\n",
    "    print(\"no\")\n",
    "\n"
   ]
  },
  {
   "cell_type": "markdown",
   "id": "0abf80c8",
   "metadata": {},
   "source": [
    "## 1214 : 이 달은 며칠까지 있을까?\n",
    "철수와 영희는 한 사람이 특정 월(month)을 지목하면 나머지 사람이 그 달의 마지막 날이 며칠인지 알아맞히는 게임을 하였다. 두 사람 모두 처음엔 서툴렀지만 게임을 계속하다 보니 금방 익숙해졌다. 그래서 게임의 규칙을 조금 어렵게 바꿔 연도와 월을 말하면 그 달의 마지막 날이 며칠인지 알아맞히기로 하였다.\n",
    "\n",
    " \n",
    "\n",
    "이 규칙이 어려운 이유는 2월이 윤달이 있기 때문이다.\n",
    "\n",
    "2월이 29일인 해를 윤년이라고 하는데, 윤년의 판단은 아래 두 조건 중 하나만 만족하면 된다.\n",
    "\n",
    " \n",
    "\n",
    "- 조건 1 : 400의 배수인 해는 모두 윤년이다.\n",
    "\n",
    "- 조건 2 : 4의 배수인 해들 중 100의 배수가 아닌 해들은 모두 윤년이다.\n",
    "\n",
    " \n",
    "\n",
    "연도와 월을 알고 있을 때 그 달의 마지막 날을 구하는 프로그램을 작성하시오."
   ]
  },
  {
   "cell_type": "code",
   "execution_count": 22,
   "id": "8d245f04",
   "metadata": {},
   "outputs": [
    {
     "name": "stdout",
     "output_type": "stream",
     "text": [
      "2004 2\n",
      "29\n"
     ]
    }
   ],
   "source": [
    "y,m = map(int,input().split())\n",
    "\n",
    "yoon = [31,29,31,30,31,30,31,31,30,31,30,31]\n",
    "no_yoon = [31,28,31,30,31,30,31,31,30,31,30,31]\n",
    "\n",
    "if y%400==0 or y%4==0 and y%100!=0:\n",
    "    print(yoon[m-1])\n",
    "else:\n",
    "    print(no_yoon[m-1])"
   ]
  }
 ],
 "metadata": {
  "kernelspec": {
   "display_name": "Python 3 (ipykernel)",
   "language": "python",
   "name": "python3"
  },
  "language_info": {
   "codemirror_mode": {
    "name": "ipython",
    "version": 3
   },
   "file_extension": ".py",
   "mimetype": "text/x-python",
   "name": "python",
   "nbconvert_exporter": "python",
   "pygments_lexer": "ipython3",
   "version": "3.9.7"
  }
 },
 "nbformat": 4,
 "nbformat_minor": 5
}
