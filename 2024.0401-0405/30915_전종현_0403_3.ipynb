{
 "cells": [
  {
   "cell_type": "markdown",
   "id": "9021d442",
   "metadata": {},
   "source": [
    "## 30915_전종현_0403_3"
   ]
  },
  {
   "cell_type": "markdown",
   "id": "a8585408",
   "metadata": {},
   "source": [
    "본 문제는 python 의 빠른 기초 학습을 위해 설계된 문제로서 python 코드 제출을 기준으로 설명되어 있습니다. \n",
    "------\n",
    "\n",
    "어떤 규칙에 따라 수를 순서대로 나열한 것을 수열(sequences)이라고 한다.\n",
    "\n",
    "예를 들어\n",
    "1 4 7 10 13 16 19 22 25 ... 은\n",
    "1부터 시작해 이전에 만든 수에 3을 더해 다음 수를 만든 수열이다.\n",
    "이러한 것을 수학에서는 앞뒤 수들의 차이가 같다고 하여\n",
    "\n",
    "등차(차이가 같다의 한문 말) 수열이라고 한다. (등차수열 : arithmetic progression/sequence)\n",
    "수열을 알게 된 영일이는 갑자기 궁금해졌다.\n",
    "\n",
    "\"그럼.... 123번째 나오는 수는 뭘까?\"\n",
    "\n",
    "영일이는 프로그램을 만들어 더 큰 수도 자동으로 계산하고 싶어졌다.\n",
    "\n",
    "시작 값(a), 등차(d), 몇 번째인지를 나타내는 정수(n)가 입력될 때\n",
    "n번째 수를 출력하는 프로그램을 만들어보자."
   ]
  },
  {
   "cell_type": "code",
   "execution_count": 10,
   "id": "edb236c6",
   "metadata": {},
   "outputs": [
    {
     "name": "stdout",
     "output_type": "stream",
     "text": [
      "1 3 5\n",
      "13\n"
     ]
    }
   ],
   "source": [
    "a,d,n = map(int,input().split())\n",
    "\n",
    "s=a\n",
    "for i in range(2, n+1):\n",
    "    s+=d\n",
    "\n",
    "print(s)"
   ]
  },
  {
   "cell_type": "markdown",
   "id": "542fe521",
   "metadata": {},
   "source": [
    "본 문제는 python 의 빠른 기초 학습을 위해 설계된 문제로서 python 코드 제출을 기준으로 설명되어 있습니다. \n",
    "------\n",
    "\n",
    "어떤 규칙에 따라 수를 순서대로 나열한 것을 수열(sequences)이라고 한다.\n",
    "\n",
    "예를 들어\n",
    "2 6 18 54 162 486 ... 은\n",
    "2부터 시작해 이전에 만든 수에 3을 곱해 다음 수를 만든 수열이다.\n",
    "\n",
    "이러한 것을 수학에서는 앞뒤 수들의 비율이 같다고 하여\n",
    "등비(비율이 같다의 한문 말) 수열이라고 한다. (등비수열 : geometric progression/sequence)\n",
    "\n",
    "등비 수열을 알게된 영일이는 갑자기 궁금해졌다.\n",
    "\"그럼.... 13번째 나오는 수는 뭘까?\"\n",
    "영일이는 프로그램을 만들어 더 큰 수도 자동으로 계산하고 싶어졌다.\n",
    "\n",
    "시작 값(a), 등비(r), 몇 번째인지를 나타내는 정수(n)가 입력될 때\n",
    "n번째 수를 출력하는 프로그램을 만들어보자.\n"
   ]
  },
  {
   "cell_type": "code",
   "execution_count": 22,
   "id": "f71b6cad",
   "metadata": {},
   "outputs": [
    {
     "name": "stdout",
     "output_type": "stream",
     "text": [
      "2 3 7\n",
      "1458\n"
     ]
    }
   ],
   "source": [
    "a,r,n = map(int,input().split())\n",
    "\n",
    "while True:\n",
    "    print(a*r**(n-1))\n",
    "    break"
   ]
  },
  {
   "cell_type": "markdown",
   "id": "0a884010",
   "metadata": {},
   "source": [
    "본 문제는 python 의 빠른 기초 학습을 위해 설계된 문제로서 python 코드 제출을 기준으로 설명되어 있습니다. \n",
    "------\n",
    "\n",
    "어떤 규칙에 따라 수를 순서대로 나열한 것을 수열(sequences)이라고 한다.\n",
    "\n",
    "예를 들어\n",
    "1 -1 3 -5 11 -21 43 ... 은\n",
    "1부터 시작해 이전에 만든 수에 -2를 곱한 다음 1을 더해 다음 수를 만든 수열이다.\n",
    "\n",
    "이런 이상한 수열을 알게 된 영일이는 또 궁금해졌다.\n",
    "\"그럼.... 13번째 나오는 수는 뭘까?\"\n",
    "\n",
    "영일이는 물론 수학을 아주 잘하지만 이런 문제는 본 적이 거의 없었다...\n",
    "그래서 프로그램을 만들어 더 큰 수도 자동으로 계산하고 싶어졌다.\n",
    "\n",
    "시작 값(a), 곱할 값(m), 더할 값(d), 몇 번째인지를 나타내는 정수(n)가 입력될 때,\n",
    "n번째 수를 출력하는 프로그램을 만들어보자."
   ]
  },
  {
   "cell_type": "code",
   "execution_count": 52,
   "id": "b6d479d7",
   "metadata": {},
   "outputs": [
    {
     "name": "stdout",
     "output_type": "stream",
     "text": [
      "1 -2 1 8\n",
      "-85\n"
     ]
    }
   ],
   "source": [
    "a,m,d,n = map(int,input().split())\n",
    "\n",
    "s=a\n",
    "for i in range(n-1):\n",
    "    s=s*m+d\n",
    "\n",
    "print(s)"
   ]
  }
 ],
 "metadata": {
  "kernelspec": {
   "display_name": "Python 3 (ipykernel)",
   "language": "python",
   "name": "python3"
  },
  "language_info": {
   "codemirror_mode": {
    "name": "ipython",
    "version": 3
   },
   "file_extension": ".py",
   "mimetype": "text/x-python",
   "name": "python",
   "nbconvert_exporter": "python",
   "pygments_lexer": "ipython3",
   "version": "3.10.9"
  }
 },
 "nbformat": 4,
 "nbformat_minor": 5
}
