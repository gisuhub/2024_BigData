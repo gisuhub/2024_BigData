{
 "cells": [
  {
   "cell_type": "markdown",
   "id": "dc738216",
   "metadata": {},
   "source": [
    "# 1180 : 만능 휴지통\n",
    "민호는 발명을 되게 좋아하고, 컴퓨터 프로그램도 되게 좋아한다.\n",
    "\n",
    "어느 날 민호는 컴퓨터를 사용하던 중 휴지통이 꽉 차서 불편을 느꼈다.\n",
    "\n",
    "그래서 휴지통이 n만큼 차면 알아서 쓰레기를 압축해주는 휴지통을 만들려고 한다.\n",
    "\n",
    "이 때 압축하는 알고리즘은 다음과 같다.\n",
    "\n",
    "10의 자릿수와 1의 자릿수를 서로 바꾸고, 거기에 2를 곱한다.\n",
    "\n",
    "예) 70일 경우 14가 된다.( 70 -> 07 -> 14 )\n",
    "\n",
    "이 알고리즘은 때로는 부작용을 일으켜 휴지통의 내용이 더 많아 질지도 모른다.\n",
    "\n",
    "만약 이 알고리즘의 심각한 부작용으로 수치가 100이 넘는다면 100의 자릿수는 무시된다."
   ]
  },
  {
   "cell_type": "code",
   "execution_count": 9,
   "id": "2ff64b3f",
   "metadata": {},
   "outputs": [
    {
     "name": "stdout",
     "output_type": "stream",
     "text": [
      "99\n",
      "98\n",
      "OH MY GOD\n"
     ]
    }
   ],
   "source": [
    "n = int(input(\"\"))\n",
    "\n",
    "one_p = n%10\n",
    "ten_p = n//10\n",
    "\n",
    "one_ten = one_p*10 + ten_p\n",
    "\n",
    "one_ten *= 2\n",
    "\n",
    "if one_ten >=100:\n",
    "    one_ten %= 100\n",
    "\n",
    "\n",
    "print(one_ten)\n",
    "if one_ten <= 50:\n",
    "    print(\"GOOD\")\n",
    "elif one_ten > 50:\n",
    "    print(\"OH MY GOD\")"
   ]
  },
  {
   "cell_type": "markdown",
   "id": "895a2520",
   "metadata": {},
   "source": [
    "# 1202 : 등급 판정\n",
    "재호는 이번 시험에 받은 성적이 궁금했다.\n",
    "\n",
    "점수가 입력되면 등급을 출력하시오.\n",
    "\n",
    "등급)\n",
    "\n",
    " 90점 이상 : A\n",
    "\n",
    "80점 이상 : B\n",
    "\n",
    "70점 이상 : C\n",
    "\n",
    "60점 이상 : D\n",
    "\n",
    "60점 미만 : F"
   ]
  },
  {
   "cell_type": "code",
   "execution_count": 11,
   "id": "9ef72ccb",
   "metadata": {},
   "outputs": [
    {
     "name": "stdout",
     "output_type": "stream",
     "text": [
      "60\n",
      "D\n"
     ]
    }
   ],
   "source": [
    "n = int(input(\"\"))\n",
    "\n",
    "if n >= 90:\n",
    "    print(\"A\")\n",
    "elif n >=80:\n",
    "    print(\"B\")\n",
    "elif n >=70:\n",
    "    print(\"C\")\n",
    "elif n >=60:\n",
    "    print(\"D\")\n",
    "elif n < 60:\n",
    "    print(\"F\")"
   ]
  },
  {
   "cell_type": "markdown",
   "id": "5462886e",
   "metadata": {},
   "source": [
    "# 1203 : 비만도 측정 0\n",
    "비만을 판단하기 위해서 BMI 수치가 필요하다.\n",
    "\n",
    "BMI 수치가 입력되면 비만을 판단하시오.\n",
    "\n",
    "* BMI에 따른 비만 판정\n",
    "\n",
    "BMI 수치\t비만 판정\n",
    "~10 이하\t정상\n",
    "~20 이하\t과체중\n",
    "20 초과\t비만\n",
    " "
   ]
  },
  {
   "cell_type": "code",
   "execution_count": 13,
   "id": "33ae5389",
   "metadata": {},
   "outputs": [
    {
     "name": "stdout",
     "output_type": "stream",
     "text": [
      "21\n",
      "비만\n"
     ]
    }
   ],
   "source": [
    "bmi = int(input(\"\"))\n",
    "\n",
    "if bmi <=10 :\n",
    "    print(\"정상\")\n",
    "elif bmi <=20:\n",
    "    print(\"과체중\")\n",
    "elif bmi > 20:\n",
    "    print(\"비만\")\n"
   ]
  },
  {
   "cell_type": "markdown",
   "id": "57ce383c",
   "metadata": {},
   "source": [
    "# 1204 : 영어 서수로 표현하기\n",
    "영어로 서수를 표현할 때 다음과 같이 나타낸다.\n",
    "\n",
    "1st  2nd  3rd  4th  5th  6th  ... 10th\n",
    "\n",
    "11th 12th 13th 14th 15th  ...  20th\n",
    "\n",
    "21st 22nd 23rd 24th 25th  ...  30th\n",
    "\n",
    "31st 32nd 33rd 34th 35th  ...  40th\n",
    "\n",
    "41st 42nd 43rd 44th 45th  ...  50th\n",
    "\n",
    "...\n",
    "\n",
    "91st 92nd 93rd 94th 95th  ...  99th\n",
    "\n",
    " \n",
    "\n",
    "1~99 중 하나가 숫자가 입력되면 영어 서수 표현을 출력하시오."
   ]
  },
  {
   "cell_type": "code",
   "execution_count": 39,
   "id": "0e4a3dc8",
   "metadata": {},
   "outputs": [
    {
     "name": "stdout",
     "output_type": "stream",
     "text": [
      "10\n",
      "10th\n"
     ]
    }
   ],
   "source": [
    "n = int(input(\"\"))\n",
    "\n",
    "eng_n = n%10\n",
    "\n",
    "if eng_n == 1:\n",
    "    if n == 11:\n",
    "        print(f\"{n}th\")\n",
    "    else:\n",
    "        print(f\"{n}st\")\n",
    "elif eng_n == 2:\n",
    "    if n == 12:\n",
    "        print(f\"{n}th\")\n",
    "    else:\n",
    "        print(f\"{n}nd\")\n",
    "elif eng_n == 3:\n",
    "    if n == 13:\n",
    "        print(f\"{n}th\")\n",
    "    else:\n",
    "        print(f\"{n}rd\")  \n",
    "elif eng_n >= 4:\n",
    "    print(f\"{n}th\")\n",
    "else :\n",
    "    print(f\"{n}th\")"
   ]
  },
  {
   "cell_type": "code",
   "execution_count": null,
   "id": "8f9994f2",
   "metadata": {},
   "outputs": [],
   "source": []
  }
 ],
 "metadata": {
  "kernelspec": {
   "display_name": "Python 3 (ipykernel)",
   "language": "python",
   "name": "python3"
  },
  "language_info": {
   "codemirror_mode": {
    "name": "ipython",
    "version": 3
   },
   "file_extension": ".py",
   "mimetype": "text/x-python",
   "name": "python",
   "nbconvert_exporter": "python",
   "pygments_lexer": "ipython3",
   "version": "3.9.7"
  }
 },
 "nbformat": 4,
 "nbformat_minor": 5
}
