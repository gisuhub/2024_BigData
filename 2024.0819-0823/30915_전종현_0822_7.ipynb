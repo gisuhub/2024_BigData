{
 "cells": [
  {
   "cell_type": "markdown",
   "id": "9001e1f5",
   "metadata": {},
   "source": [
    "# 1168 : 나이 계산 1\n",
    "주민등록번호는 생년월일과 성별정보, 지역정보로 이루어진다.\n",
    "\n",
    "여기서 생년월일과 성별정보만 입력으로 받겠다.\n",
    "\n",
    "성별 정보는 1이면 1900년대 출생 남자, 2이면 1900년대 출생 여자, 3이면 2000년대 출생 남자, 4이면 2000년대 출생 여자를 말한다.\n",
    "\n",
    "기준년도는 2012년도이다. 현재 나이를 출력하시오. \n",
    "\n",
    "예)\n",
    "\n",
    "790101 1        =====> 성별정보가 1이므로, 1979년생, 34살이다.\n",
    "\n",
    "080521 4        =====>  성별정보가 4이므로, 2008년생,  5살이다."
   ]
  },
  {
   "cell_type": "code",
   "execution_count": 19,
   "id": "7a7f69e8",
   "metadata": {},
   "outputs": [
    {
     "name": "stdout",
     "output_type": "stream",
     "text": [
      "080101 3\n",
      "5\n"
     ]
    }
   ],
   "source": [
    "x = input(\"\")\n",
    "\n",
    "if x[7] == '1'or x[7] == '2' :\n",
    "    y = int(x[0:2])+1900\n",
    "    age = 2012-y+1\n",
    "    print(age)\n",
    "elif x[7] == '3'or x[7] == '4':\n",
    "    y = int(x[0:2])+2000\n",
    "    age = 2012-y+1\n",
    "    print(age)"
   ]
  },
  {
   "cell_type": "markdown",
   "id": "d8a330dc",
   "metadata": {},
   "source": [
    "# 1169 : 나이 계산 2\n",
    "어느 날 한솔이는 혜인이에게 자기가 18살이니 몇 년도에 태어 났는지 맞춰 보라고 했다.\n",
    "\n",
    "혜인이는 초능력(?)을 발휘해서 한솔이가 몇 년 생인지 한 번에 맞추었다.\n",
    "\n",
    "한솔이는 깜짝 놀라 셔플 댄스를 추면서 그 자리에서 쓰러지고 말았다.\n",
    "\n",
    "보다시피 혜인이는 사람의 나이를 알면 출생년도를 마추는 신기한(?) 재주를 가지고 있다.\n",
    "\n",
    "나이가 주어지면 몇 년도에 태어났는지를 출력하시오. (나이는 2012년도 기준입니다.)\n",
    "\n",
    "단, 출력할 때 년도 4자리 중 뒤의 두자리만 출력하고, 한 칸 띄운 후 1900년도 출생이면 1을 출력, 2000년대 출생이면 3을 출력하시오.\n",
    "\n",
    "예) 18살이면 1995년생이므로 95 1을 출력한다."
   ]
  },
  {
   "cell_type": "code",
   "execution_count": 33,
   "id": "6245bd95",
   "metadata": {},
   "outputs": [
    {
     "name": "stdout",
     "output_type": "stream",
     "text": [
      "9\n",
      "4 3\n"
     ]
    }
   ],
   "source": [
    "age = int(input())\n",
    "rage = 2012-age+1\n",
    "rage = str(rage)\n",
    "if rage[0] == '1':\n",
    "    y2 = rage[2:4]\n",
    "    k = 1\n",
    "if rage[0] == '2':\n",
    "    y2 = rage[2:4]\n",
    "    k = 3\n",
    "    \n",
    "print(int(y2), k)"
   ]
  },
  {
   "cell_type": "markdown",
   "id": "d9debe5c",
   "metadata": {},
   "source": [
    "# 1170 : 당신의 학번은? 1\n",
    "학번을 입력 받아 다음 형식으로 출력하시오.\n",
    "\n",
    "학번은 학년, 반, 번호로 입력된다.\n",
    "\n",
    "예)\n",
    "\n",
    "2 3 27   =====>    2327로 출력\n",
    "\n",
    "2 3 7   ======> 2307로 출력   (번호가 10번미만이면 0을 붙여 출력)"
   ]
  },
  {
   "cell_type": "code",
   "execution_count": 40,
   "id": "f244b045",
   "metadata": {},
   "outputs": [
    {
     "name": "stdout",
     "output_type": "stream",
     "text": [
      "3 1 2\n",
      "('0', 2)\n"
     ]
    }
   ],
   "source": [
    "a,b,c = map(int,input().split())\n",
    "\n",
    "\n",
    "\n",
    "\n"
   ]
  },
  {
   "cell_type": "code",
   "execution_count": null,
   "id": "b0b986ea",
   "metadata": {},
   "outputs": [],
   "source": []
  }
 ],
 "metadata": {
  "kernelspec": {
   "display_name": "Python 3 (ipykernel)",
   "language": "python",
   "name": "python3"
  },
  "language_info": {
   "codemirror_mode": {
    "name": "ipython",
    "version": 3
   },
   "file_extension": ".py",
   "mimetype": "text/x-python",
   "name": "python",
   "nbconvert_exporter": "python",
   "pygments_lexer": "ipython3",
   "version": "3.9.7"
  }
 },
 "nbformat": 4,
 "nbformat_minor": 5
}
